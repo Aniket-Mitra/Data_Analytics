{
  "nbformat": 4,
  "nbformat_minor": 0,
  "metadata": {
    "colab": {
      "name": "wrangle_act.ipynb",
      "provenance": [],
      "collapsed_sections": []
    },
    "kernelspec": {
      "name": "python3",
      "display_name": "Python 3"
    }
  },
  "cells": [
    {
      "cell_type": "markdown",
      "metadata": {
        "id": "JfohznhEbmNd",
        "colab_type": "text"
      },
      "source": [
        "# Analyzing Twitter Data\n",
        "\n",
        "In this project, we wrangle the **WeRateDogs** Twitter data to create interesting and trustworthy analyses and visualizations."
      ]
    },
    {
      "cell_type": "markdown",
      "metadata": {
        "id": "pQG7WRAtflMa",
        "colab_type": "text"
      },
      "source": [
        "# Dataset Description\n",
        "\n",
        "1. **twitter-archive-enhanced.csv :** basic information regarding tweets on different dog stages.\n",
        "\n",
        "2. **image-predictions.tsv:** prediction of dog breeds from images through Deep Learning algorithm.\n",
        "\n",
        "3. **tweet-json.txt:** tweet data collected using. twitter API"
      ]
    },
    {
      "cell_type": "markdown",
      "metadata": {
        "id": "ITTQ8RxKldEb",
        "colab_type": "text"
      },
      "source": [
        "# Data Wrangling"
      ]
    },
    {
      "cell_type": "code",
      "metadata": {
        "id": "9tOYu4wKOein",
        "colab_type": "code",
        "colab": {
          "base_uri": "https://localhost:8080/",
          "height": 191
        },
        "outputId": "579a936e-ca65-4f94-c4ef-442ed9a0379d"
      },
      "source": [
        "# Reading prediction file programmatically\n",
        "import requests \n",
        "import pandas as pd\n",
        "response = requests.get('https://d17h27t6h515a5.cloudfront.net/topher/2017/August/599fd2ad_image-predictions/image-predictions.tsv')\n",
        "with open('image-predictions.tsv', mode ='wb') as file:\n",
        "    file.write(response.content)\n",
        "#Read TSV file\n",
        "pred = pd.read_csv('image-predictions.tsv', sep='\\t' )\n",
        "pred.head()"
      ],
      "execution_count": 1,
      "outputs": [
        {
          "output_type": "execute_result",
          "data": {
            "text/html": [
              "<div>\n",
              "<style scoped>\n",
              "    .dataframe tbody tr th:only-of-type {\n",
              "        vertical-align: middle;\n",
              "    }\n",
              "\n",
              "    .dataframe tbody tr th {\n",
              "        vertical-align: top;\n",
              "    }\n",
              "\n",
              "    .dataframe thead th {\n",
              "        text-align: right;\n",
              "    }\n",
              "</style>\n",
              "<table border=\"1\" class=\"dataframe\">\n",
              "  <thead>\n",
              "    <tr style=\"text-align: right;\">\n",
              "      <th></th>\n",
              "      <th>tweet_id</th>\n",
              "      <th>jpg_url</th>\n",
              "      <th>img_num</th>\n",
              "      <th>p1</th>\n",
              "      <th>p1_conf</th>\n",
              "      <th>p1_dog</th>\n",
              "      <th>p2</th>\n",
              "      <th>p2_conf</th>\n",
              "      <th>p2_dog</th>\n",
              "      <th>p3</th>\n",
              "      <th>p3_conf</th>\n",
              "      <th>p3_dog</th>\n",
              "    </tr>\n",
              "  </thead>\n",
              "  <tbody>\n",
              "    <tr>\n",
              "      <th>0</th>\n",
              "      <td>666020888022790149</td>\n",
              "      <td>https://pbs.twimg.com/media/CT4udn0WwAA0aMy.jpg</td>\n",
              "      <td>1</td>\n",
              "      <td>Welsh_springer_spaniel</td>\n",
              "      <td>0.465074</td>\n",
              "      <td>True</td>\n",
              "      <td>collie</td>\n",
              "      <td>0.156665</td>\n",
              "      <td>True</td>\n",
              "      <td>Shetland_sheepdog</td>\n",
              "      <td>0.061428</td>\n",
              "      <td>True</td>\n",
              "    </tr>\n",
              "    <tr>\n",
              "      <th>1</th>\n",
              "      <td>666029285002620928</td>\n",
              "      <td>https://pbs.twimg.com/media/CT42GRgUYAA5iDo.jpg</td>\n",
              "      <td>1</td>\n",
              "      <td>redbone</td>\n",
              "      <td>0.506826</td>\n",
              "      <td>True</td>\n",
              "      <td>miniature_pinscher</td>\n",
              "      <td>0.074192</td>\n",
              "      <td>True</td>\n",
              "      <td>Rhodesian_ridgeback</td>\n",
              "      <td>0.072010</td>\n",
              "      <td>True</td>\n",
              "    </tr>\n",
              "    <tr>\n",
              "      <th>2</th>\n",
              "      <td>666033412701032449</td>\n",
              "      <td>https://pbs.twimg.com/media/CT4521TWwAEvMyu.jpg</td>\n",
              "      <td>1</td>\n",
              "      <td>German_shepherd</td>\n",
              "      <td>0.596461</td>\n",
              "      <td>True</td>\n",
              "      <td>malinois</td>\n",
              "      <td>0.138584</td>\n",
              "      <td>True</td>\n",
              "      <td>bloodhound</td>\n",
              "      <td>0.116197</td>\n",
              "      <td>True</td>\n",
              "    </tr>\n",
              "    <tr>\n",
              "      <th>3</th>\n",
              "      <td>666044226329800704</td>\n",
              "      <td>https://pbs.twimg.com/media/CT5Dr8HUEAA-lEu.jpg</td>\n",
              "      <td>1</td>\n",
              "      <td>Rhodesian_ridgeback</td>\n",
              "      <td>0.408143</td>\n",
              "      <td>True</td>\n",
              "      <td>redbone</td>\n",
              "      <td>0.360687</td>\n",
              "      <td>True</td>\n",
              "      <td>miniature_pinscher</td>\n",
              "      <td>0.222752</td>\n",
              "      <td>True</td>\n",
              "    </tr>\n",
              "    <tr>\n",
              "      <th>4</th>\n",
              "      <td>666049248165822465</td>\n",
              "      <td>https://pbs.twimg.com/media/CT5IQmsXIAAKY4A.jpg</td>\n",
              "      <td>1</td>\n",
              "      <td>miniature_pinscher</td>\n",
              "      <td>0.560311</td>\n",
              "      <td>True</td>\n",
              "      <td>Rottweiler</td>\n",
              "      <td>0.243682</td>\n",
              "      <td>True</td>\n",
              "      <td>Doberman</td>\n",
              "      <td>0.154629</td>\n",
              "      <td>True</td>\n",
              "    </tr>\n",
              "  </tbody>\n",
              "</table>\n",
              "</div>"
            ],
            "text/plain": [
              "             tweet_id  ... p3_dog\n",
              "0  666020888022790149  ...   True\n",
              "1  666029285002620928  ...   True\n",
              "2  666033412701032449  ...   True\n",
              "3  666044226329800704  ...   True\n",
              "4  666049248165822465  ...   True\n",
              "\n",
              "[5 rows x 12 columns]"
            ]
          },
          "metadata": {
            "tags": []
          },
          "execution_count": 1
        }
      ]
    },
    {
      "cell_type": "markdown",
      "metadata": {
        "id": "fwNFRsIXl2Ce",
        "colab_type": "text"
      },
      "source": [
        "**Quality Issues:**\n",
        "\n",
        "1. We will consider the most liklihood prediction as it has the highest chances of being correct. So we do not need other prediction columns, it will reduce space and no. of features of our data and make it cleaner.\n",
        "\n",
        "2. We not need the **img_num** feature as it is irrelevant for our analysis of **WeRateDogs** Twitter data. Since we are more interested in dog breeds, stages, popularity of post, rating of post etc. Whether the post had 1 or more pictures (*which is what **img_num** denotes*) is irrelevant.\n",
        "\n",
        "**Tidliness Issue:**\n",
        "\n",
        "This data is quite tidy."
      ]
    },
    {
      "cell_type": "code",
      "metadata": {
        "id": "_1tXIeTzzDmr",
        "colab_type": "code",
        "colab": {
          "base_uri": "https://localhost:8080/",
          "height": 326
        },
        "outputId": "882ad1ee-40f2-449b-d575-d96fb0d8e2d6"
      },
      "source": [
        "# checking datatype and missing values\n",
        "pred.info()"
      ],
      "execution_count": 2,
      "outputs": [
        {
          "output_type": "stream",
          "text": [
            "<class 'pandas.core.frame.DataFrame'>\n",
            "RangeIndex: 2075 entries, 0 to 2074\n",
            "Data columns (total 12 columns):\n",
            " #   Column    Non-Null Count  Dtype  \n",
            "---  ------    --------------  -----  \n",
            " 0   tweet_id  2075 non-null   int64  \n",
            " 1   jpg_url   2075 non-null   object \n",
            " 2   img_num   2075 non-null   int64  \n",
            " 3   p1        2075 non-null   object \n",
            " 4   p1_conf   2075 non-null   float64\n",
            " 5   p1_dog    2075 non-null   bool   \n",
            " 6   p2        2075 non-null   object \n",
            " 7   p2_conf   2075 non-null   float64\n",
            " 8   p2_dog    2075 non-null   bool   \n",
            " 9   p3        2075 non-null   object \n",
            " 10  p3_conf   2075 non-null   float64\n",
            " 11  p3_dog    2075 non-null   bool   \n",
            "dtypes: bool(3), float64(3), int64(2), object(4)\n",
            "memory usage: 152.1+ KB\n"
          ],
          "name": "stdout"
        }
      ]
    },
    {
      "cell_type": "code",
      "metadata": {
        "id": "U1CjCFn8y6e9",
        "colab_type": "code",
        "colab": {
          "base_uri": "https://localhost:8080/",
          "height": 33
        },
        "outputId": "e8334d33-1eaa-462b-f36f-49c2039728b4"
      },
      "source": [
        "# Checking unique values of p1_dog column\n",
        "pred.p1_dog.unique()"
      ],
      "execution_count": 3,
      "outputs": [
        {
          "output_type": "execute_result",
          "data": {
            "text/plain": [
              "array([ True, False])"
            ]
          },
          "metadata": {
            "tags": []
          },
          "execution_count": 3
        }
      ]
    },
    {
      "cell_type": "code",
      "metadata": {
        "id": "MeUai4GozCIK",
        "colab_type": "code",
        "colab": {
          "base_uri": "https://localhost:8080/",
          "height": 300
        },
        "outputId": "afef4416-7460-4960-ed56-98eb6eea9169"
      },
      "source": [
        "import seaborn as sns\n",
        "ax=sns.violinplot(data=pred,y='p1_conf')\n",
        "t=ax.set_title('Distribution of confidence liklihood of p1')"
      ],
      "execution_count": 4,
      "outputs": [
        {
          "output_type": "stream",
          "text": [
            "/usr/local/lib/python3.6/dist-packages/statsmodels/tools/_testing.py:19: FutureWarning: pandas.util.testing is deprecated. Use the functions in the public API at pandas.testing instead.\n",
            "  import pandas.util.testing as tm\n"
          ],
          "name": "stderr"
        },
        {
          "output_type": "display_data",
          "data": {
            "image/png": "[encoded data removed]",
            "text/plain": [
              "<Figure size 432x288 with 1 Axes>"
            ]
          },
          "metadata": {
            "tags": [],
            "needs_background": "light"
          }
        }
      ]
    },
    {
      "cell_type": "code",
      "metadata": {
        "id": "I2Ghh496wqAf",
        "colab_type": "code",
        "colab": {}
      },
      "source": [
        "# choosing the final features to use\n",
        "pred1=pred.iloc[:,:6].drop(['img_num'],axis=1)"
      ],
      "execution_count": 5,
      "outputs": []
    },
    {
      "cell_type": "code",
      "metadata": {
        "id": "Rz7ZkB55lLj5",
        "colab_type": "code",
        "colab": {
          "base_uri": "https://localhost:8080/",
          "height": 191
        },
        "outputId": "c0a156c9-dd1f-4d44-c272-5d45f1554ab8"
      },
      "source": [
        "pred1.head()"
      ],
      "execution_count": 6,
      "outputs": [
        {
          "output_type": "execute_result",
          "data": {
            "text/html": [
              "<div>\n",
              "<style scoped>\n",
              "    .dataframe tbody tr th:only-of-type {\n",
              "        vertical-align: middle;\n",
              "    }\n",
              "\n",
              "    .dataframe tbody tr th {\n",
              "        vertical-align: top;\n",
              "    }\n",
              "\n",
              "    .dataframe thead th {\n",
              "        text-align: right;\n",
              "    }\n",
              "</style>\n",
              "<table border=\"1\" class=\"dataframe\">\n",
              "  <thead>\n",
              "    <tr style=\"text-align: right;\">\n",
              "      <th></th>\n",
              "      <th>tweet_id</th>\n",
              "      <th>jpg_url</th>\n",
              "      <th>p1</th>\n",
              "      <th>p1_conf</th>\n",
              "      <th>p1_dog</th>\n",
              "    </tr>\n",
              "  </thead>\n",
              "  <tbody>\n",
              "    <tr>\n",
              "      <th>0</th>\n",
              "      <td>666020888022790149</td>\n",
              "      <td>https://pbs.twimg.com/media/CT4udn0WwAA0aMy.jpg</td>\n",
              "      <td>Welsh_springer_spaniel</td>\n",
              "      <td>0.465074</td>\n",
              "      <td>True</td>\n",
              "    </tr>\n",
              "    <tr>\n",
              "      <th>1</th>\n",
              "      <td>666029285002620928</td>\n",
              "      <td>https://pbs.twimg.com/media/CT42GRgUYAA5iDo.jpg</td>\n",
              "      <td>redbone</td>\n",
              "      <td>0.506826</td>\n",
              "      <td>True</td>\n",
              "    </tr>\n",
              "    <tr>\n",
              "      <th>2</th>\n",
              "      <td>666033412701032449</td>\n",
              "      <td>https://pbs.twimg.com/media/CT4521TWwAEvMyu.jpg</td>\n",
              "      <td>German_shepherd</td>\n",
              "      <td>0.596461</td>\n",
              "      <td>True</td>\n",
              "    </tr>\n",
              "    <tr>\n",
              "      <th>3</th>\n",
              "      <td>666044226329800704</td>\n",
              "      <td>https://pbs.twimg.com/media/CT5Dr8HUEAA-lEu.jpg</td>\n",
              "      <td>Rhodesian_ridgeback</td>\n",
              "      <td>0.408143</td>\n",
              "      <td>True</td>\n",
              "    </tr>\n",
              "    <tr>\n",
              "      <th>4</th>\n",
              "      <td>666049248165822465</td>\n",
              "      <td>https://pbs.twimg.com/media/CT5IQmsXIAAKY4A.jpg</td>\n",
              "      <td>miniature_pinscher</td>\n",
              "      <td>0.560311</td>\n",
              "      <td>True</td>\n",
              "    </tr>\n",
              "  </tbody>\n",
              "</table>\n",
              "</div>"
            ],
            "text/plain": [
              "             tweet_id  ... p1_dog\n",
              "0  666020888022790149  ...   True\n",
              "1  666029285002620928  ...   True\n",
              "2  666033412701032449  ...   True\n",
              "3  666044226329800704  ...   True\n",
              "4  666049248165822465  ...   True\n",
              "\n",
              "[5 rows x 5 columns]"
            ]
          },
          "metadata": {
            "tags": []
          },
          "execution_count": 6
        }
      ]
    },
    {
      "cell_type": "code",
      "metadata": {
        "id": "mas_dVVFQPwK",
        "colab_type": "code",
        "colab": {
          "base_uri": "https://localhost:8080/",
          "height": 552
        },
        "outputId": "4a25e369-8b4b-44c2-d328-335a68c22238"
      },
      "source": [
        "# Reading WeRateDogs archived twitter data\n",
        "ta=pd.read_csv('twitter-archive-enhanced.csv')\n",
        "ta.head()"
      ],
      "execution_count": 7,
      "outputs": [
        {
          "output_type": "execute_result",
          "data": {
            "text/html": [
              "<div>\n",
              "<style scoped>\n",
              "    .dataframe tbody tr th:only-of-type {\n",
              "        vertical-align: middle;\n",
              "    }\n",
              "\n",
              "    .dataframe tbody tr th {\n",
              "        vertical-align: top;\n",
              "    }\n",
              "\n",
              "    .dataframe thead th {\n",
              "        text-align: right;\n",
              "    }\n",
              "</style>\n",
              "<table border=\"1\" class=\"dataframe\">\n",
              "  <thead>\n",
              "    <tr style=\"text-align: right;\">\n",
              "      <th></th>\n",
              "      <th>tweet_id</th>\n",
              "      <th>in_reply_to_status_id</th>\n",
              "      <th>in_reply_to_user_id</th>\n",
              "      <th>timestamp</th>\n",
              "      <th>source</th>\n",
              "      <th>text</th>\n",
              "      <th>retweeted_status_id</th>\n",
              "      <th>retweeted_status_user_id</th>\n",
              "      <th>retweeted_status_timestamp</th>\n",
              "      <th>expanded_urls</th>\n",
              "      <th>rating_numerator</th>\n",
              "      <th>rating_denominator</th>\n",
              "      <th>name</th>\n",
              "      <th>doggo</th>\n",
              "      <th>floofer</th>\n",
              "      <th>pupper</th>\n",
              "      <th>puppo</th>\n",
              "    </tr>\n",
              "  </thead>\n",
              "  <tbody>\n",
              "    <tr>\n",
              "      <th>0</th>\n",
              "      <td>892420643555336193</td>\n",
              "      <td>NaN</td>\n",
              "      <td>NaN</td>\n",
              "      <td>2017-08-01 16:23:56 +0000</td>\n",
              "      <td>&lt;a href=\"http://twitter.com/download/iphone\" r...</td>\n",
              "      <td>This is Phineas. He's a mystical boy. Only eve...</td>\n",
              "      <td>NaN</td>\n",
              "      <td>NaN</td>\n",
              "      <td>NaN</td>\n",
              "      <td>https://twitter.com/dog_rates/status/892420643...</td>\n",
              "      <td>13</td>\n",
              "      <td>10</td>\n",
              "      <td>Phineas</td>\n",
              "      <td>None</td>\n",
              "      <td>None</td>\n",
              "      <td>None</td>\n",
              "      <td>None</td>\n",
              "    </tr>\n",
              "    <tr>\n",
              "      <th>1</th>\n",
              "      <td>892177421306343426</td>\n",
              "      <td>NaN</td>\n",
              "      <td>NaN</td>\n",
              "      <td>2017-08-01 00:17:27 +0000</td>\n",
              "      <td>&lt;a href=\"http://twitter.com/download/iphone\" r...</td>\n",
              "      <td>This is Tilly. She's just checking pup on you....</td>\n",
              "      <td>NaN</td>\n",
              "      <td>NaN</td>\n",
              "      <td>NaN</td>\n",
              "      <td>https://twitter.com/dog_rates/status/892177421...</td>\n",
              "      <td>13</td>\n",
              "      <td>10</td>\n",
              "      <td>Tilly</td>\n",
              "      <td>None</td>\n",
              "      <td>None</td>\n",
              "      <td>None</td>\n",
              "      <td>None</td>\n",
              "    </tr>\n",
              "    <tr>\n",
              "      <th>2</th>\n",
              "      <td>891815181378084864</td>\n",
              "      <td>NaN</td>\n",
              "      <td>NaN</td>\n",
              "      <td>2017-07-31 00:18:03 +0000</td>\n",
              "      <td>&lt;a href=\"http://twitter.com/download/iphone\" r...</td>\n",
              "      <td>This is Archie. He is a rare Norwegian Pouncin...</td>\n",
              "      <td>NaN</td>\n",
              "      <td>NaN</td>\n",
              "      <td>NaN</td>\n",
              "      <td>https://twitter.com/dog_rates/status/891815181...</td>\n",
              "      <td>12</td>\n",
              "      <td>10</td>\n",
              "      <td>Archie</td>\n",
              "      <td>None</td>\n",
              "      <td>None</td>\n",
              "      <td>None</td>\n",
              "      <td>None</td>\n",
              "    </tr>\n",
              "    <tr>\n",
              "      <th>3</th>\n",
              "      <td>891689557279858688</td>\n",
              "      <td>NaN</td>\n",
              "      <td>NaN</td>\n",
              "      <td>2017-07-30 15:58:51 +0000</td>\n",
              "      <td>&lt;a href=\"http://twitter.com/download/iphone\" r...</td>\n",
              "      <td>This is Darla. She commenced a snooze mid meal...</td>\n",
              "      <td>NaN</td>\n",
              "      <td>NaN</td>\n",
              "      <td>NaN</td>\n",
              "      <td>https://twitter.com/dog_rates/status/891689557...</td>\n",
              "      <td>13</td>\n",
              "      <td>10</td>\n",
              "      <td>Darla</td>\n",
              "      <td>None</td>\n",
              "      <td>None</td>\n",
              "      <td>None</td>\n",
              "      <td>None</td>\n",
              "    </tr>\n",
              "    <tr>\n",
              "      <th>4</th>\n",
              "      <td>891327558926688256</td>\n",
              "      <td>NaN</td>\n",
              "      <td>NaN</td>\n",
              "      <td>2017-07-29 16:00:24 +0000</td>\n",
              "      <td>&lt;a href=\"http://twitter.com/download/iphone\" r...</td>\n",
              "      <td>This is Franklin. He would like you to stop ca...</td>\n",
              "      <td>NaN</td>\n",
              "      <td>NaN</td>\n",
              "      <td>NaN</td>\n",
              "      <td>https://twitter.com/dog_rates/status/891327558...</td>\n",
              "      <td>12</td>\n",
              "      <td>10</td>\n",
              "      <td>Franklin</td>\n",
              "      <td>None</td>\n",
              "      <td>None</td>\n",
              "      <td>None</td>\n",
              "      <td>None</td>\n",
              "    </tr>\n",
              "  </tbody>\n",
              "</table>\n",
              "</div>"
            ],
            "text/plain": [
              "             tweet_id  in_reply_to_status_id  ...  pupper puppo\n",
              "0  892420643555336193                    NaN  ...    None  None\n",
              "1  892177421306343426                    NaN  ...    None  None\n",
              "2  891815181378084864                    NaN  ...    None  None\n",
              "3  891689557279858688                    NaN  ...    None  None\n",
              "4  891327558926688256                    NaN  ...    None  None\n",
              "\n",
              "[5 rows x 17 columns]"
            ]
          },
          "metadata": {
            "tags": []
          },
          "execution_count": 7
        }
      ]
    },
    {
      "cell_type": "code",
      "metadata": {
        "id": "_Xf3-C1fUZez",
        "colab_type": "code",
        "colab": {
          "base_uri": "https://localhost:8080/",
          "height": 407
        },
        "outputId": "2eb4fd97-7ebf-43e0-c488-7c52fe5d2099"
      },
      "source": [
        "ta.info()"
      ],
      "execution_count": 8,
      "outputs": [
        {
          "output_type": "stream",
          "text": [
            "<class 'pandas.core.frame.DataFrame'>\n",
            "RangeIndex: 2356 entries, 0 to 2355\n",
            "Data columns (total 17 columns):\n",
            " #   Column                      Non-Null Count  Dtype  \n",
            "---  ------                      --------------  -----  \n",
            " 0   tweet_id                    2356 non-null   int64  \n",
            " 1   in_reply_to_status_id       78 non-null     float64\n",
            " 2   in_reply_to_user_id         78 non-null     float64\n",
            " 3   timestamp                   2356 non-null   object \n",
            " 4   source                      2356 non-null   object \n",
            " 5   text                        2356 non-null   object \n",
            " 6   retweeted_status_id         181 non-null    float64\n",
            " 7   retweeted_status_user_id    181 non-null    float64\n",
            " 8   retweeted_status_timestamp  181 non-null    object \n",
            " 9   expanded_urls               2297 non-null   object \n",
            " 10  rating_numerator            2356 non-null   int64  \n",
            " 11  rating_denominator          2356 non-null   int64  \n",
            " 12  name                        2356 non-null   object \n",
            " 13  doggo                       2356 non-null   object \n",
            " 14  floofer                     2356 non-null   object \n",
            " 15  pupper                      2356 non-null   object \n",
            " 16  puppo                       2356 non-null   object \n",
            "dtypes: float64(4), int64(3), object(10)\n",
            "memory usage: 313.0+ KB\n"
          ],
          "name": "stdout"
        }
      ]
    },
    {
      "cell_type": "code",
      "metadata": {
        "id": "51Cr-QAzUoGW",
        "colab_type": "code",
        "colab": {
          "base_uri": "https://localhost:8080/",
          "height": 33
        },
        "outputId": "a4e1ce7c-7034-45cf-97ba-6c35d7b80256"
      },
      "source": [
        "# Checking the unique values of puppo column\n",
        "ta.puppo.unique()"
      ],
      "execution_count": 9,
      "outputs": [
        {
          "output_type": "execute_result",
          "data": {
            "text/plain": [
              "array(['None', 'puppo'], dtype=object)"
            ]
          },
          "metadata": {
            "tags": []
          },
          "execution_count": 9
        }
      ]
    },
    {
      "cell_type": "markdown",
      "metadata": {
        "id": "U2-9LE-mojj5",
        "colab_type": "text"
      },
      "source": [
        "As we can see that in **puppo** column there are two values- **None** and **puppo**. puppo must be present in those rows where the stage of the dog is **poppo** otherwise **None**.\n",
        "\n",
        "Same must be true for other 3 stages also."
      ]
    },
    {
      "cell_type": "code",
      "metadata": {
        "id": "uKQQSXqkXnt3",
        "colab_type": "code",
        "colab": {
          "base_uri": "https://localhost:8080/",
          "height": 33
        },
        "outputId": "2064a8e0-93b9-43d7-edab-0ca8bc7a593b"
      },
      "source": [
        "# Deleting the retweets\n",
        "ta=ta[ta.retweeted_status_id.isnull()]\n",
        "ta.shape"
      ],
      "execution_count": 10,
      "outputs": [
        {
          "output_type": "execute_result",
          "data": {
            "text/plain": [
              "(2175, 17)"
            ]
          },
          "metadata": {
            "tags": []
          },
          "execution_count": 10
        }
      ]
    },
    {
      "cell_type": "code",
      "metadata": {
        "id": "Hjn7IE2yH5dQ",
        "colab_type": "code",
        "colab": {
          "base_uri": "https://localhost:8080/",
          "height": 212
        },
        "outputId": "d5c31bef-fed0-41e2-e619-0a9e23cb79ca"
      },
      "source": [
        "# Checking the counts of different names of the dogs given by their owner.\n",
        "ta.name.value_counts()"
      ],
      "execution_count": 11,
      "outputs": [
        {
          "output_type": "execute_result",
          "data": {
            "text/plain": [
              "None       680\n",
              "a           55\n",
              "Lucy        11\n",
              "Charlie     11\n",
              "Cooper      10\n",
              "          ... \n",
              "Blipson      1\n",
              "Wiggles      1\n",
              "Hazel        1\n",
              "Sobe         1\n",
              "Jarod        1\n",
              "Name: name, Length: 956, dtype: int64"
            ]
          },
          "metadata": {
            "tags": []
          },
          "execution_count": 11
        }
      ]
    },
    {
      "cell_type": "markdown",
      "metadata": {
        "id": "jPoNaHHKqFET",
        "colab_type": "text"
      },
      "source": [
        "single letter '**a**' or others cannot be somebody's name. It might be a typo. So we will convert all the single-lettered word to None as None denotes name of dog not specified."
      ]
    },
    {
      "cell_type": "code",
      "metadata": {
        "id": "23fa2k8NmYke",
        "colab_type": "code",
        "colab": {
          "base_uri": "https://localhost:8080/",
          "height": 53
        },
        "outputId": "16af2952-799e-4169-c1e1-cb565f1f90c2"
      },
      "source": [
        "# converting single-lettered names\n",
        "import numpy as np\n",
        "k=[]\n",
        "for i in range(len(ta)):\n",
        "  if len(ta.iloc[i,-5])<=1:\n",
        "    k.append('None')\n",
        "  else:\n",
        "    k.append(ta.iloc[i,-5])\n",
        "print(k)\n",
        "ta['name']=k"
      ],
      "execution_count": 12,
      "outputs": [
        {
          "output_type": "stream",
          "text": [
            "['Phineas', 'Tilly', 'Archie', 'Darla', 'Franklin', 'None', 'Jax', 'None', 'Zoey', 'Cassie', 'Koda', 'Bruno', 'None', 'Ted', 'Stuart', 'Oliver', 'Jim', 'Zeke', 'Ralphus', 'Gerald', 'Jeffrey', 'such', 'Canela', 'None', 'None', 'Maya', 'Mingus', 'Derek', 'Roscoe', 'None', 'Waffles', 'Jimbo', 'Maisey', 'None', 'None', 'Earl', 'Lola', 'Kevin', 'None', 'None', 'Yogi', 'Noah', 'Bella', 'Grizzwald', 'None', 'Rusty', 'Gus', 'Stanley', 'Alfy', 'Koko', 'Rey', 'Gary', 'None', 'None', 'Elliot', 'Louis', 'None', 'Bella', 'Jesse', 'None', 'Romeo', 'None', 'Bailey', 'Duddles', 'Jack', 'Steven', 'Beau', 'Snoopy', 'None', 'Shadow', 'Emmy', 'Aja', 'Penny', 'Dante', 'Nelly', 'Ginger', 'None', 'Benedict', 'Venti', 'Goose', 'Nugget', 'None', 'None', 'Cash', 'Jed', 'None', 'Sebastian', 'None', 'Sierra', 'None', 'None', 'Monkey', 'None', 'Harry', 'Kody', 'Lassie', 'Rover', 'Napolean', 'None', 'Boomer', 'None', 'None', 'Cody', 'Zoey', 'Rumble', 'Clifford', 'Dewey', 'Stanley', 'Scout', 'Gizmo', 'Walter', 'None', 'Cooper', 'None', 'Harold', 'Shikha', 'None', 'None', 'Lili', 'Jamesy', 'Coco', 'Boomer', 'Sammy', 'Nelly', 'None', 'Meatball', 'Paisley', 'Albus', 'Neptune', 'Belle', 'None', 'None', 'Quinn', 'Zooey', 'Dave', 'Jersey', 'None', 'Hobbes', 'None', 'Burt', 'Lorenzo', 'Carl', 'Jordy', 'None', 'Milky', 'Trooper', 'None', 'quite', 'None', 'None', 'Sophie', 'Wyatt', 'Rosie', 'Thor', 'None', 'Oscar', 'None', 'Zeke', 'Callie', 'None', 'None', 'Cermet', 'None', 'None', 'None', 'None', 'None', 'quite', 'Marlee', 'Arya', 'Einstein', 'None', 'None', 'Alice', 'None', 'Rumpole', 'Benny', 'Aspen', 'Jarod', 'Wiggles', 'General', 'Sailor', 'None', 'Iggy', 'Snoop', 'Kyle', 'Leo', 'None', 'Riley', 'Boomer', 'None', 'Noosh', 'None', 'Kevin', 'None', 'Odin', 'None', 'Jerry', 'Georgie', 'Rontu', 'None', 'Cannon', 'Furzey', 'Daisy', 'None', 'Tuck', 'Barney', 'None', 'Vixen', 'None', 'Jarvis', 'None', 'None', 'Mimosa', 'Pickles', 'None', 'Brady', 'Luna', 'Charlie', 'Margo', 'None', 'Sadie', 'Hank', 'Tycho', 'Charlie', 'Indie', 'Winnie', 'George', 'Bentley', 'Penny', 'None', 'None', 'Max', 'Dawn', 'None', 'None', 'Maddie', 'None', 'Monty', 'Sojourner', 'Winston', 'Odie', 'None', 'Arlo', 'Walter', 'Stanley', 'None', 'None', 'Daisy', 'None', 'Waffles', 'Vincent', 'Lucy', 'Clark', 'Mookie', 'Meera', 'Oliver', 'Ava', 'Lucy', 'None', 'Eli', 'Ash', 'Lola', 'None', 'None', 'None', 'Tucker', 'Tobi', 'None', 'Chester', 'Wilson', 'Sunshine', 'None', 'Lipton', 'Bentley', 'Charlie', 'Bronte', 'Poppy', 'Gidget', 'Rhino', 'Willow', 'None', 'not', 'Orion', 'Eevee', 'Charlie', 'Smiley', 'None', 'Miguel', 'Emanuel', 'None', 'Kuyu', 'Daisy', 'None', 'Dutch', 'Pete', 'None', 'Scooter', 'Tucker', 'Reggie', 'Lilly', 'Samson', 'Mia', 'Leo', 'None', 'Astrid', 'Malcolm', 'Dexter', 'Alfie', 'Fiona', 'one', 'Mutt', 'Bear', 'Doobert', 'Beebop', 'Alexander', 'None', 'Sailer', 'Brutus', 'Kona', 'Boots', 'Tucker', 'Ralphie', 'Charlie', 'Loki', 'Cupid', 'None', 'Pawnd', 'Pilot', 'None', 'None', 'Ike', 'Mo', 'Toby', 'None', 'Sweet', 'Pablo', 'Scooter', 'Wilson', 'None', 'Nala', 'None', 'Cash', 'Winston', 'Crawford', 'None', 'Wyatt', 'Albus', 'None', 'Hobbes', 'None', 'Paisley', 'Gabe', 'None', 'Jimison', 'Duchess', 'Harlso', 'Sundance', 'None', 'Luca', 'None', 'Flash', 'Sunny', 'None', 'None', 'None', 'Oliver', 'None', 'Howie', 'Jazzy', 'Anna', 'None', 'Finn', 'Sunny', 'Bo', 'Wafer', 'Bear', 'Tom', 'Florence', 'Autumn', 'None', 'Buddy', 'Dido', 'Eugene', 'Ken', 'Strudel', 'Tebow', 'None', 'Chloe', 'Timber', 'Binky', 'Moose', 'Dudley', 'Comet', 'Jack', 'None', 'Akumi', 'Titan', 'None', 'Cooper', 'Olivia', 'Alf', 'Oshie', 'Chubbs', 'Gary', 'Sky', 'Atlas', 'None', 'None', 'Eleanor', 'Layla', 'None', 'None', 'None', 'Toby', 'Rocky', 'Baron', 'Tyr', 'Bauer', 'Swagger', 'Brandi', 'None', 'Mary', 'Moe', 'Ted', 'Halo', 'None', 'Augie', 'Craig', 'Sam', 'Hunter', 'Pavlov', 'Phil', 'Gus', 'None', 'None', 'Kyro', 'Wallace', 'Ito', 'None', 'Koda', 'Seamus', 'None', 'Cooper', 'Ollie', 'Stephan', 'Lennon', 'None', 'None', 'Waffles', 'incredibly', 'Major', 'Duke', 'Zeke', 'Sansa', 'Shooter', 'Django', 'None', 'Bo', 'Diogi', 'None', 'Sonny', 'Winston', 'Marley', 'Bailey', 'Winnie', 'Severus', 'None', 'Loki', 'Ronnie', 'None', 'Wallace', 'None', 'Milo', 'Bones', 'None', 'Mauve', 'Chef', 'None', 'Doc', 'Peaches', 'None', 'Sobe', 'Longfellow', 'Jeffrey', 'Mister', 'Iroh', 'Shadow', 'Cooper', 'None', 'Cassie', 'Pancake', 'None', 'Tyr', 'Romeo', 'None', 'Snicku', 'Ruby', 'None', 'None', 'Yogi', 'Daisy', 'None', 'Brody', 'Bailey', 'Mack', 'Nimbus', 'Laika', 'Maximus', 'Clark', 'Dobby', 'Fiona', 'Moreton', 'Dave', 'None', 'Tucker', 'Juno', 'Maude', 'Lily', 'Newt', 'Benji', 'Nida', 'None', 'Robin', 'None', 'Bailey', 'Monster', 'BeBe', 'Remus', 'None', 'None', 'Levi', 'Mabel', 'Misty', 'Betty', 'Mosby', 'Duke', 'Maggie', 'Bruce', 'Happy', 'Ralphy', 'Eli', 'Brownie', 'Rizzy', 'None', 'Stella', 'Bo', 'Lucy', 'Butter', 'Dexter', 'None', 'Leo', 'None', 'Frank', 'Tonks', 'Moose', 'Lincoln', 'Rory', 'Logan', 'None', 'Dale', 'Rizzo', 'Arnie', 'Mattie', 'None', 'Lucy', 'Rusty', 'Pinot', 'Dallas', 'None', 'Doc', 'Hero', 'Rusty', 'Frankie', 'Stormy', 'Reginald', 'Balto', 'Riley', 'Mairi', 'Loomis', 'Finn', 'Godi', 'Dave', 'Earl', 'Cali', 'Deacon', 'Penny', 'Timmy', 'Sampson', 'Chipson', 'None', 'Combo', 'None', 'None', 'Oakley', 'None', 'None', 'Dash', 'Koda', 'Hercules', 'None', 'Bear', 'None', 'None', 'Scout', 'None', 'Reggie', 'None', 'Jay', 'None', 'Mya', 'Strider', 'Penny', 'None', 'Nala', 'Stanley', 'None', 'Sophie', 'Wesley', 'None', 'Derek', 'Jeffrey', 'Solomon', 'Huck', 'None', 'None', 'Sampson', 'None', 'Blue', 'Anakin', 'None', 'Finley', 'Maximus', 'Tucker', 'Finley', 'Sprinkles', 'None', 'Winnie', 'Heinrich', 'Loki', 'Shakespeare', 'Chelsea', 'Bungalo', 'Chip', 'Grey', 'None', 'Roosevelt', 'None', 'Willem', 'None', 'Jack', 'Finn', 'Penny', 'None', 'Davey', 'Dakota', 'Fizz', 'Dixie', 'Charlie', 'None', 'Winston', 'Sebastian', 'very', 'Al', 'Jackson', 'Carbon', 'Klein', 'Titan', 'DonDon', 'Kirby', 'Jesse', 'Lou', 'Oakley', 'Chevy', 'Gerald', 'Tito', 'Philbert', 'Louie', 'None', 'Rupert', 'Rufus', 'None', 'Brudge', 'Shadoe', 'Oscar', 'Juno', 'Angel', 'Brat', 'Tove', 'my', 'Louie', 'Gromit', 'Aubie', 'Kota', 'None', 'Alfie', 'Clark', 'Belle', 'Leela', 'Glenn', 'Buddy', 'Scout', 'None', 'Shelby', 'None', 'None', 'Sephie', 'Bruce', 'Bonaparte', 'Albert', 'Bo', 'Wishes', 'Rose', 'Theo', 'Atlas', 'None', 'Rocco', 'Fido', 'Sadie', 'None', 'None', 'Kirby', 'Maggie', 'Emma', 'Oakley', 'None', 'Luna', 'Toby', 'Spencer', 'Lilli', 'None', 'Boston', 'Brandonald', 'None', 'Odie', 'Corey', 'None', 'None', 'Leonard', 'Beckham', 'Cooper', 'None', 'None', 'None', 'Devón', 'Oliver', 'Jax', 'Gert', 'None', 'None', 'None', 'None', 'None', 'one', 'Watson', 'Winnie', 'Keith', 'Milo', 'Dex', 'None', 'Charlie', 'None', 'None', 'Scout', 'Hank', 'Ace', 'None', 'Tayzie', 'Carl', 'Grizzie', 'None', 'None', 'None', 'None', 'None', 'Brody', 'Lola', 'Ruby', 'Tucker', 'Fred', 'Toby', 'None', 'Max', 'None', 'Gilbert', 'None', 'Cooper', 'Milo', 'Meyer', 'Malcolm', 'Arnie', 'Zoe', 'None', 'None', 'Stewie', 'Calvin', 'Lilah', 'Spanky', 'None', 'Jameson', 'Beau', 'Jax', 'Piper', 'Bo', 'Atticus', 'Lucy', 'Finn', 'None', 'George', 'Blu', 'Boomer', 'Winston', 'Dietrich', 'not', 'Divine', 'None', 'Tripp', 'his', 'one', 'Cora', 'None', 'None', 'Duke', 'None', 'None', 'None', 'None', 'None', 'Huxley', 'None', 'None', 'Keurig', 'Bookstore', 'None', 'None', 'None', 'Linus', 'Atticus', 'Clark', 'None', 'None', 'None', 'None', 'None', 'Maddie', 'Abby', 'None', 'Shiloh', 'an', 'Gustav', 'Arlen', 'Gus', 'Percy', 'Lenox', 'very', 'Sugar', 'Jeffrey', 'Oliver', 'Abby', 'Indie', 'Harvey', 'Blanket', 'None', 'actually', 'Geno', 'None', 'Stark', 'Harold', 'Bentley', 'Beya', 'Kilo', 'None', 'Kayla', 'None', 'Maxaroni', 'None', 'Bell', 'Phil', 'Doug', 'Edmund', 'None', 'Aqua', 'Tucker', 'Theodore', 'Ted', 'just', 'Leo', 'None', 'Chip', 'Baloo', 'None', 'None', 'Chase', 'getting', 'Nollie', 'Rorie', 'Simba', 'None', 'Benji', 'None', 'Kyle', 'None', 'None', 'Charles', 'None', 'Bayley', 'None', 'None', 'Axel', 'Storkson', 'Remy', 'Bella', 'None', 'None', 'Lily', 'None', 'Chadrick', 'mad', 'Rory', 'very', 'None', 'Maxaroni', 'None', 'Dakota', 'None', 'Kellogg', 'Buckley', 'Jax', 'None', 'Livvie', 'None', 'Terry', 'Moose', 'None', 'Hermione', 'None', 'Ralpher', 'Aldrick', 'None', 'Kyle', 'Larry', 'Solomon', 'this', 'unacceptable', 'Rooney', 'Crystal', 'Ziva', 'Charles', 'Ollie', 'None', 'Stefan', 'Pupcasso', 'None', 'Puff', 'None', 'Flurpson', 'Coleman', 'Wallace', 'Enchilada', 'Raymond', 'all', 'Rueben', 'Cilantro', 'None', 'None', 'None', 'None', 'Karll', 'None', 'Sprout', 'Blitz', 'Bloop', 'None', 'Colby', 'Lillie', 'Lola', 'None', 'Fred', 'None', 'Ashleigh', 'Kreggory', 'Sarge', 'Luther', 'Sugar', 'Reginald', 'Ivar', 'Jangle', 'None', 'Schnitzel', 'Panda', 'Oliver', 'Archie', 'Berkeley', 'None', 'Ralphé', 'Derek', 'Charleson', 'Neptune', 'None', 'Clyde', 'Harnold', 'Sid', 'Lucy', 'Pippa', 'Sadie', 'Otis', 'None', 'Carper', 'None', 'Bowie', 'None', 'Alexanderson', 'Suki', 'Barclay', 'None', 'None', 'Skittle', 'Ebby', 'Flávio', 'Smokey', 'Link', 'Jennifur', 'None', 'Ozzy', 'Bluebert', 'Stephanus', 'None', 'Bubbles', 'old', 'None', 'Bentley', 'Toby', 'Zeus', 'Bertson', 'Oscar', 'Nico', 'Michelangelope', 'Siba', 'Calbert', 'None', 'Curtis', 'Benedict', 'None', 'Blitz', 'Travis', 'Thumas', 'None', 'None', 'Kanu', 'Doug', 'None', 'Piper', 'None', 'Lance', 'Opie', 'Stubert', 'None', 'Sunny', 'Kane', 'None', 'None', 'Steven', 'Olive', 'Chester', 'Winston', 'Roosevelt', 'None', 'None', 'Gary', 'None', 'None', 'Chuckles', 'Milo', 'Staniel', 'Sora', 'None', 'None', 'Beemo', 'Oshie', 'Gunner', 'infuriating', 'None', 'Lacy', 'Tater', 'None', 'Watson', 'None', 'None', 'Olaf', 'Cecil', 'Vince', 'Karma', 'Billy', 'Walker', 'Penny', 'None', 'Sammy', 'Rodney', 'Klevin', 'Lucy', 'None', 'Malikai', 'Mister', 'Coco', 'Smokey', 'Bear', 'Bobble', 'None', 'Oliver', 'River', 'Jebberson', 'None', 'Cooper', 'Remington', 'None', 'Farfle', 'None', 'Rufus', 'Sadie', 'None', 'None', 'Jiminus', 'None', 'Harper', 'Keurig', 'None', 'Clarkus', 'None', 'Finnegus', 'Cassie', 'Cupcake', 'Kathmandu', 'Tucker', 'Ellie', 'None', 'Elliot', 'Katie', 'Shadow', 'None', 'Oliver', 'None', 'Koda', 'None', 'None', 'Kara', 'None', 'Dexter', 'Layla', 'Adele', 'Lucy', 'Max', 'None', 'None', 'Zara', 'Cooper', 'Ambrose', 'Jimothy', 'Bode', 'Terrenth', 'Reese', 'None', 'None', 'None', 'Chesterson', 'None', 'None', 'None', 'Lucia', 'Bisquick', 'Ralphson', 'None', 'Stanley', 'None', 'None', 'None', 'Bella', 'Scooter', 'None', 'None', 'Charlie', 'Socks', 'None', 'None', 'an', 'Chip', 'Luna', 'Lucy', 'Rambo', 'Sansa', 'None', 'Rudy', 'None', 'None', 'None', 'Fiji', 'Rilo', 'Bilbo', 'None', 'Coopson', 'Yoda', 'Millie', 'None', 'Chet', 'None', 'Crouton', 'Daniel', 'very', 'Vincent', 'Kaia', 'Murphy', 'Dotsy', 'None', 'None', 'Eazy', 'Coops', 'Thumas', 'Cooper', 'Nala', 'None', 'Fillup', 'Dave', 'Archie', 'None', 'None', 'Miley', 'Calbert', 'None', 'Charl', 'Reagan', 'None', 'Yukon', 'None', 'Oliver', 'CeCe', 'None', 'Cuddles', 'Rusty', 'None', 'Claude', 'Jessiga', 'Maximus', 'Franklin', 'Beau', 'Lily', 'None', 'Doug', 'Cassie', 'Carter', 'None', 'None', 'None', 'Ole', 'Pherb', 'Blipson', 'None', 'Bentley', 'getting', 'Charlie', 'Oakley', 'Rosie', 'None', 'None', 'Misty', 'Reptar', 'Klevin', 'Trevith', 'None', 'None', 'None', 'Berb', 'None', 'None', 'Wyatt', 'None', 'Calvin', 'None', 'Bob', 'Colin', 'just', 'Lorenzo', 'None', 'Brian', 'None', 'Archie', 'Phil', 'None', 'Oliviér', 'None', 'Grady', 'None', 'Lola', 'Chester', 'None', 'Kobe', 'None', 'None', 'Freddery', 'None', 'None', 'Phil', 'None', 'Lincoln', 'Sadie', 'Oscar', 'None', 'Bodie', 'Dunkin', 'None', 'Milo', 'None', 'Wally', 'None', 'Tupawc', 'None', 'None', 'Chester', 'Amber', 'Cody', 'None', 'Herschel', 'None', 'Edgar', 'None', 'Teddy', 'Kingsley', 'Brockly', 'None', 'None', 'Richie', 'None', 'Leo', 'Bailey', 'None', 'Molly', 'None', 'None', 'None', 'None', 'None', 'Buddy', 'Peaches', 'Vinscent', 'Cedrick', 'Hazel', 'None', 'Lolo', 'Eriq', 'Phred', 'the', 'Oddie', 'Maxwell', 'Geoff', 'None', 'None', 'Covach', 'None', 'None', 'Gizmo', 'Durg', 'Fynn', 'Luca', 'Ricky', 'Lucy', 'None', 'None', 'Carl', 'None', 'Chipson', 'Herald', 'Lucky', 'Ferg', 'None', 'Trip', 'None', 'Clarence', 'None', 'Hamrick', 'Brad', 'None', 'Pubert', 'Frönq', 'None', 'Louis', 'Derby', 'Lizzie', 'None', 'Kilo', 'None', 'Louis', 'None', 'Trooper', 'Ember', 'Blakely', 'Opal', 'Marq', 'None', 'Curtis', 'Kramer', 'Barry', 'Tyrone', 'None', 'Gordon', 'Samson', 'Baxter', 'None', 'None', 'Jackson', 'None', 'None', 'None', 'Mona', 'Olivia', 'Horace', 'None', 'Crimson', 'Birf', 'None', 'None', 'Flávio', 'None', 'None', 'None', 'Hammond', 'Lorelei', 'the', 'Olive', 'None', 'Marty', 'Brooks', 'Otis', 'None', 'None', 'None', 'Rocky', 'None', 'Petrick', 'Hubertson', 'Alfie', 'Gerbald', 'None', 'Jerry', 'Oreo', 'Bruiser', 'None', 'Perry', 'None', 'None', 'Theodore', 'None', 'None', 'Bobby', 'None', 'Pippa', 'Jeph', 'Obi', 'None', 'None', 'None', 'Tino', 'None', 'Kulet', 'Sweets', 'None', 'Lupe', 'Sadie', 'Tiger', 'Jiminy', 'None', 'None', 'Buddy', 'Sebastian', 'None', 'Griffin', 'Banjo', 'None', 'None', 'Jack', 'None', 'Brandy', 'Larry', 'None', 'None', 'Lulu', 'Darrel', 'None', 'None', 'Taco', 'None', 'Joey', 'None', 'None', 'Patrick', 'Kreg', 'Brody', 'Todo', 'Jax', 'Samson', 'None', 'Tess', 'None', 'Ulysses', 'None', 'Jimothy', 'Charlie', 'Bo', 'None', 'Toffee', 'None', 'Apollo', 'Carly', 'None', 'Asher', 'Glacier', 'Chuck', 'actually', 'Sarge', 'Panda', 'Champ', 'None', 'Aspen', 'None', 'Ozzie', 'Alice', 'Sadie', 'Griswold', 'Cheesy', 'Ellie', 'None', 'None', 'Moofasa', 'Brody', 'Penny', 'Percy', 'None', 'Hector', 'None', 'CeCe', 'Toby', 'None', 'None', 'Goliath', 'Kawhi', 'Reggie', 'Ozzy', 'None', 'by', 'Emmie', 'Sammy', 'Penelope', 'Rocco', 'None', 'Bruce', 'Willie', 'None', 'Rinna', 'None', 'Hunter', 'Mike', 'None', 'None', 'William', 'Dwight', 'Evy', 'Hurley', 'None', 'Rubio', 'None', 'Louis', 'officially', 'Chompsky', 'None', 'Rascal', 'None', 'Lola', 'None', 'Linda', 'Tug', 'Mia', 'Wilson', 'Dash', 'Tango', 'None', 'None', 'Grizz', 'None', 'Crystal', 'Jerome', 'None', 'None', 'Bella', 'Crumpet', 'None', 'Rosie', 'None', 'Jessifer', 'None', 'Reese', 'Izzy', 'None', 'None', 'None', 'Ralph', 'Sadie', 'None', 'None', 'None', 'None', 'Sandy', 'None', 'None', 'None', 'Axel', 'None', 'None', 'Humphrey', 'Derek', 'Tassy', 'Juckson', 'the', 'Chuq', 'None', 'Cooper', 'None', 'Tyrus', 'Karl', 'None', 'None', 'None', 'None', 'None', 'Ash', 'None', 'None', 'Penny', 'None', 'None', 'the', 'None', 'Godzilla', 'None', 'None', 'Bubbles', 'Vinnie', 'None', 'None', 'Griffin', 'None', 'None', 'Duke', 'None', 'Winston', 'Kenneth', 'Herm', 'None', 'Bert', 'None', 'Striker', 'None', 'None', 'None', 'Donny', 'None', 'None', 'None', 'None', 'None', 'Pepper', 'None', 'None', 'Bernie', 'Buddah', 'None', 'Lenny', 'None', 'None', 'None', 'Ellie', 'Sammy', 'None', 'None', 'Reggie', 'None', 'None', 'None', 'None', 'Daisy', 'None', 'None', 'None', 'Arnold', 'None', 'None', 'None', 'Coops', 'None', 'Steven', 'Zuzu', 'Oliver', 'None', 'None', 'Moe', 'Mollie', 'Laela', 'None', 'None', 'Tedders', 'None', 'None', 'Maggie', 'None', 'Superpup', 'None', 'None', 'None', 'None', 'Sophie', 'None', 'None', 'Rufio', 'Patrick', 'Jeb', 'Rodman', 'None', 'None', 'None', 'None', 'None', 'Louis', 'None', 'Bailey', 'Ava', 'Jonah', 'Lenny', 'Gary', 'Chesney', 'None', 'Lennon', 'life', 'Kenny', 'None', 'Bob', 'Henry', 'Gus', 'Bobbay', 'None', 'Mitch', 'Earl', 'Stanley', 'Lucy', 'None', 'None', 'Kaiya', 'Daisy', 'None', 'Acro', 'Aiden', 'None', 'one', 'Obie', 'None', 'None', 'None', 'None', 'None', 'None', 'Riley', 'Raymond', 'Dot', 'None', 'Pickles', 'None', 'Larry', 'George', 'Shnuggles', 'Kendall', 'Albert', 'None', 'Jeffri', 'Sandy', 'None', 'None', 'None', 'Steve', 'Koda', 'None', 'Bella', 'Gerald', 'None', 'Django', 'Frankie', 'None', 'Eve', 'Mac', 'None', 'Dexter', 'Fletcher', 'Kenzie', 'Pumpkin', 'Schnozz', 'None', 'None', 'Chuckles', 'Chet', 'Gustaf', 'Terry', 'Jimison', 'Cheryl', 'None', 'Oscar', 'Ed', 'Jerry', 'Leonidas', 'None', 'Norman', 'Caryl', 'None', 'Scott', 'Taz', 'None', 'Darby', 'None', 'Jackie', 'light', 'Jazz', 'Buddy', 'Franq', 'Pippin', 'None', 'Kreg', 'None', 'Rolf', 'None', 'Snickers', 'Ridley', 'None', 'Cal', 'Opal', 'Bradley', 'Bubba', 'None', 'just', 'Tuco', 'Patch', 'Gizmo', 'Lola', 'Mojo', 'Batdog', 'Brad', 'Mia', 'Dylan', 'None', 'space', 'None', 'Mark', 'None', 'None', 'Oscar', 'None', 'the', 'None', 'Marley', 'None', 'JD', 'Baxter', 'Reginald', 'None', 'Jax', 'Alejandro', 'Scruffers', 'Hammond', 'Charlie', 'Pip', 'Julius', 'Malcolm', 'Penelope', 'None', 'Tanner', 'None', 'Lou', 'Lola', 'Sparky', 'None', 'Herm', 'None', 'Anthony', 'Holly', 'None', 'None', 'None', 'None', 'Clarence', 'None', 'Phred', 'Toby', 'None', 'None', 'Colby', 'None', 'Jett', 'Amy', 'None', 'Remington', 'None', 'Sage', 'Maggie', 'Andy', 'Mason', 'None', 'Trigger', 'Antony', 'None', 'Creg', 'None', 'None', 'Traviss', 'None', 'Vincent', 'Gin', 'Jerry', 'Jeffrie', 'None', 'Danny', 'Ester', 'Pluto', 'Bloo', 'Phineas', 'None', 'Edd', 'None', 'None', 'None', 'Paull', 'Koda', 'None', 'Hank', 'Sam', 'Willy', 'None', 'Herb', 'Damon', 'None', 'Scooter', 'Peanut', 'Nigel', 'Larry', 'Daisy', 'None', 'Butters', 'None', 'None', 'Sandra', 'Wally', 'None', 'Fabio', 'Winston', 'Randall', 'Liam', 'Tommy', 'Ben', 'None', 'None', 'Raphael', 'Zoey', 'None', 'Julio', 'Andru', 'None', 'None', 'Chester', 'Clarence', 'None', 'Kloey', 'Louie', 'Shawwn', 'None', 'Penny', 'None', 'Skye', 'None', 'Linda', 'Keith', 'Kollin', 'None', 'Ronduh', 'Billl', 'Oliviér', 'Chip', 'None', 'Saydee', 'Dug', 'Tessa', 'Sully', 'Kirk', 'None', 'Ralf', 'Clarq', 'Jaspers', 'Samsom', 'None', 'None', 'Tucker', 'Terrance', 'None', 'Harrison', 'Bernie', 'None', 'Ruby', 'None', 'Chaz', 'Jeremy', 'None', 'Jaycob', 'None', 'Herald', 'Lambeau', 'Ruffles', 'Amélie', 'Bobb', 'Banditt', 'None', 'Kevon', 'Winifred', 'None', 'None', 'Hanz', 'an', 'Churlie', 'Zeek', 'Timofy', 'Maks', 'Jomathan', 'Kallie', 'None', 'the', 'Marvin', 'None', 'None', 'Spark', 'Gòrdón', 'None', 'Jo', 'None', 'DayZ', 'None', 'None', 'None', 'Rusty', 'Sophie', 'None', 'Jareld', 'Bisquick', 'Torque', 'None', 'None', 'Ron', 'Skittles', 'None', 'None', 'None', 'Alfie', 'None', 'Jiminy', 'Otis', 'None', 'Cleopatricia', 'Erik', 'Stu', 'Tedrick', 'None', 'Shaggy', 'None', 'None', 'Filup', 'None', 'None', 'None', 'None', 'Calvin', 'Olive', 'None', 'None', 'George', 'Kial', 'None', 'Frank', 'Naphaniel', 'None', 'Dook', 'None', 'Hall', 'Philippe', 'None', 'None', 'Reese', 'Cupcake', 'None', 'None', 'None', 'Biden', 'Fwed', 'None', 'Genevieve', 'Joshwa', 'None', 'None', 'Timison', 'None', 'None', 'Clarence', 'Kenneth', 'Churlie', 'Bradlay', 'Pipsy', 'None', 'Gabe', 'Clybe', 'Dave', 'None', 'None', 'Keet', 'None', 'Klevin', 'Carll', 'None', 'None', 'None', 'None', 'Jeph', 'Jockson', 'None', 'None', 'Josep', 'Lugan', 'None', 'Christoper', 'None', 'Jimothy', 'Kreggory', 'Scout', 'None', 'None', 'None', 'None', 'None', 'Walter', 'quite', 'None', 'None', 'None', 'None', 'None', 'None', 'an', 'None', 'an', 'None', 'None', 'None', 'None', 'None', 'None', 'None', 'None', 'None', 'the', 'the', 'None', 'None', 'an', 'None', 'None', 'None', 'None', 'None', 'None']\n"
          ],
          "name": "stdout"
        }
      ]
    },
    {
      "cell_type": "code",
      "metadata": {
        "id": "Tw0ZKH18I1gU",
        "colab_type": "code",
        "colab": {
          "base_uri": "https://localhost:8080/",
          "height": 147
        },
        "outputId": "ba763049-982a-4dff-f7b5-717ecf8b819d"
      },
      "source": [
        "# checking the text messages of few posts.\n",
        "ta.text.unique()"
      ],
      "execution_count": 13,
      "outputs": [
        {
          "output_type": "execute_result",
          "data": {
            "text/plain": [
              "array([\"This is Phineas. He's a mystical boy. Only ever appears in the hole of a donut. 13/10 https://t.co/MgUWQ76dJU\",\n",
              "       \"This is Tilly. She's just checking pup on you. Hopes you're doing ok. If not, she's available for pats, snugs, boops, the whole bit. 13/10 https://t.co/0Xxu71qeIV\",\n",
              "       'This is Archie. He is a rare Norwegian Pouncing Corgo. Lives in the tall grass. You never know when one may strike. 12/10 https://t.co/wUnZnhtVJB',\n",
              "       ...,\n",
              "       'Here is a very happy pup. Big fan of well-maintained decks. Just look at that tongue. 9/10 would cuddle af https://t.co/y671yMhoiR',\n",
              "       'This is a western brown Mitsubishi terrier. Upset about leaf. Actually 2 dogs here. 7/10 would walk the shit out of https://t.co/r7mOb2m0UI',\n",
              "       'Here we have a Japanese Irish Setter. Lost eye in Vietnam (?). Big fan of relaxing on stair. 8/10 would pet https://t.co/BLDqew2Ijj'],\n",
              "      dtype=object)"
            ]
          },
          "metadata": {
            "tags": []
          },
          "execution_count": 13
        }
      ]
    },
    {
      "cell_type": "markdown",
      "metadata": {
        "id": "9i74BJImqkwj",
        "colab_type": "text"
      },
      "source": [
        "We can see that the text contains ratings and urls associated. But we already have separate columns for hem so they are irrelevant."
      ]
    },
    {
      "cell_type": "markdown",
      "metadata": {
        "id": "02SI7XuaWAMv",
        "colab_type": "text"
      },
      "source": [
        "**Quality ISSUES:**\n",
        "\n",
        "1. **timestamp** is not in datetimeindex format. But we need not change the type here. Once we make our final dataframe by appending all the parts together we can make the change there.\n",
        "\n",
        "2. No need for four different columns **doggo, floofer, pupper, puppo**, we can create one column and write name or number corresponding to dog stage. Currently, It unnecessarily consumes more space and degrades quality of data.\n",
        "\n",
        "3. Judging from the name column, there are values like **None** or **a** which are not related to dog or not named correctly.\n",
        "\n",
        "4. The text columns have the ratings and url, but they are not necessary there as already separate columns are present for them. So we can omit them to make processing the text easier.\n",
        "\n",
        "5. The rating values are out of 10 so rating_denominator should have all the values equal to 10 but there are some other values also. We need to comvert all to 10. We may also remove the column as we know all the values will be same. So keeping it is memory-wastage, irrelevant.\n",
        "\n",
        "6. There are many **missing values** which needs to be taken care.\n",
        "\n",
        "7. We have to take care we do not take ***retweets*** into acccount while analyzing rating.\n",
        "\n",
        "**Tidliness Issue:**\n",
        "\n",
        "1. Too many unnecessary columns which are irrelevant for our analysis, and even many of them contains null values. We need to remove those data to make data look compact and tidier."
      ]
    },
    {
      "cell_type": "code",
      "metadata": {
        "id": "b-rK29fiLKWq",
        "colab_type": "code",
        "colab": {}
      },
      "source": [
        "# Removing ratings and url from text\n",
        "pd.options.display.max_colwidth=200\n",
        "ta[['text1','text2']]=ta.text.str.extract('([*A-Za-z.\\',:; ]+)\\d+\\/\\d+([*A-Za-z.\\',; ]+)')\n",
        "ta['text2']=ta['text2'].str.replace('https','')\n",
        "ta['text']=ta['text1']+ta['text2']\n",
        "ta.drop(['text1','text2'],axis=1,inplace=True)"
      ],
      "execution_count": 14,
      "outputs": []
    },
    {
      "cell_type": "code",
      "metadata": {
        "id": "Tg8-ySWuJF_I",
        "colab_type": "code",
        "colab": {
          "base_uri": "https://localhost:8080/",
          "height": 147
        },
        "outputId": "cdd0167e-6654-4260-81f9-e303c72d2887"
      },
      "source": [
        "# checking some of the given urls.\n",
        "ta.expanded_urls.unique()"
      ],
      "execution_count": 15,
      "outputs": [
        {
          "output_type": "execute_result",
          "data": {
            "text/plain": [
              "array(['https://twitter.com/dog_rates/status/892420643555336193/photo/1',\n",
              "       'https://twitter.com/dog_rates/status/892177421306343426/photo/1',\n",
              "       'https://twitter.com/dog_rates/status/891815181378084864/photo/1',\n",
              "       ...,\n",
              "       'https://twitter.com/dog_rates/status/666033412701032449/photo/1',\n",
              "       'https://twitter.com/dog_rates/status/666029285002620928/photo/1',\n",
              "       'https://twitter.com/dog_rates/status/666020888022790149/photo/1'],\n",
              "      dtype=object)"
            ]
          },
          "metadata": {
            "tags": []
          },
          "execution_count": 15
        }
      ]
    },
    {
      "cell_type": "markdown",
      "metadata": {
        "id": "go03ZmXJq5zq",
        "colab_type": "text"
      },
      "source": [
        "The urls look fine and valid."
      ]
    },
    {
      "cell_type": "code",
      "metadata": {
        "id": "T0PsI_BmLBdl",
        "colab_type": "code",
        "colab": {}
      },
      "source": [
        "# Removing denominator_rating column as we already know all  the values will be 10 so it's a irrelevant column\n",
        "ta.drop(['rating_denominator'],axis=1,inplace=True)"
      ],
      "execution_count": 16,
      "outputs": []
    },
    {
      "cell_type": "code",
      "metadata": {
        "id": "o13o63r5RNwA",
        "colab_type": "code",
        "colab": {}
      },
      "source": [
        "# Converting the columns for each stage of dog to a single column only. The datapoints where no stages are mentioned we denote with '0'\n",
        "l1=[]\n",
        "for i in range(len(ta)):\n",
        "  if ta.iloc[i,-4]=='doggo':\n",
        "    l1.append('doggo')\n",
        "  elif ta.iloc[i,-3]=='floofer':\n",
        "    l1.append('floofer')\n",
        "  elif ta.iloc[i,-2]=='pupper':\n",
        "    l1.append('pupper')\n",
        "  elif ta.iloc[i,-1]=='puppo':\n",
        "    l1.append('puppo')\n",
        "  else:\n",
        "    l1.append('0')\n",
        "ta['stage']=l1\n",
        "ta.drop(['doggo','floofer','pupper','puppo'],axis=1,inplace=True)"
      ],
      "execution_count": 17,
      "outputs": []
    },
    {
      "cell_type": "code",
      "metadata": {
        "id": "QTyBfQDWqIjA",
        "colab_type": "code",
        "colab": {}
      },
      "source": [
        "# Choosing only the relevant columns for analysis and dropping rest\n",
        "ta1=ta[['tweet_id','timestamp','text','expanded_urls','rating_numerator','name','stage']]"
      ],
      "execution_count": 18,
      "outputs": []
    },
    {
      "cell_type": "code",
      "metadata": {
        "id": "ckHJ1aAMr8VC",
        "colab_type": "code",
        "colab": {}
      },
      "source": [
        "import tweepy\n",
        "from tweepy import OAuthHandler\n",
        "import json\n",
        "from timeit import default_timer as timer\n",
        "\n",
        "\n",
        "consumer_key = 'HIDDEN'\n",
        "consumer_secret = 'HIDDEN'\n",
        "access_token = 'HIDDEN'\n",
        "access_secret = 'HIDDEN'\n",
        "\n",
        "auth = OAuthHandler(consumer_key, consumer_secret)\n",
        "auth.set_access_token(access_token, access_secret)\n",
        "\n",
        "api = tweepy.API(auth, wait_on_rate_limit=True)\n",
        "\n",
        "\n",
        "tweet_ids = df_1.tweet_id.values\n",
        "len(tweet_ids)\n",
        "\n",
        "# Query Twitter's API for JSON data for each tweet ID in the Twitter archive\n",
        "count = 0\n",
        "fails_dict = {}\n",
        "start = timer()\n",
        "# Save each tweet's returned JSON as a new line in a .txt file\n",
        "with open('tweet_json.txt', 'w') as outfile:\n",
        "    # This loop will likely take 20-30 minutes to run because of Twitter's rate limit\n",
        "    for tweet_id in tweet_ids:\n",
        "        count += 1\n",
        "        print(str(count) + \": \" + str(tweet_id))\n",
        "        try:\n",
        "            tweet = api.get_status(tweet_id, tweet_mode='extended')\n",
        "            print(\"Success\")\n",
        "            json.dump(tweet._json, outfile)\n",
        "            outfile.write('\\n')\n",
        "        except tweepy.TweepError as e:\n",
        "            print(\"Fail\")\n",
        "            fails_dict[tweet_id] = e\n",
        "            pass\n",
        "end = timer()\n",
        "print(end - start)\n",
        "print(fails_dict)"
      ],
      "execution_count": null,
      "outputs": []
    },
    {
      "cell_type": "code",
      "metadata": {
        "id": "szZunHACQtJt",
        "colab_type": "code",
        "colab": {
          "base_uri": "https://localhost:8080/",
          "height": 933
        },
        "outputId": "8c7f233e-f0db-43bc-8962-319371233f8f"
      },
      "source": [
        "tweet=pd.read_json('tweet-json.txt',lines=True)\n",
        "tweet.head(3)"
      ],
      "execution_count": 19,
      "outputs": [
        {
          "output_type": "execute_result",
          "data": {
            "text/html": [
              "<div>\n",
              "<style scoped>\n",
              "    .dataframe tbody tr th:only-of-type {\n",
              "        vertical-align: middle;\n",
              "    }\n",
              "\n",
              "    .dataframe tbody tr th {\n",
              "        vertical-align: top;\n",
              "    }\n",
              "\n",
              "    .dataframe thead th {\n",
              "        text-align: right;\n",
              "    }\n",
              "</style>\n",
              "<table border=\"1\" class=\"dataframe\">\n",
              "  <thead>\n",
              "    <tr style=\"text-align: right;\">\n",
              "      <th></th>\n",
              "      <th>created_at</th>\n",
              "      <th>id</th>\n",
              "      <th>id_str</th>\n",
              "      <th>full_text</th>\n",
              "      <th>truncated</th>\n",
              "      <th>display_text_range</th>\n",
              "      <th>entities</th>\n",
              "      <th>extended_entities</th>\n",
              "      <th>source</th>\n",
              "      <th>in_reply_to_status_id</th>\n",
              "      <th>in_reply_to_status_id_str</th>\n",
              "      <th>in_reply_to_user_id</th>\n",
              "      <th>in_reply_to_user_id_str</th>\n",
              "      <th>in_reply_to_screen_name</th>\n",
              "      <th>user</th>\n",
              "      <th>geo</th>\n",
              "      <th>coordinates</th>\n",
              "      <th>place</th>\n",
              "      <th>contributors</th>\n",
              "      <th>is_quote_status</th>\n",
              "      <th>retweet_count</th>\n",
              "      <th>favorite_count</th>\n",
              "      <th>favorited</th>\n",
              "      <th>retweeted</th>\n",
              "      <th>possibly_sensitive</th>\n",
              "      <th>possibly_sensitive_appealable</th>\n",
              "      <th>lang</th>\n",
              "      <th>retweeted_status</th>\n",
              "      <th>quoted_status_id</th>\n",
              "      <th>quoted_status_id_str</th>\n",
              "      <th>quoted_status</th>\n",
              "    </tr>\n",
              "  </thead>\n",
              "  <tbody>\n",
              "    <tr>\n",
              "      <th>0</th>\n",
              "      <td>2017-08-01 16:23:56+00:00</td>\n",
              "      <td>892420643555336193</td>\n",
              "      <td>892420643555336192</td>\n",
              "      <td>This is Phineas. He's a mystical boy. Only ever appears in the hole of a donut. 13/10 https://t.co/MgUWQ76dJU</td>\n",
              "      <td>False</td>\n",
              "      <td>[0, 85]</td>\n",
              "      <td>{'hashtags': [], 'symbols': [], 'user_mentions': [], 'urls': [], 'media': [{'id': 892420639486877696, 'id_str': '892420639486877696', 'indices': [86, 109], 'media_url': 'http://pbs.twimg.com/media...</td>\n",
              "      <td>{'media': [{'id': 892420639486877696, 'id_str': '892420639486877696', 'indices': [86, 109], 'media_url': 'http://pbs.twimg.com/media/DGKD1-bXoAAIAUK.jpg', 'media_url_https': 'https://pbs.twimg.com...</td>\n",
              "      <td>&lt;a href=\"http://twitter.com/download/iphone\" rel=\"nofollow\"&gt;Twitter for iPhone&lt;/a&gt;</td>\n",
              "      <td>NaN</td>\n",
              "      <td>NaN</td>\n",
              "      <td>NaN</td>\n",
              "      <td>NaN</td>\n",
              "      <td>None</td>\n",
              "      <td>{'id': 4196983835, 'id_str': '4196983835', 'name': 'WeRateDogs™ (author)', 'screen_name': 'dog_rates', 'location': 'DM YOUR DOGS, WE WILL RATE', 'description': '#1 Source for Professional Dog Rati...</td>\n",
              "      <td>NaN</td>\n",
              "      <td>NaN</td>\n",
              "      <td>None</td>\n",
              "      <td>NaN</td>\n",
              "      <td>False</td>\n",
              "      <td>8853</td>\n",
              "      <td>39467</td>\n",
              "      <td>False</td>\n",
              "      <td>False</td>\n",
              "      <td>0.0</td>\n",
              "      <td>0.0</td>\n",
              "      <td>en</td>\n",
              "      <td>NaN</td>\n",
              "      <td>NaN</td>\n",
              "      <td>NaN</td>\n",
              "      <td>NaN</td>\n",
              "    </tr>\n",
              "    <tr>\n",
              "      <th>1</th>\n",
              "      <td>2017-08-01 00:17:27+00:00</td>\n",
              "      <td>892177421306343426</td>\n",
              "      <td>892177421306343424</td>\n",
              "      <td>This is Tilly. She's just checking pup on you. Hopes you're doing ok. If not, she's available for pats, snugs, boops, the whole bit. 13/10 https://t.co/0Xxu71qeIV</td>\n",
              "      <td>False</td>\n",
              "      <td>[0, 138]</td>\n",
              "      <td>{'hashtags': [], 'symbols': [], 'user_mentions': [], 'urls': [], 'media': [{'id': 892177413194625024, 'id_str': '892177413194625024', 'indices': [139, 162], 'media_url': 'http://pbs.twimg.com/medi...</td>\n",
              "      <td>{'media': [{'id': 892177413194625024, 'id_str': '892177413194625024', 'indices': [139, 162], 'media_url': 'http://pbs.twimg.com/media/DGGmoV4XsAAUL6n.jpg', 'media_url_https': 'https://pbs.twimg.co...</td>\n",
              "      <td>&lt;a href=\"http://twitter.com/download/iphone\" rel=\"nofollow\"&gt;Twitter for iPhone&lt;/a&gt;</td>\n",
              "      <td>NaN</td>\n",
              "      <td>NaN</td>\n",
              "      <td>NaN</td>\n",
              "      <td>NaN</td>\n",
              "      <td>None</td>\n",
              "      <td>{'id': 4196983835, 'id_str': '4196983835', 'name': 'WeRateDogs™ (author)', 'screen_name': 'dog_rates', 'location': 'DM YOUR DOGS, WE WILL RATE', 'description': '#1 Source for Professional Dog Rati...</td>\n",
              "      <td>NaN</td>\n",
              "      <td>NaN</td>\n",
              "      <td>None</td>\n",
              "      <td>NaN</td>\n",
              "      <td>False</td>\n",
              "      <td>6514</td>\n",
              "      <td>33819</td>\n",
              "      <td>False</td>\n",
              "      <td>False</td>\n",
              "      <td>0.0</td>\n",
              "      <td>0.0</td>\n",
              "      <td>en</td>\n",
              "      <td>NaN</td>\n",
              "      <td>NaN</td>\n",
              "      <td>NaN</td>\n",
              "      <td>NaN</td>\n",
              "    </tr>\n",
              "    <tr>\n",
              "      <th>2</th>\n",
              "      <td>2017-07-31 00:18:03+00:00</td>\n",
              "      <td>891815181378084864</td>\n",
              "      <td>891815181378084864</td>\n",
              "      <td>This is Archie. He is a rare Norwegian Pouncing Corgo. Lives in the tall grass. You never know when one may strike. 12/10 https://t.co/wUnZnhtVJB</td>\n",
              "      <td>False</td>\n",
              "      <td>[0, 121]</td>\n",
              "      <td>{'hashtags': [], 'symbols': [], 'user_mentions': [], 'urls': [], 'media': [{'id': 891815175371796480, 'id_str': '891815175371796480', 'indices': [122, 145], 'media_url': 'http://pbs.twimg.com/medi...</td>\n",
              "      <td>{'media': [{'id': 891815175371796480, 'id_str': '891815175371796480', 'indices': [122, 145], 'media_url': 'http://pbs.twimg.com/media/DGBdLU1WsAANxJ9.jpg', 'media_url_https': 'https://pbs.twimg.co...</td>\n",
              "      <td>&lt;a href=\"http://twitter.com/download/iphone\" rel=\"nofollow\"&gt;Twitter for iPhone&lt;/a&gt;</td>\n",
              "      <td>NaN</td>\n",
              "      <td>NaN</td>\n",
              "      <td>NaN</td>\n",
              "      <td>NaN</td>\n",
              "      <td>None</td>\n",
              "      <td>{'id': 4196983835, 'id_str': '4196983835', 'name': 'WeRateDogs™ (author)', 'screen_name': 'dog_rates', 'location': 'DM YOUR DOGS, WE WILL RATE', 'description': '#1 Source for Professional Dog Rati...</td>\n",
              "      <td>NaN</td>\n",
              "      <td>NaN</td>\n",
              "      <td>None</td>\n",
              "      <td>NaN</td>\n",
              "      <td>False</td>\n",
              "      <td>4328</td>\n",
              "      <td>25461</td>\n",
              "      <td>False</td>\n",
              "      <td>False</td>\n",
              "      <td>0.0</td>\n",
              "      <td>0.0</td>\n",
              "      <td>en</td>\n",
              "      <td>NaN</td>\n",
              "      <td>NaN</td>\n",
              "      <td>NaN</td>\n",
              "      <td>NaN</td>\n",
              "    </tr>\n",
              "  </tbody>\n",
              "</table>\n",
              "</div>"
            ],
            "text/plain": [
              "                 created_at  ...  quoted_status\n",
              "0 2017-08-01 16:23:56+00:00  ...            NaN\n",
              "1 2017-08-01 00:17:27+00:00  ...            NaN\n",
              "2 2017-07-31 00:18:03+00:00  ...            NaN\n",
              "\n",
              "[3 rows x 31 columns]"
            ]
          },
          "metadata": {
            "tags": []
          },
          "execution_count": 19
        }
      ]
    },
    {
      "cell_type": "code",
      "metadata": {
        "id": "TkVyyPX7WeVi",
        "colab_type": "code",
        "colab": {
          "base_uri": "https://localhost:8080/",
          "height": 635
        },
        "outputId": "2b6c78fe-c40a-4acd-ad3c-0e5a9e760c6f"
      },
      "source": [
        "# checking column data types and missing values\n",
        "tweet.info()"
      ],
      "execution_count": 20,
      "outputs": [
        {
          "output_type": "stream",
          "text": [
            "<class 'pandas.core.frame.DataFrame'>\n",
            "RangeIndex: 2354 entries, 0 to 2353\n",
            "Data columns (total 31 columns):\n",
            " #   Column                         Non-Null Count  Dtype              \n",
            "---  ------                         --------------  -----              \n",
            " 0   created_at                     2354 non-null   datetime64[ns, UTC]\n",
            " 1   id                             2354 non-null   int64              \n",
            " 2   id_str                         2354 non-null   int64              \n",
            " 3   full_text                      2354 non-null   object             \n",
            " 4   truncated                      2354 non-null   bool               \n",
            " 5   display_text_range             2354 non-null   object             \n",
            " 6   entities                       2354 non-null   object             \n",
            " 7   extended_entities              2073 non-null   object             \n",
            " 8   source                         2354 non-null   object             \n",
            " 9   in_reply_to_status_id          78 non-null     float64            \n",
            " 10  in_reply_to_status_id_str      78 non-null     float64            \n",
            " 11  in_reply_to_user_id            78 non-null     float64            \n",
            " 12  in_reply_to_user_id_str        78 non-null     float64            \n",
            " 13  in_reply_to_screen_name        78 non-null     object             \n",
            " 14  user                           2354 non-null   object             \n",
            " 15  geo                            0 non-null      float64            \n",
            " 16  coordinates                    0 non-null      float64            \n",
            " 17  place                          1 non-null      object             \n",
            " 18  contributors                   0 non-null      float64            \n",
            " 19  is_quote_status                2354 non-null   bool               \n",
            " 20  retweet_count                  2354 non-null   int64              \n",
            " 21  favorite_count                 2354 non-null   int64              \n",
            " 22  favorited                      2354 non-null   bool               \n",
            " 23  retweeted                      2354 non-null   bool               \n",
            " 24  possibly_sensitive             2211 non-null   float64            \n",
            " 25  possibly_sensitive_appealable  2211 non-null   float64            \n",
            " 26  lang                           2354 non-null   object             \n",
            " 27  retweeted_status               179 non-null    object             \n",
            " 28  quoted_status_id               29 non-null     float64            \n",
            " 29  quoted_status_id_str           29 non-null     float64            \n",
            " 30  quoted_status                  28 non-null     object             \n",
            "dtypes: bool(4), datetime64[ns, UTC](1), float64(11), int64(4), object(11)\n",
            "memory usage: 505.9+ KB\n"
          ],
          "name": "stdout"
        }
      ]
    },
    {
      "cell_type": "code",
      "metadata": {
        "id": "Zd6vwKGmw3Px",
        "colab_type": "code",
        "colab": {
          "base_uri": "https://localhost:8080/",
          "height": 33
        },
        "outputId": "9b0d5813-1dc1-4721-e491-45a2d8dc7174"
      },
      "source": [
        "# Cecking the unique values for retweeted column\n",
        "tweet.retweeted.unique()"
      ],
      "execution_count": 21,
      "outputs": [
        {
          "output_type": "execute_result",
          "data": {
            "text/plain": [
              "array([False])"
            ]
          },
          "metadata": {
            "tags": []
          },
          "execution_count": 21
        }
      ]
    },
    {
      "cell_type": "markdown",
      "metadata": {
        "id": "M3qsIeVvw7pk",
        "colab_type": "text"
      },
      "source": [
        "There is only False in retweeted column. So not tweet-person has retweeted his own post."
      ]
    },
    {
      "cell_type": "code",
      "metadata": {
        "id": "qK5TsVpYXI3c",
        "colab_type": "code",
        "colab": {
          "base_uri": "https://localhost:8080/",
          "height": 33
        },
        "outputId": "9060e8df-8616-458b-ff52-31bfd3481483"
      },
      "source": [
        "# Cecking the unique values for favorited column\n",
        "tweet.favorited.unique()"
      ],
      "execution_count": 22,
      "outputs": [
        {
          "output_type": "execute_result",
          "data": {
            "text/plain": [
              "array([False,  True])"
            ]
          },
          "metadata": {
            "tags": []
          },
          "execution_count": 22
        }
      ]
    },
    {
      "cell_type": "code",
      "metadata": {
        "id": "yyqDvboKVWWn",
        "colab_type": "code",
        "colab": {
          "base_uri": "https://localhost:8080/",
          "height": 353
        },
        "outputId": "76e509e5-57a1-413c-cb6f-df92f6a5e0bf"
      },
      "source": [
        "# Choosing only the columns relevant to our analysis.\n",
        "tw=tweet[['id','full_text','user','retweet_count','favorite_count','favorited','retweeted_status']]\n",
        "tw.head()"
      ],
      "execution_count": 23,
      "outputs": [
        {
          "output_type": "execute_result",
          "data": {
            "text/html": [
              "<div>\n",
              "<style scoped>\n",
              "    .dataframe tbody tr th:only-of-type {\n",
              "        vertical-align: middle;\n",
              "    }\n",
              "\n",
              "    .dataframe tbody tr th {\n",
              "        vertical-align: top;\n",
              "    }\n",
              "\n",
              "    .dataframe thead th {\n",
              "        text-align: right;\n",
              "    }\n",
              "</style>\n",
              "<table border=\"1\" class=\"dataframe\">\n",
              "  <thead>\n",
              "    <tr style=\"text-align: right;\">\n",
              "      <th></th>\n",
              "      <th>id</th>\n",
              "      <th>full_text</th>\n",
              "      <th>user</th>\n",
              "      <th>retweet_count</th>\n",
              "      <th>favorite_count</th>\n",
              "      <th>favorited</th>\n",
              "      <th>retweeted_status</th>\n",
              "    </tr>\n",
              "  </thead>\n",
              "  <tbody>\n",
              "    <tr>\n",
              "      <th>0</th>\n",
              "      <td>892420643555336193</td>\n",
              "      <td>This is Phineas. He's a mystical boy. Only ever appears in the hole of a donut. 13/10 https://t.co/MgUWQ76dJU</td>\n",
              "      <td>{'id': 4196983835, 'id_str': '4196983835', 'name': 'WeRateDogs™ (author)', 'screen_name': 'dog_rates', 'location': 'DM YOUR DOGS, WE WILL RATE', 'description': '#1 Source for Professional Dog Rati...</td>\n",
              "      <td>8853</td>\n",
              "      <td>39467</td>\n",
              "      <td>False</td>\n",
              "      <td>NaN</td>\n",
              "    </tr>\n",
              "    <tr>\n",
              "      <th>1</th>\n",
              "      <td>892177421306343426</td>\n",
              "      <td>This is Tilly. She's just checking pup on you. Hopes you're doing ok. If not, she's available for pats, snugs, boops, the whole bit. 13/10 https://t.co/0Xxu71qeIV</td>\n",
              "      <td>{'id': 4196983835, 'id_str': '4196983835', 'name': 'WeRateDogs™ (author)', 'screen_name': 'dog_rates', 'location': 'DM YOUR DOGS, WE WILL RATE', 'description': '#1 Source for Professional Dog Rati...</td>\n",
              "      <td>6514</td>\n",
              "      <td>33819</td>\n",
              "      <td>False</td>\n",
              "      <td>NaN</td>\n",
              "    </tr>\n",
              "    <tr>\n",
              "      <th>2</th>\n",
              "      <td>891815181378084864</td>\n",
              "      <td>This is Archie. He is a rare Norwegian Pouncing Corgo. Lives in the tall grass. You never know when one may strike. 12/10 https://t.co/wUnZnhtVJB</td>\n",
              "      <td>{'id': 4196983835, 'id_str': '4196983835', 'name': 'WeRateDogs™ (author)', 'screen_name': 'dog_rates', 'location': 'DM YOUR DOGS, WE WILL RATE', 'description': '#1 Source for Professional Dog Rati...</td>\n",
              "      <td>4328</td>\n",
              "      <td>25461</td>\n",
              "      <td>False</td>\n",
              "      <td>NaN</td>\n",
              "    </tr>\n",
              "    <tr>\n",
              "      <th>3</th>\n",
              "      <td>891689557279858688</td>\n",
              "      <td>This is Darla. She commenced a snooze mid meal. 13/10 happens to the best of us https://t.co/tD36da7qLQ</td>\n",
              "      <td>{'id': 4196983835, 'id_str': '4196983835', 'name': 'WeRateDogs™ (author)', 'screen_name': 'dog_rates', 'location': 'DM YOUR DOGS, WE WILL RATE', 'description': '#1 Source for Professional Dog Rati...</td>\n",
              "      <td>8964</td>\n",
              "      <td>42908</td>\n",
              "      <td>False</td>\n",
              "      <td>NaN</td>\n",
              "    </tr>\n",
              "    <tr>\n",
              "      <th>4</th>\n",
              "      <td>891327558926688256</td>\n",
              "      <td>This is Franklin. He would like you to stop calling him \"cute.\" He is a very fierce shark and should be respected as such. 12/10 #BarkWeek https://t.co/AtUZn91f7f</td>\n",
              "      <td>{'id': 4196983835, 'id_str': '4196983835', 'name': 'WeRateDogs™ (author)', 'screen_name': 'dog_rates', 'location': 'DM YOUR DOGS, WE WILL RATE', 'description': '#1 Source for Professional Dog Rati...</td>\n",
              "      <td>9774</td>\n",
              "      <td>41048</td>\n",
              "      <td>False</td>\n",
              "      <td>NaN</td>\n",
              "    </tr>\n",
              "  </tbody>\n",
              "</table>\n",
              "</div>"
            ],
            "text/plain": [
              "                   id  ... retweeted_status\n",
              "0  892420643555336193  ...              NaN\n",
              "1  892177421306343426  ...              NaN\n",
              "2  891815181378084864  ...              NaN\n",
              "3  891689557279858688  ...              NaN\n",
              "4  891327558926688256  ...              NaN\n",
              "\n",
              "[5 rows x 7 columns]"
            ]
          },
          "metadata": {
            "tags": []
          },
          "execution_count": 23
        }
      ]
    },
    {
      "cell_type": "code",
      "metadata": {
        "id": "IP_0TGZzsff0",
        "colab_type": "code",
        "colab": {
          "base_uri": "https://localhost:8080/",
          "height": 98
        },
        "outputId": "cbcb1f5f-9181-4f56-dfc8-6267b6e852b4"
      },
      "source": [
        "# Renaming id column to tweet_id. Later will be helpful for merging dataframes.\n",
        "tw.rename(columns={'id':'tweet_id'},inplace=True)"
      ],
      "execution_count": 24,
      "outputs": [
        {
          "output_type": "stream",
          "text": [
            "/usr/local/lib/python3.6/dist-packages/pandas/core/frame.py:4133: SettingWithCopyWarning: \n",
            "A value is trying to be set on a copy of a slice from a DataFrame\n",
            "\n",
            "See the caveats in the documentation: https://pandas.pydata.org/pandas-docs/stable/user_guide/indexing.html#returning-a-view-versus-a-copy\n",
            "  errors=errors,\n"
          ],
          "name": "stderr"
        }
      ]
    },
    {
      "cell_type": "code",
      "metadata": {
        "id": "_Ycjr_8XZGzn",
        "colab_type": "code",
        "colab": {
          "base_uri": "https://localhost:8080/",
          "height": 33
        },
        "outputId": "022b3cbb-6cad-46bb-8884-691db3939c82"
      },
      "source": [
        "# Deleting data for all the retweeted tweets\n",
        "tw=tw[tw.retweeted_status.isnull()]\n",
        "len(tw)"
      ],
      "execution_count": 25,
      "outputs": [
        {
          "output_type": "execute_result",
          "data": {
            "text/plain": [
              "2175"
            ]
          },
          "metadata": {
            "tags": []
          },
          "execution_count": 25
        }
      ]
    },
    {
      "cell_type": "code",
      "metadata": {
        "id": "gre9fNZXbilm",
        "colab_type": "code",
        "colab": {
          "base_uri": "https://localhost:8080/",
          "height": 50
        },
        "outputId": "67d42998-9b31-485c-ebdb-56810e387aee"
      },
      "source": [
        "# We will extract the user id from user column\n",
        "tw['user']=tw['user'].astype(str)\n",
        "tw['user']=tw.user.str.extract('(\\d{1,})')\n",
        "tw['user'].value_counts()"
      ],
      "execution_count": 26,
      "outputs": [
        {
          "output_type": "execute_result",
          "data": {
            "text/plain": [
              "4196983835    2175\n",
              "Name: user, dtype: int64"
            ]
          },
          "metadata": {
            "tags": []
          },
          "execution_count": 26
        }
      ]
    },
    {
      "cell_type": "markdown",
      "metadata": {
        "id": "MkSuRHvyxpsW",
        "colab_type": "text"
      },
      "source": [
        "We see that there is only a single user id. Obviously the posted are made by the twitter channel **WeRateDogs** only so there will be only one user id. So it's irrelevant to keep this column."
      ]
    },
    {
      "cell_type": "code",
      "metadata": {
        "id": "eDm3bzPCdkPK",
        "colab_type": "code",
        "colab": {}
      },
      "source": [
        "# drop user column\n",
        "tw.drop('user',axis=1,inplace=True)"
      ],
      "execution_count": 27,
      "outputs": []
    },
    {
      "cell_type": "code",
      "metadata": {
        "id": "rapheOheeNFX",
        "colab_type": "code",
        "colab": {}
      },
      "source": [
        "tw['favorited']=tw['favorited'].astype(str)"
      ],
      "execution_count": 28,
      "outputs": []
    },
    {
      "cell_type": "code",
      "metadata": {
        "id": "MI8H1LvxhGXf",
        "colab_type": "code",
        "colab": {
          "base_uri": "https://localhost:8080/",
          "height": 66
        },
        "outputId": "c4b9e9a1-d956-4574-a2a1-ecef7d232e6d"
      },
      "source": [
        "tw['favorited'].value_counts()"
      ],
      "execution_count": 29,
      "outputs": [
        {
          "output_type": "execute_result",
          "data": {
            "text/plain": [
              "False    2169\n",
              "True        6\n",
              "Name: favorited, dtype: int64"
            ]
          },
          "metadata": {
            "tags": []
          },
          "execution_count": 29
        }
      ]
    },
    {
      "cell_type": "code",
      "metadata": {
        "id": "yfsi4a93jQ1N",
        "colab_type": "code",
        "colab": {
          "base_uri": "https://localhost:8080/",
          "height": 311
        },
        "outputId": "75481216-4133-4896-a7b7-cffc61083659"
      },
      "source": [
        "tw[tw['favorited']=='True']"
      ],
      "execution_count": null,
      "outputs": [
        {
          "output_type": "execute_result",
          "data": {
            "text/html": [
              "<div>\n",
              "<style scoped>\n",
              "    .dataframe tbody tr th:only-of-type {\n",
              "        vertical-align: middle;\n",
              "    }\n",
              "\n",
              "    .dataframe tbody tr th {\n",
              "        vertical-align: top;\n",
              "    }\n",
              "\n",
              "    .dataframe thead th {\n",
              "        text-align: right;\n",
              "    }\n",
              "</style>\n",
              "<table border=\"1\" class=\"dataframe\">\n",
              "  <thead>\n",
              "    <tr style=\"text-align: right;\">\n",
              "      <th></th>\n",
              "      <th>tweet_id</th>\n",
              "      <th>full_text</th>\n",
              "      <th>retweet_count</th>\n",
              "      <th>favorite_count</th>\n",
              "      <th>favorited</th>\n",
              "      <th>retweeted_status</th>\n",
              "    </tr>\n",
              "  </thead>\n",
              "  <tbody>\n",
              "    <tr>\n",
              "      <th>21</th>\n",
              "      <td>887517139158093824</td>\n",
              "      <td>I've yet to rate a Venezuelan Hover Wiener. This is such an honor. 14/10 paw-inspiring af (IG: roxy.thedoxy) https://t.co/20VrLAA8ba</td>\n",
              "      <td>12082</td>\n",
              "      <td>46959</td>\n",
              "      <td>True</td>\n",
              "      <td>NaN</td>\n",
              "    </tr>\n",
              "    <tr>\n",
              "      <th>61</th>\n",
              "      <td>880095782870896641</td>\n",
              "      <td>Please don't send in photos without dogs in them. We're not @porch_rates. Insubordinate and churlish. Pretty good porch tho 11/10 https://t.co/HauE8M3Bu4</td>\n",
              "      <td>4533</td>\n",
              "      <td>28150</td>\n",
              "      <td>True</td>\n",
              "      <td>NaN</td>\n",
              "    </tr>\n",
              "    <tr>\n",
              "      <th>63</th>\n",
              "      <td>879674319642796034</td>\n",
              "      <td>@RealKentMurphy 14/10 confirmed</td>\n",
              "      <td>10</td>\n",
              "      <td>315</td>\n",
              "      <td>True</td>\n",
              "      <td>NaN</td>\n",
              "    </tr>\n",
              "    <tr>\n",
              "      <th>471</th>\n",
              "      <td>816450570814898180</td>\n",
              "      <td>Meet Moose. He doesn't want his friend to go back to college. 13/10 looks like you're staying home John https://t.co/LIhmM7i70k</td>\n",
              "      <td>9366</td>\n",
              "      <td>33961</td>\n",
              "      <td>True</td>\n",
              "      <td>NaN</td>\n",
              "    </tr>\n",
              "    <tr>\n",
              "      <th>787</th>\n",
              "      <td>774314403806253056</td>\n",
              "      <td>I WAS SENT THE ACTUAL DOG IN THE PROFILE PIC BY HIS OWNER THIS IS SO WILD. 14/10 ULTIMATE LEGEND STATUS https://t.co/7oQ1wpfxIH</td>\n",
              "      <td>6478</td>\n",
              "      <td>24167</td>\n",
              "      <td>True</td>\n",
              "      <td>NaN</td>\n",
              "    </tr>\n",
              "    <tr>\n",
              "      <th>1005</th>\n",
              "      <td>747600769478692864</td>\n",
              "      <td>This is Bookstore and Seaweed. Bookstore is tired and Seaweed is an asshole. 10/10 and 7/10 respectively https://t.co/eUGjGjjFVJ</td>\n",
              "      <td>619</td>\n",
              "      <td>2545</td>\n",
              "      <td>True</td>\n",
              "      <td>NaN</td>\n",
              "    </tr>\n",
              "  </tbody>\n",
              "</table>\n",
              "</div>"
            ],
            "text/plain": [
              "                tweet_id  ... retweeted_status\n",
              "21    887517139158093824  ...              NaN\n",
              "61    880095782870896641  ...              NaN\n",
              "63    879674319642796034  ...              NaN\n",
              "471   816450570814898180  ...              NaN\n",
              "787   774314403806253056  ...              NaN\n",
              "1005  747600769478692864  ...              NaN\n",
              "\n",
              "[6 rows x 6 columns]"
            ]
          },
          "metadata": {
            "tags": []
          },
          "execution_count": 40
        }
      ]
    },
    {
      "cell_type": "code",
      "metadata": {
        "id": "dpf-WU-VfC6J",
        "colab_type": "code",
        "colab": {}
      },
      "source": [
        "# favorited means the tweet is liked by user itself. This will not be considered as a valid like. We will only consider the likes given by other users. So we will\n",
        "# substract 1 from the favorite_count column where there are favorited value is True\n",
        "import numpy as np\n",
        "tw[tw['favorited']=='True']\n",
        "for i in range(len(tw)):\n",
        "  if tw.iloc[i,4]=='True':\n",
        "    tw.iloc[i,3]=tw.iloc[i,3]-1   "
      ],
      "execution_count": 30,
      "outputs": []
    },
    {
      "cell_type": "markdown",
      "metadata": {
        "id": "iOqwt1Boyk8o",
        "colab_type": "text"
      },
      "source": [
        "**Quality Issues:**\n",
        "\n",
        "1. Too many duplicate columns. For eg: **geo** and **coordinates** denote the smae stuff. And even they do so, most of them has null values hence no use to us. So we remove such columns.\n",
        "\n",
        "2. **id**, **id_str** denotes the same sthing only the former is in integer format and the latter is object. We keep the former one.\n",
        "\n",
        "3. We will merge the three dataframes created so far, the date-time information(**timestamp**) column is present in of the dataframes created before so we need not incluse it in this dataframe.\n",
        "\n",
        "\n",
        "**Tidliness Issue:**\n",
        "\n",
        "1. Too many irrelevant columns making the dataframe huge and dirty. For eg: we don't need **display_text_range** column, it denotes the no. of character in the text columns which is not required for our analysis. Similarly, **quoted_status** and similar columns are not required. We are not interested if the text in post is a quote or not. So we need to remove them."
      ]
    },
    {
      "cell_type": "code",
      "metadata": {
        "id": "kzGWvyA3jmSX",
        "colab_type": "code",
        "colab": {}
      },
      "source": [
        "tw.drop(['favorited','retweeted_status'],axis=1,inplace=True)"
      ],
      "execution_count": 31,
      "outputs": []
    },
    {
      "cell_type": "markdown",
      "metadata": {
        "id": "UfpXQC4AsXvB",
        "colab_type": "text"
      },
      "source": [
        "**Tidliness Issue:**\n",
        "\n",
        "1. So we have all the required data into 3 separate dataframe. We need to merge them into one."
      ]
    },
    {
      "cell_type": "code",
      "metadata": {
        "id": "QVHcuL4BqX7e",
        "colab_type": "code",
        "colab": {}
      },
      "source": [
        "# joining the final dataframes into one\n",
        "df1=pd.merge(left=pred1,right=ta1,on='tweet_id',how='inner')\n",
        "df2=pd.merge(left=df1,right=tw,how='inner',on='tweet_id')"
      ],
      "execution_count": 32,
      "outputs": []
    },
    {
      "cell_type": "code",
      "metadata": {
        "id": "7kaJmYrPO4HY",
        "colab_type": "code",
        "colab": {
          "base_uri": "https://localhost:8080/",
          "height": 780
        },
        "outputId": "aaed6545-044e-4415-eed2-b15f9a01912d"
      },
      "source": [
        "df2.head()"
      ],
      "execution_count": 33,
      "outputs": [
        {
          "output_type": "execute_result",
          "data": {
            "text/html": [
              "<div>\n",
              "<style scoped>\n",
              "    .dataframe tbody tr th:only-of-type {\n",
              "        vertical-align: middle;\n",
              "    }\n",
              "\n",
              "    .dataframe tbody tr th {\n",
              "        vertical-align: top;\n",
              "    }\n",
              "\n",
              "    .dataframe thead th {\n",
              "        text-align: right;\n",
              "    }\n",
              "</style>\n",
              "<table border=\"1\" class=\"dataframe\">\n",
              "  <thead>\n",
              "    <tr style=\"text-align: right;\">\n",
              "      <th></th>\n",
              "      <th>tweet_id</th>\n",
              "      <th>jpg_url</th>\n",
              "      <th>p1</th>\n",
              "      <th>p1_conf</th>\n",
              "      <th>p1_dog</th>\n",
              "      <th>timestamp</th>\n",
              "      <th>text</th>\n",
              "      <th>expanded_urls</th>\n",
              "      <th>rating_numerator</th>\n",
              "      <th>name</th>\n",
              "      <th>stage</th>\n",
              "      <th>full_text</th>\n",
              "      <th>retweet_count</th>\n",
              "      <th>favorite_count</th>\n",
              "    </tr>\n",
              "  </thead>\n",
              "  <tbody>\n",
              "    <tr>\n",
              "      <th>0</th>\n",
              "      <td>666020888022790149</td>\n",
              "      <td>https://pbs.twimg.com/media/CT4udn0WwAA0aMy.jpg</td>\n",
              "      <td>Welsh_springer_spaniel</td>\n",
              "      <td>0.465074</td>\n",
              "      <td>True</td>\n",
              "      <td>2015-11-15 22:32:08 +0000</td>\n",
              "      <td>. Big fan of relaxing on stair.  would pet</td>\n",
              "      <td>https://twitter.com/dog_rates/status/666020888022790149/photo/1</td>\n",
              "      <td>8</td>\n",
              "      <td>None</td>\n",
              "      <td>0</td>\n",
              "      <td>Here we have a Japanese Irish Setter. Lost eye in Vietnam (?). Big fan of relaxing on stair. 8/10 would pet https://t.co/BLDqew2Ijj</td>\n",
              "      <td>532</td>\n",
              "      <td>2535</td>\n",
              "    </tr>\n",
              "    <tr>\n",
              "      <th>1</th>\n",
              "      <td>666029285002620928</td>\n",
              "      <td>https://pbs.twimg.com/media/CT42GRgUYAA5iDo.jpg</td>\n",
              "      <td>redbone</td>\n",
              "      <td>0.506826</td>\n",
              "      <td>True</td>\n",
              "      <td>2015-11-15 23:05:30 +0000</td>\n",
              "      <td>dogs here.  would walk the shit out of</td>\n",
              "      <td>https://twitter.com/dog_rates/status/666029285002620928/photo/1</td>\n",
              "      <td>7</td>\n",
              "      <td>None</td>\n",
              "      <td>0</td>\n",
              "      <td>This is a western brown Mitsubishi terrier. Upset about leaf. Actually 2 dogs here. 7/10 would walk the shit out of https://t.co/r7mOb2m0UI</td>\n",
              "      <td>48</td>\n",
              "      <td>132</td>\n",
              "    </tr>\n",
              "    <tr>\n",
              "      <th>2</th>\n",
              "      <td>666033412701032449</td>\n",
              "      <td>https://pbs.twimg.com/media/CT4521TWwAEvMyu.jpg</td>\n",
              "      <td>German_shepherd</td>\n",
              "      <td>0.596461</td>\n",
              "      <td>True</td>\n",
              "      <td>2015-11-15 23:21:54 +0000</td>\n",
              "      <td>maintained decks. Just look at that tongue.  would cuddle af</td>\n",
              "      <td>https://twitter.com/dog_rates/status/666033412701032449/photo/1</td>\n",
              "      <td>9</td>\n",
              "      <td>None</td>\n",
              "      <td>0</td>\n",
              "      <td>Here is a very happy pup. Big fan of well-maintained decks. Just look at that tongue. 9/10 would cuddle af https://t.co/y671yMhoiR</td>\n",
              "      <td>47</td>\n",
              "      <td>128</td>\n",
              "    </tr>\n",
              "    <tr>\n",
              "      <th>3</th>\n",
              "      <td>666044226329800704</td>\n",
              "      <td>https://pbs.twimg.com/media/CT5Dr8HUEAA-lEu.jpg</td>\n",
              "      <td>Rhodesian_ridgeback</td>\n",
              "      <td>0.408143</td>\n",
              "      <td>True</td>\n",
              "      <td>2015-11-16 00:04:52 +0000</td>\n",
              "      <td>This is a purebred Piers Morgan. Loves to Netflix and chill. Always looks like he forgot to unplug the iron.</td>\n",
              "      <td>https://twitter.com/dog_rates/status/666044226329800704/photo/1</td>\n",
              "      <td>6</td>\n",
              "      <td>None</td>\n",
              "      <td>0</td>\n",
              "      <td>This is a purebred Piers Morgan. Loves to Netflix and chill. Always looks like he forgot to unplug the iron. 6/10 https://t.co/DWnyCjf2mx</td>\n",
              "      <td>147</td>\n",
              "      <td>311</td>\n",
              "    </tr>\n",
              "    <tr>\n",
              "      <th>4</th>\n",
              "      <td>666049248165822465</td>\n",
              "      <td>https://pbs.twimg.com/media/CT5IQmsXIAAKY4A.jpg</td>\n",
              "      <td>miniature_pinscher</td>\n",
              "      <td>0.560311</td>\n",
              "      <td>True</td>\n",
              "      <td>2015-11-16 00:24:50 +0000</td>\n",
              "      <td>st generation vulpix. Enjoys sweat tea and Fox News. Cannot be phased.</td>\n",
              "      <td>https://twitter.com/dog_rates/status/666049248165822465/photo/1</td>\n",
              "      <td>5</td>\n",
              "      <td>None</td>\n",
              "      <td>0</td>\n",
              "      <td>Here we have a 1949 1st generation vulpix. Enjoys sweat tea and Fox News. Cannot be phased. 5/10 https://t.co/4B7cOc1EDq</td>\n",
              "      <td>41</td>\n",
              "      <td>111</td>\n",
              "    </tr>\n",
              "  </tbody>\n",
              "</table>\n",
              "</div>"
            ],
            "text/plain": [
              "             tweet_id  ... favorite_count\n",
              "0  666020888022790149  ...           2535\n",
              "1  666029285002620928  ...            132\n",
              "2  666033412701032449  ...            128\n",
              "3  666044226329800704  ...            311\n",
              "4  666049248165822465  ...            111\n",
              "\n",
              "[5 rows x 14 columns]"
            ]
          },
          "metadata": {
            "tags": []
          },
          "execution_count": 33
        }
      ]
    },
    {
      "cell_type": "markdown",
      "metadata": {
        "id": "X62nXc2DshdH",
        "colab_type": "text"
      },
      "source": [
        "Now in the merged dataframe, we have two columns for urls - **jpg_url** and **expanded_urls**. Former denotes the link to image in the post and latter denotes the link to original post. Though both will have the same picture still lets recheck it.\n",
        "\n",
        "We will two random samples of 5 datapoints and see if the both urls have same images.\n",
        "\n",
        "We will check the contents of the two text columns **text** and **full_text** \n",
        "in the same manner."
      ]
    },
    {
      "cell_type": "code",
      "metadata": {
        "id": "eWQEMA3ZRicZ",
        "colab_type": "code",
        "colab": {
          "base_uri": "https://localhost:8080/",
          "height": 261
        },
        "outputId": "414abe52-54d4-41c8-debc-caa6800efc0e"
      },
      "source": [
        "df3=df2.sample(5,random_state=41)\n",
        "for i,j in zip(df3['jpg_url'],df3['expanded_urls']):\n",
        "  print(i,'          ',j)\n",
        "  print('\\n')"
      ],
      "execution_count": 34,
      "outputs": [
        {
          "output_type": "stream",
          "text": [
            "https://pbs.twimg.com/media/CY816snW8AYltrQ.jpg            https://twitter.com/dog_rates/status/688828561667567616/photo/1\n",
            "\n",
            "\n",
            "https://pbs.twimg.com/media/CkZImGVUoAAwv0b.jpg            https://twitter.com/dog_rates/status/740359016048689152/photo/1\n",
            "\n",
            "\n",
            "https://pbs.twimg.com/media/CUImtzEVAAAZNJo.jpg            https://twitter.com/dog_rates/status/667138269671505920/photo/1\n",
            "\n",
            "\n",
            "https://pbs.twimg.com/media/CxvNfrhWQAA2hKM.jpg            https://twitter.com/dog_rates/status/800459316964663297/photo/1\n",
            "\n",
            "\n",
            "https://pbs.twimg.com/media/Clb5pLJWMAE-QS1.jpg            https://twitter.com/dog_rates/status/745057283344719872/photo/1,https://twitter.com/dog_rates/status/745057283344719872/photo/1\n",
            "\n",
            "\n"
          ],
          "name": "stdout"
        }
      ]
    },
    {
      "cell_type": "code",
      "metadata": {
        "id": "30iCx_HeSGD9",
        "colab_type": "code",
        "colab": {
          "base_uri": "https://localhost:8080/",
          "height": 281
        },
        "outputId": "5effc841-c399-4ed3-ff81-002e2ccb0bed"
      },
      "source": [
        "for i,j in zip(df3['text'],df3['full_text']):\n",
        "  print(i,'\\t',j)\n",
        "  print('\\n')"
      ],
      "execution_count": 35,
      "outputs": [
        {
          "output_type": "stream",
          "text": [
            "Say hello to Brad. His car probably has a spoiler. Tan year round. Likes your insta pic but doesn't text back.   \t Say hello to Brad. His car probably has a spoiler. Tan year round. Likes your insta pic but doesn't text back. 9/10 https://t.co/dfCCK3tWfr\n",
            "\n",
            "\n",
            "This is Chase. He's in a predicament.  help is on the way buddy  \t This is Chase. He's in a predicament. 9/10 help is on the way buddy https://t.co/0HmBk5sSbW\n",
            "\n",
            "\n",
            "Extremely intelligent dog here. Has learned to walk like human. Even has his own dog. Very impressive   \t Extremely intelligent dog here. Has learned to walk like human. Even has his own dog. Very impressive 10/10 https://t.co/0DvHAMdA4V\n",
            "\n",
            "\n",
            "Here's a very sleepy pupper. Appears to be portable as h*ck.  would snug intensely  \t Here's a very sleepy pupper. Appears to be portable as h*ck. 12/10 would snug intensely https://t.co/61sX7pW5Ca\n",
            "\n",
            "\n",
            "This is Oliver. He's downright gorgeous as hell. Should be on the cover of Dogue.  would introduce to mom  \t This is Oliver. He's downright gorgeous as hell. Should be on the cover of Dogue. 12/10 would introduce to mom https://t.co/BkgU3rrsXA\n",
            "\n",
            "\n"
          ],
          "name": "stdout"
        }
      ]
    },
    {
      "cell_type": "code",
      "metadata": {
        "id": "rUfRUICjRdbs",
        "colab_type": "code",
        "colab": {
          "base_uri": "https://localhost:8080/",
          "height": 261
        },
        "outputId": "445b45bb-ee7b-45b6-d3e2-850da4df75b4"
      },
      "source": [
        "df3=df2.sample(5,random_state=47)\n",
        "for i,j in zip(df3['jpg_url'],df3['expanded_urls']):\n",
        "  print(i,'          ',j)\n",
        "  print('\\n')"
      ],
      "execution_count": 36,
      "outputs": [
        {
          "output_type": "stream",
          "text": [
            "https://pbs.twimg.com/media/CWT_lOQWUAAXPaY.jpg            https://twitter.com/dog_rates/status/676946864479084545/photo/1\n",
            "\n",
            "\n",
            "https://pbs.twimg.com/media/DFyBahAVwAAhUTd.jpg            https://twitter.com/dog_rates/status/890729181411237888/photo/1,https://twitter.com/dog_rates/status/890729181411237888/photo/1\n",
            "\n",
            "\n",
            "https://pbs.twimg.com/media/Cf8qDFbWwAEf8M3.jpg            https://twitter.com/dog_rates/status/720340705894408192/photo/1\n",
            "\n",
            "\n",
            "https://pbs.twimg.com/media/CVzRXmXWIAA0Fkr.jpg            https://twitter.com/dog_rates/status/674644256330530816/photo/1\n",
            "\n",
            "\n",
            "https://pbs.twimg.com/media/CvLD-mbWYAAFI8w.jpg            https://twitter.com/dog_rates/status/788908386943430656/photo/1\n",
            "\n",
            "\n"
          ],
          "name": "stdout"
        }
      ]
    },
    {
      "cell_type": "code",
      "metadata": {
        "id": "lERGTB3rS0sW",
        "colab_type": "code",
        "colab": {
          "base_uri": "https://localhost:8080/",
          "height": 281
        },
        "outputId": "bc28f910-4340-46ea-e0c7-8d926ad3cf28"
      },
      "source": [
        "for i,j in zip(df3['text'],df3['full_text']):\n",
        "  print(i,'\\t',j)\n",
        "  print('\\n')"
      ],
      "execution_count": 37,
      "outputs": [
        {
          "output_type": "stream",
          "text": [
            "This pups goal was to get all four feet as close to each other as possible. Valiant effort   \t This pups goal was to get all four feet as close to each other as possible. Valiant effort 12/10 https://t.co/2mXALbgBTV\n",
            "\n",
            "\n",
            "When you watch your owner call another dog a good boy but then they turn back to you and say you're a great boy.   \t When you watch your owner call another dog a good boy but then they turn back to you and say you're a great boy. 13/10 https://t.co/v0nONBcwxq\n",
            "\n",
            "\n",
            "This is Derek. He just got balled on. Can't even get up. Poor thing.  hang in there pupper  \t This is Derek. He just got balled on. Can't even get up. Poor thing. 10/10 hang in there pupper https://t.co/BIRRF3bcWH\n",
            "\n",
            "\n",
            "When you see sophomores in high school driving.   \t When you see sophomores in high school driving. 11/10 https://t.co/m6aC8d1Kzp\n",
            "\n",
            "\n",
            "This is Lucy. She destroyed not one, but two remotes trying to turn off the debate.  relatable af  \t This is Lucy. She destroyed not one, but two remotes trying to turn off the debate. 11/10 relatable af https://t.co/3BXh073tDm\n",
            "\n",
            "\n"
          ],
          "name": "stdout"
        }
      ]
    },
    {
      "cell_type": "markdown",
      "metadata": {
        "id": "203c5Lact6da",
        "colab_type": "text"
      },
      "source": [
        "We see(*by opening each url obtained from sampling*) that urls form both columns in the two samples have the same image, so we can drop one. Similarly, the two text columns have same contents so we can also drop one here."
      ]
    },
    {
      "cell_type": "code",
      "metadata": {
        "id": "7kGui-3NYb1p",
        "colab_type": "code",
        "colab": {}
      },
      "source": [
        "# Dropping the required columns\n",
        "df2.drop(['expanded_urls','full_text'],inplace=True,axis=1)"
      ],
      "execution_count": 38,
      "outputs": []
    },
    {
      "cell_type": "code",
      "metadata": {
        "id": "BEmMKRnDYa_w",
        "colab_type": "code",
        "colab": {}
      },
      "source": [
        "# Saving the final dataframe\n",
        "df2.to_csv('twitter_archive_master.csv',index=None)"
      ],
      "execution_count": 39,
      "outputs": []
    },
    {
      "cell_type": "markdown",
      "metadata": {
        "id": "36O4sa0slkus",
        "colab_type": "text"
      },
      "source": [
        "# Data Analysis & Visualization"
      ]
    },
    {
      "cell_type": "code",
      "metadata": {
        "id": "VVEsrORz0n5m",
        "colab_type": "code",
        "colab": {
          "base_uri": "https://localhost:8080/",
          "height": 370
        },
        "outputId": "07ca5a2c-c1cf-4ec5-f8c5-b1a55d20b6fd"
      },
      "source": [
        "# Reading the finalized, clean dataframe\n",
        "import pandas as pd\n",
        "df=pd.read_csv('twitter_archive_master.csv',parse_dates=['timestamp'])\n",
        "df.head()"
      ],
      "execution_count": 40,
      "outputs": [
        {
          "output_type": "execute_result",
          "data": {
            "text/html": [
              "<div>\n",
              "<style scoped>\n",
              "    .dataframe tbody tr th:only-of-type {\n",
              "        vertical-align: middle;\n",
              "    }\n",
              "\n",
              "    .dataframe tbody tr th {\n",
              "        vertical-align: top;\n",
              "    }\n",
              "\n",
              "    .dataframe thead th {\n",
              "        text-align: right;\n",
              "    }\n",
              "</style>\n",
              "<table border=\"1\" class=\"dataframe\">\n",
              "  <thead>\n",
              "    <tr style=\"text-align: right;\">\n",
              "      <th></th>\n",
              "      <th>tweet_id</th>\n",
              "      <th>jpg_url</th>\n",
              "      <th>p1</th>\n",
              "      <th>p1_conf</th>\n",
              "      <th>p1_dog</th>\n",
              "      <th>timestamp</th>\n",
              "      <th>text</th>\n",
              "      <th>rating_numerator</th>\n",
              "      <th>name</th>\n",
              "      <th>stage</th>\n",
              "      <th>retweet_count</th>\n",
              "      <th>favorite_count</th>\n",
              "    </tr>\n",
              "  </thead>\n",
              "  <tbody>\n",
              "    <tr>\n",
              "      <th>0</th>\n",
              "      <td>666020888022790149</td>\n",
              "      <td>https://pbs.twimg.com/media/CT4udn0WwAA0aMy.jpg</td>\n",
              "      <td>Welsh_springer_spaniel</td>\n",
              "      <td>0.465074</td>\n",
              "      <td>True</td>\n",
              "      <td>2015-11-15 22:32:08+00:00</td>\n",
              "      <td>. Big fan of relaxing on stair.  would pet</td>\n",
              "      <td>8</td>\n",
              "      <td>None</td>\n",
              "      <td>0</td>\n",
              "      <td>532</td>\n",
              "      <td>2535</td>\n",
              "    </tr>\n",
              "    <tr>\n",
              "      <th>1</th>\n",
              "      <td>666029285002620928</td>\n",
              "      <td>https://pbs.twimg.com/media/CT42GRgUYAA5iDo.jpg</td>\n",
              "      <td>redbone</td>\n",
              "      <td>0.506826</td>\n",
              "      <td>True</td>\n",
              "      <td>2015-11-15 23:05:30+00:00</td>\n",
              "      <td>dogs here.  would walk the shit out of</td>\n",
              "      <td>7</td>\n",
              "      <td>None</td>\n",
              "      <td>0</td>\n",
              "      <td>48</td>\n",
              "      <td>132</td>\n",
              "    </tr>\n",
              "    <tr>\n",
              "      <th>2</th>\n",
              "      <td>666033412701032449</td>\n",
              "      <td>https://pbs.twimg.com/media/CT4521TWwAEvMyu.jpg</td>\n",
              "      <td>German_shepherd</td>\n",
              "      <td>0.596461</td>\n",
              "      <td>True</td>\n",
              "      <td>2015-11-15 23:21:54+00:00</td>\n",
              "      <td>maintained decks. Just look at that tongue.  would cuddle af</td>\n",
              "      <td>9</td>\n",
              "      <td>None</td>\n",
              "      <td>0</td>\n",
              "      <td>47</td>\n",
              "      <td>128</td>\n",
              "    </tr>\n",
              "    <tr>\n",
              "      <th>3</th>\n",
              "      <td>666044226329800704</td>\n",
              "      <td>https://pbs.twimg.com/media/CT5Dr8HUEAA-lEu.jpg</td>\n",
              "      <td>Rhodesian_ridgeback</td>\n",
              "      <td>0.408143</td>\n",
              "      <td>True</td>\n",
              "      <td>2015-11-16 00:04:52+00:00</td>\n",
              "      <td>This is a purebred Piers Morgan. Loves to Netflix and chill. Always looks like he forgot to unplug the iron.</td>\n",
              "      <td>6</td>\n",
              "      <td>None</td>\n",
              "      <td>0</td>\n",
              "      <td>147</td>\n",
              "      <td>311</td>\n",
              "    </tr>\n",
              "    <tr>\n",
              "      <th>4</th>\n",
              "      <td>666049248165822465</td>\n",
              "      <td>https://pbs.twimg.com/media/CT5IQmsXIAAKY4A.jpg</td>\n",
              "      <td>miniature_pinscher</td>\n",
              "      <td>0.560311</td>\n",
              "      <td>True</td>\n",
              "      <td>2015-11-16 00:24:50+00:00</td>\n",
              "      <td>st generation vulpix. Enjoys sweat tea and Fox News. Cannot be phased.</td>\n",
              "      <td>5</td>\n",
              "      <td>None</td>\n",
              "      <td>0</td>\n",
              "      <td>41</td>\n",
              "      <td>111</td>\n",
              "    </tr>\n",
              "  </tbody>\n",
              "</table>\n",
              "</div>"
            ],
            "text/plain": [
              "             tweet_id  ... favorite_count\n",
              "0  666020888022790149  ...           2535\n",
              "1  666029285002620928  ...            132\n",
              "2  666033412701032449  ...            128\n",
              "3  666044226329800704  ...            311\n",
              "4  666049248165822465  ...            111\n",
              "\n",
              "[5 rows x 12 columns]"
            ]
          },
          "metadata": {
            "tags": []
          },
          "execution_count": 40
        }
      ]
    },
    {
      "cell_type": "code",
      "metadata": {
        "id": "xxn2Z1mk0o29",
        "colab_type": "code",
        "colab": {
          "base_uri": "https://localhost:8080/",
          "height": 33
        },
        "outputId": "c804adcf-e450-47ad-fa89-c23644734660"
      },
      "source": [
        "df.shape"
      ],
      "execution_count": 41,
      "outputs": [
        {
          "output_type": "execute_result",
          "data": {
            "text/plain": [
              "(1994, 12)"
            ]
          },
          "metadata": {
            "tags": []
          },
          "execution_count": 41
        }
      ]
    },
    {
      "cell_type": "code",
      "metadata": {
        "id": "0Aq4ZX1Y1S7_",
        "colab_type": "code",
        "colab": {
          "base_uri": "https://localhost:8080/",
          "height": 326
        },
        "outputId": "22bc04f1-e7e9-4a52-90e3-45bc063d012b"
      },
      "source": [
        "df.info()"
      ],
      "execution_count": 42,
      "outputs": [
        {
          "output_type": "stream",
          "text": [
            "<class 'pandas.core.frame.DataFrame'>\n",
            "RangeIndex: 1994 entries, 0 to 1993\n",
            "Data columns (total 12 columns):\n",
            " #   Column            Non-Null Count  Dtype              \n",
            "---  ------            --------------  -----              \n",
            " 0   tweet_id          1994 non-null   int64              \n",
            " 1   jpg_url           1994 non-null   object             \n",
            " 2   p1                1994 non-null   object             \n",
            " 3   p1_conf           1994 non-null   float64            \n",
            " 4   p1_dog            1994 non-null   bool               \n",
            " 5   timestamp         1994 non-null   datetime64[ns, UTC]\n",
            " 6   text              1962 non-null   object             \n",
            " 7   rating_numerator  1994 non-null   int64              \n",
            " 8   name              1994 non-null   object             \n",
            " 9   stage             1994 non-null   object             \n",
            " 10  retweet_count     1994 non-null   int64              \n",
            " 11  favorite_count    1994 non-null   int64              \n",
            "dtypes: bool(1), datetime64[ns, UTC](1), float64(1), int64(4), object(5)\n",
            "memory usage: 173.4+ KB\n"
          ],
          "name": "stdout"
        }
      ]
    },
    {
      "cell_type": "markdown",
      "metadata": {
        "id": "_PNDMcD85t3Z",
        "colab_type": "text"
      },
      "source": [
        "We will only take into account of those datapoints which are concerned with dogs."
      ]
    },
    {
      "cell_type": "code",
      "metadata": {
        "id": "96qs7nMa1WRj",
        "colab_type": "code",
        "colab": {}
      },
      "source": [
        "# Selecting rows only with dog tweets\n",
        "df1=df.query('p1_dog==True')"
      ],
      "execution_count": 43,
      "outputs": []
    },
    {
      "cell_type": "code",
      "metadata": {
        "id": "SBK2LMJD1zcj",
        "colab_type": "code",
        "colab": {
          "base_uri": "https://localhost:8080/",
          "height": 395
        },
        "outputId": "40352777-8b4b-497d-dba3-8bb67a03ea3e"
      },
      "source": [
        "# First we will check the top 10 breeds with most number of posts\n",
        "df1['p1']=df1['p1'].str.lower()\n",
        "df1.p1.value_counts()[:10][::-1].plot(kind='barh',title='Count of no. of posts of Top Breeds')"
      ],
      "execution_count": 44,
      "outputs": [
        {
          "output_type": "stream",
          "text": [
            "/usr/local/lib/python3.6/dist-packages/ipykernel_launcher.py:2: SettingWithCopyWarning: \n",
            "A value is trying to be set on a copy of a slice from a DataFrame.\n",
            "Try using .loc[row_indexer,col_indexer] = value instead\n",
            "\n",
            "See the caveats in the documentation: https://pandas.pydata.org/pandas-docs/stable/user_guide/indexing.html#returning-a-view-versus-a-copy\n",
            "  \n"
          ],
          "name": "stderr"
        },
        {
          "output_type": "execute_result",
          "data": {
            "text/plain": [
              "<matplotlib.axes._subplots.AxesSubplot at 0x7faa29a9f710>"
            ]
          },
          "metadata": {
            "tags": []
          },
          "execution_count": 44
        },
        {
          "output_type": "display_data",
          "data": {
            "image/png": "[encoded data removed]",
            "text/plain": [
              "<Figure size 432x288 with 1 Axes>"
            ]
          },
          "metadata": {
            "tags": [],
            "needs_background": "light"
          }
        }
      ]
    },
    {
      "cell_type": "markdown",
      "metadata": {
        "id": "UTU1DEOCZOGu",
        "colab_type": "text"
      },
      "source": [
        "**Golden retriever** has the highest no. of post followed by others."
      ]
    },
    {
      "cell_type": "code",
      "metadata": {
        "id": "DBbfSZ8H11aF",
        "colab_type": "code",
        "colab": {
          "base_uri": "https://localhost:8080/",
          "height": 297
        },
        "outputId": "df15d2b5-4611-4a3e-972b-40ba9cbb3ce5"
      },
      "source": [
        "# Getting the breeds with highest average rating\n",
        "df1.groupby('p1')['rating_numerator'].mean().reset_index().sort_values(by='rating_numerator',ascending=False)[:10][::-1].plot(kind='barh',x='p1',y='rating_numerator',legend=False,color='orange',title='Top 10 Breeds with Highest Rating')"
      ],
      "execution_count": 45,
      "outputs": [
        {
          "output_type": "execute_result",
          "data": {
            "text/plain": [
              "<matplotlib.axes._subplots.AxesSubplot at 0x7faa29783c88>"
            ]
          },
          "metadata": {
            "tags": []
          },
          "execution_count": 45
        },
        {
          "output_type": "display_data",
          "data": {
            "image/png": "[encoded data removed]",
            "text/plain": [
              "<Figure size 432x288 with 1 Axes>"
            ]
          },
          "metadata": {
            "tags": [],
            "needs_background": "light"
          }
        }
      ]
    },
    {
      "cell_type": "markdown",
      "metadata": {
        "id": "RU8swlIcZWYo",
        "colab_type": "text"
      },
      "source": [
        "**Clumber** has highest average rating followed by others."
      ]
    },
    {
      "cell_type": "code",
      "metadata": {
        "id": "evBFFnje14th",
        "colab_type": "code",
        "colab": {
          "base_uri": "https://localhost:8080/",
          "height": 297
        },
        "outputId": "a15d94af-a77e-4ba3-ae04-64aacafbd3ab"
      },
      "source": [
        "# Getting the top breeds with high confidence on the prediction by the algorithm\n",
        "df1.groupby('p1')['p1_conf'].mean().reset_index().sort_values(by='p1_conf',ascending=False)[:10][::-1].plot(kind='barh',x='p1',y='p1_conf',legend=False,color='skyblue',title='Top 10 Breeds most confidently predicted by the Algorithm')"
      ],
      "execution_count": 46,
      "outputs": [
        {
          "output_type": "execute_result",
          "data": {
            "text/plain": [
              "<matplotlib.axes._subplots.AxesSubplot at 0x7faa292fe828>"
            ]
          },
          "metadata": {
            "tags": []
          },
          "execution_count": 46
        },
        {
          "output_type": "display_data",
          "data": {
            "image/png": "[encoded data removed]",
            "text/plain": [
              "<Figure size 432x288 with 1 Axes>"
            ]
          },
          "metadata": {
            "tags": [],
            "needs_background": "light"
          }
        }
      ]
    },
    {
      "cell_type": "markdown",
      "metadata": {
        "id": "hpeGkQk6ZcxC",
        "colab_type": "text"
      },
      "source": [
        "**Komondor** has highest mean prediction confidence score by the algorithm followed by others."
      ]
    },
    {
      "cell_type": "markdown",
      "metadata": {
        "id": "p-Mb4CQQ7B2S",
        "colab_type": "text"
      },
      "source": [
        "Let us check by taking some random breeds whether the algorithm performed prediction on all their pics with almost same confidence or whether they predicted very confidently on some of their pics whereas on others they predicted badly. "
      ]
    },
    {
      "cell_type": "code",
      "metadata": {
        "id": "7NlzWuIp18Sd",
        "colab_type": "code",
        "colab": {
          "base_uri": "https://localhost:8080/",
          "height": 345
        },
        "outputId": "44745abb-e480-433b-a612-19f99ca6f08b"
      },
      "source": [
        "k=df1[['p1','p1_conf']]\n",
        "df_1=k[k.p1.isin(['komondor','pug','bull_mastiff','pomeranian','samoyed'])]\n",
        "df_1.head()\n",
        "sns.catplot(kind='box',col='p1',data=df_1,y='p1_conf',sharey=False,color='lightgreen')"
      ],
      "execution_count": 47,
      "outputs": [
        {
          "output_type": "execute_result",
          "data": {
            "text/plain": [
              "<seaborn.axisgrid.FacetGrid at 0x7faa29128cf8>"
            ]
          },
          "metadata": {
            "tags": []
          },
          "execution_count": 47
        },
        {
          "output_type": "display_data",
          "data": {
            "image/png": "[encoded data removed]",
            "text/plain": [
              "<Figure size 1800x360 with 5 Axes>"
            ]
          },
          "metadata": {
            "tags": [],
            "needs_background": "light"
          }
        }
      ]
    },
    {
      "cell_type": "markdown",
      "metadata": {
        "id": "_-moBoAXYCl9",
        "colab_type": "text"
      },
      "source": [
        "We see that for some breeds the prediction confidence vary lot. It might be due to reason some images clearly depicts the picture of dog while others it is unclear(*bad quality or many uncessary things captured in image*). For eg: in case of **samoyed** has 8th highest mean confidence score(0.75) by the algorithm as seen from the horizontal bar plot, some images of samoyed breed has low score of 0.5 as well as high close to 1."
      ]
    },
    {
      "cell_type": "code",
      "metadata": {
        "id": "SWYHFP225Dc9",
        "colab_type": "code",
        "colab": {
          "base_uri": "https://localhost:8080/",
          "height": 286
        },
        "outputId": "94c8e71d-795c-405f-dd82-56f97856059e"
      },
      "source": [
        "# Lets check the correlation between the rating_numerator, retweet_count, and favorite_count columns\n",
        "import seaborn as sns\n",
        "df1_corr=df1[['rating_numerator','retweet_count','favorite_count']].corr()\n",
        "sns.heatmap(df1_corr,annot=True,cmap='GnBu')"
      ],
      "execution_count": 48,
      "outputs": [
        {
          "output_type": "execute_result",
          "data": {
            "text/plain": [
              "<matplotlib.axes._subplots.AxesSubplot at 0x7faa286e15c0>"
            ]
          },
          "metadata": {
            "tags": []
          },
          "execution_count": 48
        },
        {
          "output_type": "display_data",
          "data": {
            "image/png": "[encoded data removed]",
            "text/plain": [
              "<Figure size 432x288 with 2 Axes>"
            ]
          },
          "metadata": {
            "tags": [],
            "needs_background": "light"
          }
        }
      ]
    },
    {
      "cell_type": "markdown",
      "metadata": {
        "id": "RISFz4azAd4n",
        "colab_type": "text"
      },
      "source": [
        "There is high positive correlation between the **retweet_count** and **favorite_count**. Wherehas they hardly have correlation with **rating_numerator** values."
      ]
    },
    {
      "cell_type": "markdown",
      "metadata": {
        "id": "JGWJaelRBDxI",
        "colab_type": "text"
      },
      "source": [
        "Now will we use hypothesis test to check whether the high correlation we observed between **retweet_count** and **favorite_count** is statistically significant or due to random chance using hypothesis test.\n",
        "\n",
        "**H0(Null Hypothesis):** There is no correlation between the variables.\n",
        "\n",
        "**HA(Alternate Hypothesis):** There is significant correlation between the variables.\n",
        "\n",
        "If the **p-value <0.05** we reject the null hypothesis in favor of alternate hypothesis with **95% significance level**."
      ]
    },
    {
      "cell_type": "code",
      "metadata": {
        "id": "P5LGkMYj5GNy",
        "colab_type": "code",
        "colab": {
          "base_uri": "https://localhost:8080/",
          "height": 296
        },
        "outputId": "22201d41-b3ed-4b33-bba9-06f6d0d477f1"
      },
      "source": [
        "# Checking the significance of correlation between the retweet_count and favorite_count columns\n",
        "from scipy.stats import pearsonr\n",
        "t,p=pearsonr(df1['retweet_count'],df1['favorite_count'])\n",
        "ax=sns.regplot(x='retweet_count',y='favorite_count',data=df1)\n",
        "text=ax.set_title(f\"Corretation ={t:.03f} | p-value ={p:.03f}\")"
      ],
      "execution_count": 49,
      "outputs": [
        {
          "output_type": "display_data",
          "data": {
            "image/png": "[encoded data removed]",
            "text/plain": [
              "<Figure size 432x288 with 1 Axes>"
            ]
          },
          "metadata": {
            "tags": [],
            "needs_background": "light"
          }
        }
      ]
    },
    {
      "cell_type": "markdown",
      "metadata": {
        "id": "QgW-yR25X4W_",
        "colab_type": "text"
      },
      "source": [
        "From the above result, null hypothesis rejected thus there is significant correlation between the two variables."
      ]
    },
    {
      "cell_type": "code",
      "metadata": {
        "id": "gvGVbBJp5MWp",
        "colab_type": "code",
        "colab": {
          "base_uri": "https://localhost:8080/",
          "height": 297
        },
        "outputId": "484330d4-c8d1-4e31-fd1d-777d7fdc029e"
      },
      "source": [
        "df1.groupby('p1')['retweet_count'].mean().reset_index().sort_values(by='retweet_count',ascending=False)[:10][::-1].plot(kind='barh',x='p1',y='retweet_count',legend=False,color='pink',title='Top 10 Breeds with Highest Retweet Count')"
      ],
      "execution_count": 50,
      "outputs": [
        {
          "output_type": "execute_result",
          "data": {
            "text/plain": [
              "<matplotlib.axes._subplots.AxesSubplot at 0x7faa2822d2b0>"
            ]
          },
          "metadata": {
            "tags": []
          },
          "execution_count": 50
        },
        {
          "output_type": "display_data",
          "data": {
            "image/png": "[encoded data removed]",
            "text/plain": [
              "<Figure size 432x288 with 1 Axes>"
            ]
          },
          "metadata": {
            "tags": [],
            "needs_background": "light"
          }
        }
      ]
    },
    {
      "cell_type": "markdown",
      "metadata": {
        "id": "aof4ZJ7FwgoL",
        "colab_type": "text"
      },
      "source": [
        "**Standard poodle** has highest retweet count followed by others. Since there is high correlation between **retweet_counts** and **favorite_counts**, those breeds with high **retweet_counts** will also have high **favorite_counts**."
      ]
    },
    {
      "cell_type": "code",
      "metadata": {
        "id": "u0lcN6iu5OMv",
        "colab_type": "code",
        "colab": {
          "base_uri": "https://localhost:8080/",
          "height": 585
        },
        "outputId": "bbfa82a9-7988-4571-ce32-bf5aacce9cc5"
      },
      "source": [
        "# Viewing the image which had the highest prediction confidence by the algorithm of all\n",
        "from PIL import Image\n",
        "import requests\n",
        "url=df1.sort_values(by='rating_numerator',ascending=False).head(1)['jpg_url'].values.tolist()[0]\n",
        "im = Image.open(requests.get(url, stream=True).raw)\n",
        "im"
      ],
      "execution_count": 51,
      "outputs": [
        {
          "output_type": "execute_result",
          "data": {
            "image/png": "[encoded data removed]",
            "text/plain": [
              "<PIL.JpegImagePlugin.JpegImageFile image mode=RGB size=320x568 at 0x7FAA27CF8240>"
            ]
          },
          "metadata": {
            "tags": []
          },
          "execution_count": 51
        }
      ]
    },
    {
      "cell_type": "code",
      "metadata": {
        "id": "VETom9yB5Q46",
        "colab_type": "code",
        "colab": {
          "base_uri": "https://localhost:8080/",
          "height": 228
        },
        "outputId": "d1728858-f1b4-488e-9c97-6ce13de61de4"
      },
      "source": [
        "# Checking the values present in timestamd columns\n",
        "df1.timestamp.unique()"
      ],
      "execution_count": 52,
      "outputs": [
        {
          "output_type": "execute_result",
          "data": {
            "text/plain": [
              "<DatetimeArray>\n",
              "['2015-11-15 22:32:08+00:00', '2015-11-15 23:05:30+00:00',\n",
              " '2015-11-15 23:21:54+00:00', '2015-11-16 00:04:52+00:00',\n",
              " '2015-11-16 00:24:50+00:00', '2015-11-16 00:30:50+00:00',\n",
              " '2015-11-16 00:49:46+00:00', '2015-11-16 01:01:59+00:00',\n",
              " '2015-11-16 01:22:45+00:00', '2015-11-16 01:52:02+00:00',\n",
              " ...\n",
              " '2017-07-25 16:11:53+00:00', '2017-07-26 00:31:25+00:00',\n",
              " '2017-07-26 15:59:51+00:00', '2017-07-27 16:25:51+00:00',\n",
              " '2017-07-28 00:22:40+00:00', '2017-07-28 16:27:12+00:00',\n",
              " '2017-07-29 00:08:17+00:00', '2017-07-29 16:00:24+00:00',\n",
              " '2017-07-31 00:18:03+00:00', '2017-08-01 00:17:27+00:00']\n",
              "Length: 1477, dtype: datetime64[ns, UTC]"
            ]
          },
          "metadata": {
            "tags": []
          },
          "execution_count": 52
        }
      ]
    },
    {
      "cell_type": "code",
      "metadata": {
        "id": "2trZw57P5R_X",
        "colab_type": "code",
        "colab": {
          "base_uri": "https://localhost:8080/",
          "height": 591
        },
        "outputId": "c4a1753f-5adf-47fe-e5f8-5cc2f12f66b2"
      },
      "source": [
        "# Plotting the total number of tweets in a particular hour\n",
        "df1['hour']=df1.timestamp.dt.hour\n",
        "df1_=df1.hour.value_counts().reset_index().sort_values(by='index')\n",
        "df1_.head()\n",
        "import matplotlib.pyplot as plt\n",
        "plt.figure(figsize=(30,8))\n",
        "df1_['index']=df1_['index'].astype(str)\n",
        "plt.errorbar(x=df1_['index'],y=df1_['hour'],fmt='.b',markersize=18)\n",
        "plt.grid(axis='x')\n",
        "plt.title('Total No. of tweets in a Particular Hour',fontsize=20)\n",
        "plt.xlabel('Hour')\n",
        "plt.ylabel('Count')"
      ],
      "execution_count": 53,
      "outputs": [
        {
          "output_type": "stream",
          "text": [
            "/usr/local/lib/python3.6/dist-packages/ipykernel_launcher.py:2: SettingWithCopyWarning: \n",
            "A value is trying to be set on a copy of a slice from a DataFrame.\n",
            "Try using .loc[row_indexer,col_indexer] = value instead\n",
            "\n",
            "See the caveats in the documentation: https://pandas.pydata.org/pandas-docs/stable/user_guide/indexing.html#returning-a-view-versus-a-copy\n",
            "  \n"
          ],
          "name": "stderr"
        },
        {
          "output_type": "execute_result",
          "data": {
            "text/plain": [
              "Text(0, 0.5, 'Count')"
            ]
          },
          "metadata": {
            "tags": []
          },
          "execution_count": 53
        },
        {
          "output_type": "display_data",
          "data": {
            "image/png": "[encoded data removed]",
            "text/plain": [
              "<Figure size 2160x576 with 1 Axes>"
            ]
          },
          "metadata": {
            "tags": [],
            "needs_background": "light"
          }
        }
      ]
    },
    {
      "cell_type": "markdown",
      "metadata": {
        "id": "pHgHY248-_Za",
        "colab_type": "text"
      },
      "source": [
        "We can see that most tweets are posted at 1.00 - 2.00 hrs timeframe, followed by 0.00 - 1.00 hrs and then others . Similarly least are at 5.00 -6.00, 13.00- 15.00 hrs.\n",
        "\n",
        "So at night from 0.00 to 3.00 hrs  and in evening (16.00) people prefer twitting most whereas at morning(5.00 - 7.00 hrs) and (afternoon 13.00 -15.00 hrs) people tweet the least."
      ]
    },
    {
      "cell_type": "markdown",
      "metadata": {
        "id": "GE30QyIB9IAS",
        "colab_type": "text"
      },
      "source": [
        "Similarly as above dotplot we want to see, the total counts of tweets monthwise."
      ]
    },
    {
      "cell_type": "code",
      "metadata": {
        "id": "lOTMG5Jw5Wpc",
        "colab_type": "code",
        "colab": {
          "base_uri": "https://localhost:8080/",
          "height": 392
        },
        "outputId": "6c54e886-89bc-4ca2-f200-c58095e3fefb"
      },
      "source": [
        "# Grouping tweet counts by month\n",
        "df1_m=df1.timestamp.dt.month_name().value_counts().reset_index().sort_values(by='index')\n",
        "df1_m"
      ],
      "execution_count": 54,
      "outputs": [
        {
          "output_type": "execute_result",
          "data": {
            "text/html": [
              "<div>\n",
              "<style scoped>\n",
              "    .dataframe tbody tr th:only-of-type {\n",
              "        vertical-align: middle;\n",
              "    }\n",
              "\n",
              "    .dataframe tbody tr th {\n",
              "        vertical-align: top;\n",
              "    }\n",
              "\n",
              "    .dataframe thead th {\n",
              "        text-align: right;\n",
              "    }\n",
              "</style>\n",
              "<table border=\"1\" class=\"dataframe\">\n",
              "  <thead>\n",
              "    <tr style=\"text-align: right;\">\n",
              "      <th></th>\n",
              "      <th>index</th>\n",
              "      <th>timestamp</th>\n",
              "    </tr>\n",
              "  </thead>\n",
              "  <tbody>\n",
              "    <tr>\n",
              "      <th>7</th>\n",
              "      <td>April</td>\n",
              "      <td>76</td>\n",
              "    </tr>\n",
              "    <tr>\n",
              "      <th>11</th>\n",
              "      <td>August</td>\n",
              "      <td>45</td>\n",
              "    </tr>\n",
              "    <tr>\n",
              "      <th>0</th>\n",
              "      <td>December</td>\n",
              "      <td>292</td>\n",
              "    </tr>\n",
              "    <tr>\n",
              "      <th>3</th>\n",
              "      <td>February</td>\n",
              "      <td>136</td>\n",
              "    </tr>\n",
              "    <tr>\n",
              "      <th>2</th>\n",
              "      <td>January</td>\n",
              "      <td>179</td>\n",
              "    </tr>\n",
              "    <tr>\n",
              "      <th>5</th>\n",
              "      <td>July</td>\n",
              "      <td>112</td>\n",
              "    </tr>\n",
              "    <tr>\n",
              "      <th>6</th>\n",
              "      <td>June</td>\n",
              "      <td>100</td>\n",
              "    </tr>\n",
              "    <tr>\n",
              "      <th>4</th>\n",
              "      <td>March</td>\n",
              "      <td>129</td>\n",
              "    </tr>\n",
              "    <tr>\n",
              "      <th>8</th>\n",
              "      <td>May</td>\n",
              "      <td>73</td>\n",
              "    </tr>\n",
              "    <tr>\n",
              "      <th>1</th>\n",
              "      <td>November</td>\n",
              "      <td>236</td>\n",
              "    </tr>\n",
              "    <tr>\n",
              "      <th>10</th>\n",
              "      <td>October</td>\n",
              "      <td>49</td>\n",
              "    </tr>\n",
              "    <tr>\n",
              "      <th>9</th>\n",
              "      <td>September</td>\n",
              "      <td>50</td>\n",
              "    </tr>\n",
              "  </tbody>\n",
              "</table>\n",
              "</div>"
            ],
            "text/plain": [
              "        index  timestamp\n",
              "7       April         76\n",
              "11     August         45\n",
              "0    December        292\n",
              "3    February        136\n",
              "2     January        179\n",
              "5        July        112\n",
              "6        June        100\n",
              "4       March        129\n",
              "8         May         73\n",
              "1    November        236\n",
              "10    October         49\n",
              "9   September         50"
            ]
          },
          "metadata": {
            "tags": []
          },
          "execution_count": 54
        }
      ]
    },
    {
      "cell_type": "markdown",
      "metadata": {
        "id": "ZQQFDqsK9ES6",
        "colab_type": "text"
      },
      "source": [
        "As seen in timestamp column, not all the months are present with same frequency. Months like **Jan, Feb** etc are present twice (**2016,2017**) whereas the months like **September** present only once(**2016**). The count begins from mid-November 2015 so the **November** month is taken **1.5** times( **half of 2015 and full of 2016**). So if we just take the count it would be unfair because months with higher frequency will have higher probability of having large counts.\n",
        "\n",
        "So we will adjust them by dividing respective counts with month frequency. Eg: total Nove counts will be divided by 1.5"
      ]
    },
    {
      "cell_type": "code",
      "metadata": {
        "id": "7_bfNtkl5f_X",
        "colab_type": "code",
        "colab": {}
      },
      "source": [
        "for i in range(len(df1_m)):\n",
        "  if df1_m.iloc[i,0] in ['August','September','October']:\n",
        "    df1_m.iloc[i,1]=df1_m.iloc[i,1]/1\n",
        "  elif df1_m.iloc[i,0]=='November':\n",
        "    df1_m.iloc[i,1]=df1_m.iloc[i,1]/1.5\n",
        "  else:\n",
        "    df1_m.iloc[i,1]=df1_m.iloc[i,1]/2"
      ],
      "execution_count": 55,
      "outputs": []
    },
    {
      "cell_type": "code",
      "metadata": {
        "id": "slmEGAKd5jnN",
        "colab_type": "code",
        "colab": {
          "base_uri": "https://localhost:8080/",
          "height": 392
        },
        "outputId": "212276b2-3332-4a49-cde2-6fe6e426e4dc"
      },
      "source": [
        "# Adjusted counts\n",
        "df1_m"
      ],
      "execution_count": 56,
      "outputs": [
        {
          "output_type": "execute_result",
          "data": {
            "text/html": [
              "<div>\n",
              "<style scoped>\n",
              "    .dataframe tbody tr th:only-of-type {\n",
              "        vertical-align: middle;\n",
              "    }\n",
              "\n",
              "    .dataframe tbody tr th {\n",
              "        vertical-align: top;\n",
              "    }\n",
              "\n",
              "    .dataframe thead th {\n",
              "        text-align: right;\n",
              "    }\n",
              "</style>\n",
              "<table border=\"1\" class=\"dataframe\">\n",
              "  <thead>\n",
              "    <tr style=\"text-align: right;\">\n",
              "      <th></th>\n",
              "      <th>index</th>\n",
              "      <th>timestamp</th>\n",
              "    </tr>\n",
              "  </thead>\n",
              "  <tbody>\n",
              "    <tr>\n",
              "      <th>7</th>\n",
              "      <td>April</td>\n",
              "      <td>38.000000</td>\n",
              "    </tr>\n",
              "    <tr>\n",
              "      <th>11</th>\n",
              "      <td>August</td>\n",
              "      <td>45.000000</td>\n",
              "    </tr>\n",
              "    <tr>\n",
              "      <th>0</th>\n",
              "      <td>December</td>\n",
              "      <td>146.000000</td>\n",
              "    </tr>\n",
              "    <tr>\n",
              "      <th>3</th>\n",
              "      <td>February</td>\n",
              "      <td>68.000000</td>\n",
              "    </tr>\n",
              "    <tr>\n",
              "      <th>2</th>\n",
              "      <td>January</td>\n",
              "      <td>89.500000</td>\n",
              "    </tr>\n",
              "    <tr>\n",
              "      <th>5</th>\n",
              "      <td>July</td>\n",
              "      <td>56.000000</td>\n",
              "    </tr>\n",
              "    <tr>\n",
              "      <th>6</th>\n",
              "      <td>June</td>\n",
              "      <td>50.000000</td>\n",
              "    </tr>\n",
              "    <tr>\n",
              "      <th>4</th>\n",
              "      <td>March</td>\n",
              "      <td>64.500000</td>\n",
              "    </tr>\n",
              "    <tr>\n",
              "      <th>8</th>\n",
              "      <td>May</td>\n",
              "      <td>36.500000</td>\n",
              "    </tr>\n",
              "    <tr>\n",
              "      <th>1</th>\n",
              "      <td>November</td>\n",
              "      <td>157.333333</td>\n",
              "    </tr>\n",
              "    <tr>\n",
              "      <th>10</th>\n",
              "      <td>October</td>\n",
              "      <td>49.000000</td>\n",
              "    </tr>\n",
              "    <tr>\n",
              "      <th>9</th>\n",
              "      <td>September</td>\n",
              "      <td>50.000000</td>\n",
              "    </tr>\n",
              "  </tbody>\n",
              "</table>\n",
              "</div>"
            ],
            "text/plain": [
              "        index   timestamp\n",
              "7       April   38.000000\n",
              "11     August   45.000000\n",
              "0    December  146.000000\n",
              "3    February   68.000000\n",
              "2     January   89.500000\n",
              "5        July   56.000000\n",
              "6        June   50.000000\n",
              "4       March   64.500000\n",
              "8         May   36.500000\n",
              "1    November  157.333333\n",
              "10    October   49.000000\n",
              "9   September   50.000000"
            ]
          },
          "metadata": {
            "tags": []
          },
          "execution_count": 56
        }
      ]
    },
    {
      "cell_type": "code",
      "metadata": {
        "id": "iyqbPtO25mp4",
        "colab_type": "code",
        "colab": {
          "base_uri": "https://localhost:8080/",
          "height": 562
        },
        "outputId": "ee3c95c5-8b7a-4d5d-eac1-1e76f00a7ac6"
      },
      "source": [
        "# Plotting adjusted counts month-wise\n",
        "plt.figure(figsize=(24,8))\n",
        "plt.errorbar(x=df1_m['index'],y=df1_m['timestamp'],fmt='.y',markersize=18)\n",
        "g=plt.grid(axis='x')\n",
        "t=plt.title('Total No. of tweets in a Particular Month',fontsize=20)\n",
        "plt.xlabel('Month')\n",
        "plt.ylabel('Count')\n",
        "x=plt.xticks(rotation=90)"
      ],
      "execution_count": 57,
      "outputs": [
        {
          "output_type": "display_data",
          "data": {
            "image/png": "[encoded data removed]",
            "text/plain": [
              "<Figure size 1728x576 with 1 Axes>"
            ]
          },
          "metadata": {
            "tags": [],
            "needs_background": "light"
          }
        }
      ]
    },
    {
      "cell_type": "markdown",
      "metadata": {
        "id": "zy4b5VfeADVt",
        "colab_type": "text"
      },
      "source": [
        "Most tweets are posted in **November** followed by others. Least done in **May, April**."
      ]
    },
    {
      "cell_type": "markdown",
      "metadata": {
        "id": "3Mtb3FExrcAC",
        "colab_type": "text"
      },
      "source": [
        "We will compare the average ratings as well as the two popularity measures(retweet and favorite counts) across the stages."
      ]
    },
    {
      "cell_type": "code",
      "metadata": {
        "id": "KcXYwT0Rq_SH",
        "colab_type": "code",
        "colab": {
          "base_uri": "https://localhost:8080/",
          "height": 532
        },
        "outputId": "6a6a1232-4969-4c28-9e91-a09c117396c2"
      },
      "source": [
        "# Not taking into account those entries which have stage not specified\n",
        "df__=df1[df1.stage!='0']\n",
        "df__.head()"
      ],
      "execution_count": 61,
      "outputs": [
        {
          "output_type": "execute_result",
          "data": {
            "text/html": [
              "<div>\n",
              "<style scoped>\n",
              "    .dataframe tbody tr th:only-of-type {\n",
              "        vertical-align: middle;\n",
              "    }\n",
              "\n",
              "    .dataframe tbody tr th {\n",
              "        vertical-align: top;\n",
              "    }\n",
              "\n",
              "    .dataframe thead th {\n",
              "        text-align: right;\n",
              "    }\n",
              "</style>\n",
              "<table border=\"1\" class=\"dataframe\">\n",
              "  <thead>\n",
              "    <tr style=\"text-align: right;\">\n",
              "      <th></th>\n",
              "      <th>tweet_id</th>\n",
              "      <th>jpg_url</th>\n",
              "      <th>p1</th>\n",
              "      <th>p1_conf</th>\n",
              "      <th>p1_dog</th>\n",
              "      <th>timestamp</th>\n",
              "      <th>text</th>\n",
              "      <th>rating_numerator</th>\n",
              "      <th>name</th>\n",
              "      <th>stage</th>\n",
              "      <th>retweet_count</th>\n",
              "      <th>favorite_count</th>\n",
              "      <th>hour</th>\n",
              "    </tr>\n",
              "  </thead>\n",
              "  <tbody>\n",
              "    <tr>\n",
              "      <th>331</th>\n",
              "      <td>672160042234327040</td>\n",
              "      <td>https://pbs.twimg.com/media/CVP9_beUEAAwURR.jpg</td>\n",
              "      <td>pug</td>\n",
              "      <td>0.561027</td>\n",
              "      <td>True</td>\n",
              "      <td>2015-12-02 21:06:56+00:00</td>\n",
              "      <td>This is Bubba. He's a Titted Peebles Aorta. Evolutionary masterpiece. Comfortable with his body.  great pupper</td>\n",
              "      <td>8</td>\n",
              "      <td>Bubba</td>\n",
              "      <td>pupper</td>\n",
              "      <td>395</td>\n",
              "      <td>918</td>\n",
              "      <td>21</td>\n",
              "    </tr>\n",
              "    <tr>\n",
              "      <th>339</th>\n",
              "      <td>672254177670729728</td>\n",
              "      <td>https://pbs.twimg.com/media/CVRTmz1WcAA4uMF.jpg</td>\n",
              "      <td>pug</td>\n",
              "      <td>0.979487</td>\n",
              "      <td>True</td>\n",
              "      <td>2015-12-03 03:21:00+00:00</td>\n",
              "      <td>This is Rolf. He's having the time of his life.  good pupper</td>\n",
              "      <td>11</td>\n",
              "      <td>Rolf</td>\n",
              "      <td>pupper</td>\n",
              "      <td>800</td>\n",
              "      <td>1515</td>\n",
              "      <td>3</td>\n",
              "    </tr>\n",
              "    <tr>\n",
              "      <th>346</th>\n",
              "      <td>672481316919734272</td>\n",
              "      <td>https://pbs.twimg.com/media/CVUiMUeW4AEQgkU.jpg</td>\n",
              "      <td>border_collie</td>\n",
              "      <td>0.599454</td>\n",
              "      <td>True</td>\n",
              "      <td>2015-12-03 18:23:34+00:00</td>\n",
              "      <td>Say hello to Jazz. She should be on the cover of Vogue.  gorgeous pupper</td>\n",
              "      <td>12</td>\n",
              "      <td>Jazz</td>\n",
              "      <td>pupper</td>\n",
              "      <td>137</td>\n",
              "      <td>757</td>\n",
              "      <td>18</td>\n",
              "    </tr>\n",
              "    <tr>\n",
              "      <th>353</th>\n",
              "      <td>672594978741354496</td>\n",
              "      <td>https://pbs.twimg.com/media/CVWJkJXWsAInlZl.jpg</td>\n",
              "      <td>great_pyrenees</td>\n",
              "      <td>0.755945</td>\n",
              "      <td>True</td>\n",
              "      <td>2015-12-04 01:55:13+00:00</td>\n",
              "      <td>Meet Scott. Just trying to catch his train to work. Doesn't need everybody staring.  ignore the haters pupper</td>\n",
              "      <td>9</td>\n",
              "      <td>Scott</td>\n",
              "      <td>pupper</td>\n",
              "      <td>661</td>\n",
              "      <td>1411</td>\n",
              "      <td>1</td>\n",
              "    </tr>\n",
              "    <tr>\n",
              "      <th>357</th>\n",
              "      <td>672622327801233409</td>\n",
              "      <td>https://pbs.twimg.com/media/CVWicBbUYAIomjC.jpg</td>\n",
              "      <td>golden_retriever</td>\n",
              "      <td>0.952773</td>\n",
              "      <td>True</td>\n",
              "      <td>2015-12-04 03:43:54+00:00</td>\n",
              "      <td>This lil pupper is sad because we haven't found Kony yet. RT to spread awareness.  would pet firmly</td>\n",
              "      <td>12</td>\n",
              "      <td>None</td>\n",
              "      <td>pupper</td>\n",
              "      <td>542</td>\n",
              "      <td>1377</td>\n",
              "      <td>3</td>\n",
              "    </tr>\n",
              "  </tbody>\n",
              "</table>\n",
              "</div>"
            ],
            "text/plain": [
              "               tweet_id  ... hour\n",
              "331  672160042234327040  ...   21\n",
              "339  672254177670729728  ...    3\n",
              "346  672481316919734272  ...   18\n",
              "353  672594978741354496  ...    1\n",
              "357  672622327801233409  ...    3\n",
              "\n",
              "[5 rows x 13 columns]"
            ]
          },
          "metadata": {
            "tags": []
          },
          "execution_count": 61
        }
      ]
    },
    {
      "cell_type": "code",
      "metadata": {
        "id": "vC5UM2QkskKi",
        "colab_type": "code",
        "colab": {
          "base_uri": "https://localhost:8080/",
          "height": 223
        },
        "outputId": "ca9c5488-fc5d-409d-d9a9-62ef2c89451e"
      },
      "source": [
        "df1__=df__.groupby('stage')['rating_numerator','retweet_count','favorite_count'].mean()\n",
        "df1__"
      ],
      "execution_count": 62,
      "outputs": [
        {
          "output_type": "stream",
          "text": [
            "/usr/local/lib/python3.6/dist-packages/ipykernel_launcher.py:1: FutureWarning: Indexing with multiple keys (implicitly converted to a tuple of keys) will be deprecated, use a list instead.\n",
            "  \"\"\"Entry point for launching an IPython kernel.\n"
          ],
          "name": "stderr"
        },
        {
          "output_type": "execute_result",
          "data": {
            "text/html": [
              "<div>\n",
              "<style scoped>\n",
              "    .dataframe tbody tr th:only-of-type {\n",
              "        vertical-align: middle;\n",
              "    }\n",
              "\n",
              "    .dataframe tbody tr th {\n",
              "        vertical-align: top;\n",
              "    }\n",
              "\n",
              "    .dataframe thead th {\n",
              "        text-align: right;\n",
              "    }\n",
              "</style>\n",
              "<table border=\"1\" class=\"dataframe\">\n",
              "  <thead>\n",
              "    <tr style=\"text-align: right;\">\n",
              "      <th></th>\n",
              "      <th>rating_numerator</th>\n",
              "      <th>retweet_count</th>\n",
              "      <th>favorite_count</th>\n",
              "    </tr>\n",
              "    <tr>\n",
              "      <th>stage</th>\n",
              "      <th></th>\n",
              "      <th></th>\n",
              "      <th></th>\n",
              "    </tr>\n",
              "  </thead>\n",
              "  <tbody>\n",
              "    <tr>\n",
              "      <th>doggo</th>\n",
              "      <td>11.896552</td>\n",
              "      <td>7265.034483</td>\n",
              "      <td>19927.258621</td>\n",
              "    </tr>\n",
              "    <tr>\n",
              "      <th>floofer</th>\n",
              "      <td>12.000000</td>\n",
              "      <td>4968.714286</td>\n",
              "      <td>13206.000000</td>\n",
              "    </tr>\n",
              "    <tr>\n",
              "      <th>pupper</th>\n",
              "      <td>11.062500</td>\n",
              "      <td>2557.027778</td>\n",
              "      <td>8048.430556</td>\n",
              "    </tr>\n",
              "    <tr>\n",
              "      <th>puppo</th>\n",
              "      <td>12.000000</td>\n",
              "      <td>6551.473684</td>\n",
              "      <td>22308.210526</td>\n",
              "    </tr>\n",
              "  </tbody>\n",
              "</table>\n",
              "</div>"
            ],
            "text/plain": [
              "         rating_numerator  retweet_count  favorite_count\n",
              "stage                                                   \n",
              "doggo           11.896552    7265.034483    19927.258621\n",
              "floofer         12.000000    4968.714286    13206.000000\n",
              "pupper          11.062500    2557.027778     8048.430556\n",
              "puppo           12.000000    6551.473684    22308.210526"
            ]
          },
          "metadata": {
            "tags": []
          },
          "execution_count": 62
        }
      ]
    },
    {
      "cell_type": "code",
      "metadata": {
        "id": "lWfnna4drye4",
        "colab_type": "code",
        "colab": {
          "base_uri": "https://localhost:8080/",
          "height": 542
        },
        "outputId": "f574f1ef-8f10-4299-fb03-cf87d9346037"
      },
      "source": [
        "plt.figure(figsize=(24,8))\n",
        "plt.errorbar(x=df1__.index,y=df1__['rating_numerator'],fmt='.g',markersize=18)\n",
        "plt.errorbar(x=df1__.index,y=df1__['retweet_count'],fmt='.r',markersize=18)\n",
        "plt.errorbar(x=df1__.index,y=df1__['favorite_count'],fmt='.b',markersize=18)\n",
        "g=plt.grid(axis='x')\n",
        "l=plt.legend(['rating_numerator','retweet_count','favorite_count'])\n",
        "t=plt.title('Comparison of Different Counts Across Different Stage',fontsize=20)\n",
        "plt.xlabel('Stage')\n",
        "plt.ylabel('Count')\n",
        "x=plt.xticks(rotation=90)"
      ],
      "execution_count": 68,
      "outputs": [
        {
          "output_type": "display_data",
          "data": {
            "image/png": "[encoded data removed]",
            "text/plain": [
              "<Figure size 1728x576 with 1 Axes>"
            ]
          },
          "metadata": {
            "tags": [],
            "needs_background": "light"
          }
        }
      ]
    },
    {
      "cell_type": "markdown",
      "metadata": {
        "id": "vakAIUYQvHjF",
        "colab_type": "text"
      },
      "source": [
        "From the table and plot it's evident that the average rating is almost same for all the stages but the two popularity measures(*retweet count & favorite count*) are low for **pupper** and best for **doggo** and **puppo**."
      ]
    },
    {
      "cell_type": "markdown",
      "metadata": {
        "id": "qY7dzRuQXam8",
        "colab_type": "text"
      },
      "source": [
        "#Conclusions:\n",
        "\n",
        "1. **Golden Retriever** has the highest number of posts followed by others.\n",
        "\n",
        "2. **Clumber** has highest average rating followed by other breeds.\n",
        "\n",
        "3. **Komondor** has highest mean prediction confidence by the algorithm, followed by others. Although in some breeds the prediction confidence varies a lot from image to image.\n",
        "\n",
        "4. There is a high **significant positive correlation (0.91)** between retweet count and favorite count.\n",
        "\n",
        "5. We can see that most tweets are posted at 1.00 - 2.00 hrs timeframe, followed by 0.00 - 1.00 hrs and then others . Similarly least are at 5.00 -6.00, 13.00- 15.00 hrs.\n",
        "So at night from 0.00 to 3.00 hrs  and in evening (16.00) people prefer twitting most whereas at morning(5.00 - 7.00 hrs) and (afternoon 13.00 -15.00 hrs) people tweet the least.\n",
        "\n",
        "6. Most tweets are posted in **November** followed by **December** and then others others. Least done in **May, April**.\n",
        "\n",
        "7. Average rating is almost same for all the stages but the two popularity measures are low for **pupper** and best for **doggo and puppo.**\n",
        "\n",
        "8. **Standard poodle** has highest retweet count followed by others. Since there is high correlation between **retweet_counts** and **favorite_counts**, those breeds with high **retweet_counts** will also have high **favorite_counts**."
      ]
    }
  ]
}
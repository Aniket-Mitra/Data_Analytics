{
  "nbformat": 4,
  "nbformat_minor": 0,
  "metadata": {
    "colab": {
      "name": "Udacity_Project_2.ipynb",
      "provenance": [],
      "collapsed_sections": []
    },
    "kernelspec": {
      "name": "python3",
      "display_name": "Python 3"
    }
  },
  "cells": [
    {
      "cell_type": "markdown",
      "metadata": {
        "id": "VKX33giKaP-e",
        "colab_type": "text"
      },
      "source": [
        "# Problem Statement"
      ]
    },
    {
      "cell_type": "markdown",
      "metadata": {
        "id": "KivBsB6wT4pE",
        "colab_type": "text"
      },
      "source": [
        "Sometimes a person makes a doctor appointments **in Brazil** but fail to show up. It could be a serious issue as patients not showing up may have critical disease and later may have health troubles. So the aim here is to identify what are the kind of persons who fails to show up in Doctor's appointment.\n"
      ]
    },
    {
      "cell_type": "markdown",
      "metadata": {
        "id": "rqi8hc66aVIE",
        "colab_type": "text"
      },
      "source": [
        "# Possible Questions Needs to be Explored"
      ]
    },
    {
      "cell_type": "markdown",
      "metadata": {
        "id": "F-HN3Gt4UrHP",
        "colab_type": "text"
      },
      "source": [
        "Possible Questions we will explore here are:\n",
        "\n",
        "Q1. Are age of person and gender dependent on whether a person show-up?\n",
        "\n",
        "Q2. Are scholarship/monetary benefits obtained from **Bolsa Família** Program of Goverenment encouraging to a large extent the people to go to doctor. It is because we suspect that many people may ultimately cancel their appointments due to lack of money.\n",
        "\n",
        "Q3. Does SMS Alert received for the appointment help in reducing no-show?\n",
        "\n",
        "Q4. How much people with very critical health condition miss their appointments?\n",
        "\n",
        "Q5. People of which neighbourhoods are more prone to no-show?"
      ]
    },
    {
      "cell_type": "code",
      "metadata": {
        "id": "r4aHuSUjqNQb",
        "colab_type": "code",
        "outputId": "26196095-dd45-499d-8ee7-be45c945d222",
        "colab": {
          "base_uri": "https://localhost:8080/",
          "height": 34
        }
      },
      "source": [
        "!ls"
      ],
      "execution_count": 124,
      "outputs": [
        {
          "output_type": "stream",
          "text": [
            "noshowappointments-kagglev2-may-2016.csv  sample_data\n"
          ],
          "name": "stdout"
        }
      ]
    },
    {
      "cell_type": "code",
      "metadata": {
        "id": "AovxD_iOsqBH",
        "colab_type": "code",
        "colab": {}
      },
      "source": [
        "# importing the requisite libraries and reading the data\n",
        "import numpy as np\n",
        "import pandas as pd\n",
        "df=pd.read_csv('noshowappointments-kagglev2-may-2016.csv')"
      ],
      "execution_count": 0,
      "outputs": []
    },
    {
      "cell_type": "code",
      "metadata": {
        "id": "Q4XffTBfsxXs",
        "colab_type": "code",
        "outputId": "093df052-6e85-4d05-f7e1-c55a7b138ae8",
        "colab": {
          "base_uri": "https://localhost:8080/",
          "height": 297
        }
      },
      "source": [
        "df.head()"
      ],
      "execution_count": 126,
      "outputs": [
        {
          "output_type": "execute_result",
          "data": {
            "text/html": [
              "<div>\n",
              "<style scoped>\n",
              "    .dataframe tbody tr th:only-of-type {\n",
              "        vertical-align: middle;\n",
              "    }\n",
              "\n",
              "    .dataframe tbody tr th {\n",
              "        vertical-align: top;\n",
              "    }\n",
              "\n",
              "    .dataframe thead th {\n",
              "        text-align: right;\n",
              "    }\n",
              "</style>\n",
              "<table border=\"1\" class=\"dataframe\">\n",
              "  <thead>\n",
              "    <tr style=\"text-align: right;\">\n",
              "      <th></th>\n",
              "      <th>PatientId</th>\n",
              "      <th>AppointmentID</th>\n",
              "      <th>Gender</th>\n",
              "      <th>ScheduledDay</th>\n",
              "      <th>AppointmentDay</th>\n",
              "      <th>Age</th>\n",
              "      <th>Neighbourhood</th>\n",
              "      <th>Scholarship</th>\n",
              "      <th>Hipertension</th>\n",
              "      <th>Diabetes</th>\n",
              "      <th>Alcoholism</th>\n",
              "      <th>Handcap</th>\n",
              "      <th>SMS_received</th>\n",
              "      <th>No-show</th>\n",
              "    </tr>\n",
              "  </thead>\n",
              "  <tbody>\n",
              "    <tr>\n",
              "      <th>0</th>\n",
              "      <td>2.987250e+13</td>\n",
              "      <td>5642903</td>\n",
              "      <td>F</td>\n",
              "      <td>2016-04-29T18:38:08Z</td>\n",
              "      <td>2016-04-29T00:00:00Z</td>\n",
              "      <td>62</td>\n",
              "      <td>JARDIM DA PENHA</td>\n",
              "      <td>0</td>\n",
              "      <td>1</td>\n",
              "      <td>0</td>\n",
              "      <td>0</td>\n",
              "      <td>0</td>\n",
              "      <td>0</td>\n",
              "      <td>No</td>\n",
              "    </tr>\n",
              "    <tr>\n",
              "      <th>1</th>\n",
              "      <td>5.589978e+14</td>\n",
              "      <td>5642503</td>\n",
              "      <td>M</td>\n",
              "      <td>2016-04-29T16:08:27Z</td>\n",
              "      <td>2016-04-29T00:00:00Z</td>\n",
              "      <td>56</td>\n",
              "      <td>JARDIM DA PENHA</td>\n",
              "      <td>0</td>\n",
              "      <td>0</td>\n",
              "      <td>0</td>\n",
              "      <td>0</td>\n",
              "      <td>0</td>\n",
              "      <td>0</td>\n",
              "      <td>No</td>\n",
              "    </tr>\n",
              "    <tr>\n",
              "      <th>2</th>\n",
              "      <td>4.262962e+12</td>\n",
              "      <td>5642549</td>\n",
              "      <td>F</td>\n",
              "      <td>2016-04-29T16:19:04Z</td>\n",
              "      <td>2016-04-29T00:00:00Z</td>\n",
              "      <td>62</td>\n",
              "      <td>MATA DA PRAIA</td>\n",
              "      <td>0</td>\n",
              "      <td>0</td>\n",
              "      <td>0</td>\n",
              "      <td>0</td>\n",
              "      <td>0</td>\n",
              "      <td>0</td>\n",
              "      <td>No</td>\n",
              "    </tr>\n",
              "    <tr>\n",
              "      <th>3</th>\n",
              "      <td>8.679512e+11</td>\n",
              "      <td>5642828</td>\n",
              "      <td>F</td>\n",
              "      <td>2016-04-29T17:29:31Z</td>\n",
              "      <td>2016-04-29T00:00:00Z</td>\n",
              "      <td>8</td>\n",
              "      <td>PONTAL DE CAMBURI</td>\n",
              "      <td>0</td>\n",
              "      <td>0</td>\n",
              "      <td>0</td>\n",
              "      <td>0</td>\n",
              "      <td>0</td>\n",
              "      <td>0</td>\n",
              "      <td>No</td>\n",
              "    </tr>\n",
              "    <tr>\n",
              "      <th>4</th>\n",
              "      <td>8.841186e+12</td>\n",
              "      <td>5642494</td>\n",
              "      <td>F</td>\n",
              "      <td>2016-04-29T16:07:23Z</td>\n",
              "      <td>2016-04-29T00:00:00Z</td>\n",
              "      <td>56</td>\n",
              "      <td>JARDIM DA PENHA</td>\n",
              "      <td>0</td>\n",
              "      <td>1</td>\n",
              "      <td>1</td>\n",
              "      <td>0</td>\n",
              "      <td>0</td>\n",
              "      <td>0</td>\n",
              "      <td>No</td>\n",
              "    </tr>\n",
              "  </tbody>\n",
              "</table>\n",
              "</div>"
            ],
            "text/plain": [
              "      PatientId  AppointmentID Gender  ... Handcap SMS_received  No-show\n",
              "0  2.987250e+13        5642903      F  ...       0            0       No\n",
              "1  5.589978e+14        5642503      M  ...       0            0       No\n",
              "2  4.262962e+12        5642549      F  ...       0            0       No\n",
              "3  8.679512e+11        5642828      F  ...       0            0       No\n",
              "4  8.841186e+12        5642494      F  ...       0            0       No\n",
              "\n",
              "[5 rows x 14 columns]"
            ]
          },
          "metadata": {
            "tags": []
          },
          "execution_count": 126
        }
      ]
    },
    {
      "cell_type": "code",
      "metadata": {
        "id": "eD4DyJ4hyfSS",
        "colab_type": "code",
        "outputId": "8ffed7b5-7c91-4628-8e82-beb79a7df0f1",
        "colab": {
          "base_uri": "https://localhost:8080/",
          "height": 287
        }
      },
      "source": [
        "#Examining the whole DataFrame\n",
        "df.describe()"
      ],
      "execution_count": 127,
      "outputs": [
        {
          "output_type": "execute_result",
          "data": {
            "text/html": [
              "<div>\n",
              "<style scoped>\n",
              "    .dataframe tbody tr th:only-of-type {\n",
              "        vertical-align: middle;\n",
              "    }\n",
              "\n",
              "    .dataframe tbody tr th {\n",
              "        vertical-align: top;\n",
              "    }\n",
              "\n",
              "    .dataframe thead th {\n",
              "        text-align: right;\n",
              "    }\n",
              "</style>\n",
              "<table border=\"1\" class=\"dataframe\">\n",
              "  <thead>\n",
              "    <tr style=\"text-align: right;\">\n",
              "      <th></th>\n",
              "      <th>PatientId</th>\n",
              "      <th>AppointmentID</th>\n",
              "      <th>Age</th>\n",
              "      <th>Scholarship</th>\n",
              "      <th>Hipertension</th>\n",
              "      <th>Diabetes</th>\n",
              "      <th>Alcoholism</th>\n",
              "      <th>Handcap</th>\n",
              "      <th>SMS_received</th>\n",
              "    </tr>\n",
              "  </thead>\n",
              "  <tbody>\n",
              "    <tr>\n",
              "      <th>count</th>\n",
              "      <td>1.105270e+05</td>\n",
              "      <td>1.105270e+05</td>\n",
              "      <td>110527.000000</td>\n",
              "      <td>110527.000000</td>\n",
              "      <td>110527.000000</td>\n",
              "      <td>110527.000000</td>\n",
              "      <td>110527.000000</td>\n",
              "      <td>110527.000000</td>\n",
              "      <td>110527.000000</td>\n",
              "    </tr>\n",
              "    <tr>\n",
              "      <th>mean</th>\n",
              "      <td>1.474963e+14</td>\n",
              "      <td>5.675305e+06</td>\n",
              "      <td>37.088874</td>\n",
              "      <td>0.098266</td>\n",
              "      <td>0.197246</td>\n",
              "      <td>0.071865</td>\n",
              "      <td>0.030400</td>\n",
              "      <td>0.022248</td>\n",
              "      <td>0.321026</td>\n",
              "    </tr>\n",
              "    <tr>\n",
              "      <th>std</th>\n",
              "      <td>2.560949e+14</td>\n",
              "      <td>7.129575e+04</td>\n",
              "      <td>23.110205</td>\n",
              "      <td>0.297675</td>\n",
              "      <td>0.397921</td>\n",
              "      <td>0.258265</td>\n",
              "      <td>0.171686</td>\n",
              "      <td>0.161543</td>\n",
              "      <td>0.466873</td>\n",
              "    </tr>\n",
              "    <tr>\n",
              "      <th>min</th>\n",
              "      <td>3.921784e+04</td>\n",
              "      <td>5.030230e+06</td>\n",
              "      <td>-1.000000</td>\n",
              "      <td>0.000000</td>\n",
              "      <td>0.000000</td>\n",
              "      <td>0.000000</td>\n",
              "      <td>0.000000</td>\n",
              "      <td>0.000000</td>\n",
              "      <td>0.000000</td>\n",
              "    </tr>\n",
              "    <tr>\n",
              "      <th>25%</th>\n",
              "      <td>4.172614e+12</td>\n",
              "      <td>5.640286e+06</td>\n",
              "      <td>18.000000</td>\n",
              "      <td>0.000000</td>\n",
              "      <td>0.000000</td>\n",
              "      <td>0.000000</td>\n",
              "      <td>0.000000</td>\n",
              "      <td>0.000000</td>\n",
              "      <td>0.000000</td>\n",
              "    </tr>\n",
              "    <tr>\n",
              "      <th>50%</th>\n",
              "      <td>3.173184e+13</td>\n",
              "      <td>5.680573e+06</td>\n",
              "      <td>37.000000</td>\n",
              "      <td>0.000000</td>\n",
              "      <td>0.000000</td>\n",
              "      <td>0.000000</td>\n",
              "      <td>0.000000</td>\n",
              "      <td>0.000000</td>\n",
              "      <td>0.000000</td>\n",
              "    </tr>\n",
              "    <tr>\n",
              "      <th>75%</th>\n",
              "      <td>9.439172e+13</td>\n",
              "      <td>5.725524e+06</td>\n",
              "      <td>55.000000</td>\n",
              "      <td>0.000000</td>\n",
              "      <td>0.000000</td>\n",
              "      <td>0.000000</td>\n",
              "      <td>0.000000</td>\n",
              "      <td>0.000000</td>\n",
              "      <td>1.000000</td>\n",
              "    </tr>\n",
              "    <tr>\n",
              "      <th>max</th>\n",
              "      <td>9.999816e+14</td>\n",
              "      <td>5.790484e+06</td>\n",
              "      <td>115.000000</td>\n",
              "      <td>1.000000</td>\n",
              "      <td>1.000000</td>\n",
              "      <td>1.000000</td>\n",
              "      <td>1.000000</td>\n",
              "      <td>4.000000</td>\n",
              "      <td>1.000000</td>\n",
              "    </tr>\n",
              "  </tbody>\n",
              "</table>\n",
              "</div>"
            ],
            "text/plain": [
              "          PatientId  AppointmentID  ...        Handcap   SMS_received\n",
              "count  1.105270e+05   1.105270e+05  ...  110527.000000  110527.000000\n",
              "mean   1.474963e+14   5.675305e+06  ...       0.022248       0.321026\n",
              "std    2.560949e+14   7.129575e+04  ...       0.161543       0.466873\n",
              "min    3.921784e+04   5.030230e+06  ...       0.000000       0.000000\n",
              "25%    4.172614e+12   5.640286e+06  ...       0.000000       0.000000\n",
              "50%    3.173184e+13   5.680573e+06  ...       0.000000       0.000000\n",
              "75%    9.439172e+13   5.725524e+06  ...       0.000000       1.000000\n",
              "max    9.999816e+14   5.790484e+06  ...       4.000000       1.000000\n",
              "\n",
              "[8 rows x 9 columns]"
            ]
          },
          "metadata": {
            "tags": []
          },
          "execution_count": 127
        }
      ]
    },
    {
      "cell_type": "markdown",
      "metadata": {
        "id": "t4N0UzJ-aCNC",
        "colab_type": "text"
      },
      "source": [
        "# Q1. Are age of person and gender dependent on whether a person show-up?"
      ]
    },
    {
      "cell_type": "code",
      "metadata": {
        "id": "XCzKTFFPtJlD",
        "colab_type": "code",
        "outputId": "a032cf00-3459-4002-8c19-23122f5be37f",
        "colab": {
          "base_uri": "https://localhost:8080/",
          "height": 176
        }
      },
      "source": [
        "# Examining thr 'Age' Attribute \n",
        "df.Age.describe()"
      ],
      "execution_count": 128,
      "outputs": [
        {
          "output_type": "execute_result",
          "data": {
            "text/plain": [
              "count    110527.000000\n",
              "mean         37.088874\n",
              "std          23.110205\n",
              "min          -1.000000\n",
              "25%          18.000000\n",
              "50%          37.000000\n",
              "75%          55.000000\n",
              "max         115.000000\n",
              "Name: Age, dtype: float64"
            ]
          },
          "metadata": {
            "tags": []
          },
          "execution_count": 128
        }
      ]
    },
    {
      "cell_type": "code",
      "metadata": {
        "id": "5lJWRU2CwHtP",
        "colab_type": "code",
        "outputId": "fa01e358-ab8c-4634-b10c-572877165518",
        "colab": {
          "base_uri": "https://localhost:8080/",
          "height": 158
        }
      },
      "source": [
        "# Examining the ages of different values in details\n",
        "df.Age.unique()"
      ],
      "execution_count": 129,
      "outputs": [
        {
          "output_type": "execute_result",
          "data": {
            "text/plain": [
              "array([ 62,  56,   8,  76,  23,  39,  21,  19,  30,  29,  22,  28,  54,\n",
              "        15,  50,  40,  46,   4,  13,  65,  45,  51,  32,  12,  61,  38,\n",
              "        79,  18,  63,  64,  85,  59,  55,  71,  49,  78,  31,  58,  27,\n",
              "         6,   2,  11,   7,   0,   3,   1,  69,  68,  60,  67,  36,  10,\n",
              "        35,  20,  26,  34,  33,  16,  42,   5,  47,  17,  41,  44,  37,\n",
              "        24,  66,  77,  81,  70,  53,  75,  73,  52,  74,  43,  89,  57,\n",
              "        14,   9,  48,  83,  72,  25,  80,  87,  88,  84,  82,  90,  94,\n",
              "        86,  91,  98,  92,  96,  93,  95,  97, 102, 115, 100,  99,  -1])"
            ]
          },
          "metadata": {
            "tags": []
          },
          "execution_count": 129
        }
      ]
    },
    {
      "cell_type": "markdown",
      "metadata": {
        "id": "-VIYg93mafyR",
        "colab_type": "text"
      },
      "source": [
        "We know the age of person normally ranges from0-100. But here are some strange values like **102,115,-1** etc. Now we heard that some people are strong enough to live for more than 100 years. Also these very old people need more medical care. So we keep those records. But -1 is totally absurd, it's probably a typo so we drop it."
      ]
    },
    {
      "cell_type": "code",
      "metadata": {
        "id": "bDK5As_ftvT8",
        "colab_type": "code",
        "outputId": "845dba90-e8fa-49ef-e7a9-d524434fb283",
        "colab": {
          "base_uri": "https://localhost:8080/",
          "height": 111
        }
      },
      "source": [
        "# Examining the record of person with Age -1\n",
        "df[df['Age']==-1]"
      ],
      "execution_count": 130,
      "outputs": [
        {
          "output_type": "execute_result",
          "data": {
            "text/html": [
              "<div>\n",
              "<style scoped>\n",
              "    .dataframe tbody tr th:only-of-type {\n",
              "        vertical-align: middle;\n",
              "    }\n",
              "\n",
              "    .dataframe tbody tr th {\n",
              "        vertical-align: top;\n",
              "    }\n",
              "\n",
              "    .dataframe thead th {\n",
              "        text-align: right;\n",
              "    }\n",
              "</style>\n",
              "<table border=\"1\" class=\"dataframe\">\n",
              "  <thead>\n",
              "    <tr style=\"text-align: right;\">\n",
              "      <th></th>\n",
              "      <th>PatientId</th>\n",
              "      <th>AppointmentID</th>\n",
              "      <th>Gender</th>\n",
              "      <th>ScheduledDay</th>\n",
              "      <th>AppointmentDay</th>\n",
              "      <th>Age</th>\n",
              "      <th>Neighbourhood</th>\n",
              "      <th>Scholarship</th>\n",
              "      <th>Hipertension</th>\n",
              "      <th>Diabetes</th>\n",
              "      <th>Alcoholism</th>\n",
              "      <th>Handcap</th>\n",
              "      <th>SMS_received</th>\n",
              "      <th>No-show</th>\n",
              "    </tr>\n",
              "  </thead>\n",
              "  <tbody>\n",
              "    <tr>\n",
              "      <th>99832</th>\n",
              "      <td>4.659432e+14</td>\n",
              "      <td>5775010</td>\n",
              "      <td>F</td>\n",
              "      <td>2016-06-06T08:58:13Z</td>\n",
              "      <td>2016-06-06T00:00:00Z</td>\n",
              "      <td>-1</td>\n",
              "      <td>ROMÃO</td>\n",
              "      <td>0</td>\n",
              "      <td>0</td>\n",
              "      <td>0</td>\n",
              "      <td>0</td>\n",
              "      <td>0</td>\n",
              "      <td>0</td>\n",
              "      <td>No</td>\n",
              "    </tr>\n",
              "  </tbody>\n",
              "</table>\n",
              "</div>"
            ],
            "text/plain": [
              "          PatientId  AppointmentID Gender  ... Handcap SMS_received  No-show\n",
              "99832  4.659432e+14        5775010      F  ...       0            0       No\n",
              "\n",
              "[1 rows x 14 columns]"
            ]
          },
          "metadata": {
            "tags": []
          },
          "execution_count": 130
        }
      ]
    },
    {
      "cell_type": "code",
      "metadata": {
        "id": "gi2GHc28uHOk",
        "colab_type": "code",
        "colab": {}
      },
      "source": [
        "# Dropping the person with age '-1'\n",
        "df1=df.drop(df.index[[99832]])"
      ],
      "execution_count": 0,
      "outputs": []
    },
    {
      "cell_type": "code",
      "metadata": {
        "id": "v9eJJMawuuQC",
        "colab_type": "code",
        "colab": {}
      },
      "source": [
        "# Binning ages into categories: Youth [0-17), \n",
        "bins = [18, 37, 55, 116]\n",
        "bin_names = ['Youth', 'Adult', 'Senior']\n",
        "new_cats = pd.cut(df1['Age'], bins,labels=bin_names,right=False)"
      ],
      "execution_count": 0,
      "outputs": []
    },
    {
      "cell_type": "code",
      "metadata": {
        "id": "xo12Db4gwTva",
        "colab_type": "code",
        "colab": {}
      },
      "source": [
        "df1['Age_Cat']=new_cats"
      ],
      "execution_count": 0,
      "outputs": []
    },
    {
      "cell_type": "code",
      "metadata": {
        "id": "jDL9kGm-wbZy",
        "colab_type": "code",
        "outputId": "dd08ab97-4341-41e8-a0c3-22f0bdde88ce",
        "colab": {
          "base_uri": "https://localhost:8080/",
          "height": 457
        }
      },
      "source": [
        "# Visualizing the relationship between age and gender on no-shows with boxplot\n",
        "import seaborn as sns\n",
        "import matplotlib.pyplot as plt\n",
        "plt.figure(figsize=(7,7))\n",
        "plot=sns.boxplot(data=df1,x='Gender',y='Age',hue='No-show')\n",
        "plot_title=plt.title('Affect of Age & Gender on No-show Appointments')"
      ],
      "execution_count": 134,
      "outputs": [
        {
          "output_type": "display_data",
          "data": {
            "image/png": "[encoded data removed]",
            "text/plain": [
              "<Figure size 504x504 with 1 Axes>"
            ]
          },
          "metadata": {
            "tags": [],
            "needs_background": "light"
          }
        }
      ]
    },
    {
      "cell_type": "markdown",
      "metadata": {
        "id": "8sRaRZRrbtOb",
        "colab_type": "text"
      },
      "source": [
        "We see that across both genders the no-shows people are generally little older than people who shows up. Also the variation in age-groups for both show and no-show is little greater in case of male compared to females as they have greater IQR of age distribution."
      ]
    },
    {
      "cell_type": "markdown",
      "metadata": {
        "id": "yylPLrHTDtfr",
        "colab_type": "text"
      },
      "source": [
        "We need to perform Hypothesis Testing to see if the tendency/behaviour of both the Genders across varying age is same for turning-up or missing the appointment."
      ]
    },
    {
      "cell_type": "code",
      "metadata": {
        "id": "WJoZXknYb7x3",
        "colab_type": "code",
        "outputId": "1afa8247-0f14-43d9-a5e1-649520ed9090",
        "colab": {
          "base_uri": "https://localhost:8080/",
          "height": 197
        }
      },
      "source": [
        "df2=df1[['Age','No-show','Gender']]\n",
        "df2.head()"
      ],
      "execution_count": 135,
      "outputs": [
        {
          "output_type": "execute_result",
          "data": {
            "text/html": [
              "<div>\n",
              "<style scoped>\n",
              "    .dataframe tbody tr th:only-of-type {\n",
              "        vertical-align: middle;\n",
              "    }\n",
              "\n",
              "    .dataframe tbody tr th {\n",
              "        vertical-align: top;\n",
              "    }\n",
              "\n",
              "    .dataframe thead th {\n",
              "        text-align: right;\n",
              "    }\n",
              "</style>\n",
              "<table border=\"1\" class=\"dataframe\">\n",
              "  <thead>\n",
              "    <tr style=\"text-align: right;\">\n",
              "      <th></th>\n",
              "      <th>Age</th>\n",
              "      <th>No-show</th>\n",
              "      <th>Gender</th>\n",
              "    </tr>\n",
              "  </thead>\n",
              "  <tbody>\n",
              "    <tr>\n",
              "      <th>0</th>\n",
              "      <td>62</td>\n",
              "      <td>No</td>\n",
              "      <td>F</td>\n",
              "    </tr>\n",
              "    <tr>\n",
              "      <th>1</th>\n",
              "      <td>56</td>\n",
              "      <td>No</td>\n",
              "      <td>M</td>\n",
              "    </tr>\n",
              "    <tr>\n",
              "      <th>2</th>\n",
              "      <td>62</td>\n",
              "      <td>No</td>\n",
              "      <td>F</td>\n",
              "    </tr>\n",
              "    <tr>\n",
              "      <th>3</th>\n",
              "      <td>8</td>\n",
              "      <td>No</td>\n",
              "      <td>F</td>\n",
              "    </tr>\n",
              "    <tr>\n",
              "      <th>4</th>\n",
              "      <td>56</td>\n",
              "      <td>No</td>\n",
              "      <td>F</td>\n",
              "    </tr>\n",
              "  </tbody>\n",
              "</table>\n",
              "</div>"
            ],
            "text/plain": [
              "   Age No-show Gender\n",
              "0   62      No      F\n",
              "1   56      No      M\n",
              "2   62      No      F\n",
              "3    8      No      F\n",
              "4   56      No      F"
            ]
          },
          "metadata": {
            "tags": []
          },
          "execution_count": 135
        }
      ]
    },
    {
      "cell_type": "code",
      "metadata": {
        "id": "vl_nZ3EsTT7V",
        "colab_type": "code",
        "colab": {}
      },
      "source": [
        "# Calculating Percentage of People Across Gender who shows and don't show up\n",
        "df3=df2.groupby('Gender')['No-show'].value_counts(normalize=True).reset_index(name='NoshowPerc')\n",
        "df3['NoshowPerc']*=100"
      ],
      "execution_count": 0,
      "outputs": []
    },
    {
      "cell_type": "code",
      "metadata": {
        "id": "ogl1frqVU-PY",
        "colab_type": "code",
        "colab": {}
      },
      "source": [
        "df3['Age']=df2.groupby(['Gender','No-show'])['Age'].mean().reset_index()['Age']"
      ],
      "execution_count": 0,
      "outputs": []
    },
    {
      "cell_type": "code",
      "metadata": {
        "id": "r_dwI2-nVVwJ",
        "colab_type": "code",
        "outputId": "08101aeb-11e1-443a-93fd-1f4c8f37c845",
        "colab": {
          "base_uri": "https://localhost:8080/",
          "height": 167
        }
      },
      "source": [
        "# This DataFrame contains mean age of both the Genders in the DataFrame and the percentage of people turning up/ not turning up for appointment.\n",
        "df3"
      ],
      "execution_count": 138,
      "outputs": [
        {
          "output_type": "execute_result",
          "data": {
            "text/html": [
              "<div>\n",
              "<style scoped>\n",
              "    .dataframe tbody tr th:only-of-type {\n",
              "        vertical-align: middle;\n",
              "    }\n",
              "\n",
              "    .dataframe tbody tr th {\n",
              "        vertical-align: top;\n",
              "    }\n",
              "\n",
              "    .dataframe thead th {\n",
              "        text-align: right;\n",
              "    }\n",
              "</style>\n",
              "<table border=\"1\" class=\"dataframe\">\n",
              "  <thead>\n",
              "    <tr style=\"text-align: right;\">\n",
              "      <th></th>\n",
              "      <th>Gender</th>\n",
              "      <th>No-show</th>\n",
              "      <th>NoshowPerc</th>\n",
              "      <th>Age</th>\n",
              "    </tr>\n",
              "  </thead>\n",
              "  <tbody>\n",
              "    <tr>\n",
              "      <th>0</th>\n",
              "      <td>F</td>\n",
              "      <td>No</td>\n",
              "      <td>79.685129</td>\n",
              "      <td>39.591126</td>\n",
              "    </tr>\n",
              "    <tr>\n",
              "      <th>1</th>\n",
              "      <td>F</td>\n",
              "      <td>Yes</td>\n",
              "      <td>20.314871</td>\n",
              "      <td>36.162190</td>\n",
              "    </tr>\n",
              "    <tr>\n",
              "      <th>2</th>\n",
              "      <td>M</td>\n",
              "      <td>No</td>\n",
              "      <td>80.032052</td>\n",
              "      <td>34.461372</td>\n",
              "    </tr>\n",
              "    <tr>\n",
              "      <th>3</th>\n",
              "      <td>M</td>\n",
              "      <td>Yes</td>\n",
              "      <td>19.967948</td>\n",
              "      <td>30.833010</td>\n",
              "    </tr>\n",
              "  </tbody>\n",
              "</table>\n",
              "</div>"
            ],
            "text/plain": [
              "  Gender No-show  NoshowPerc        Age\n",
              "0      F      No   79.685129  39.591126\n",
              "1      F     Yes   20.314871  36.162190\n",
              "2      M      No   80.032052  34.461372\n",
              "3      M     Yes   19.967948  30.833010"
            ]
          },
          "metadata": {
            "tags": []
          },
          "execution_count": 138
        }
      ]
    },
    {
      "cell_type": "markdown",
      "metadata": {
        "id": "CBxVXt99ETgy",
        "colab_type": "text"
      },
      "source": [
        "We will perform **Chi-Square Test of Independence** to see if the two groups (male and female) have the same characterisitcs.\n",
        "\n",
        "**Null Hypothesis (H_0):** There is no difference among Genders across different ages on their tendency to miss appointments.\n",
        "\n",
        "**Alternate Hypothesis (H_a):** There is difference among Genders across different ages on their tendency to miss appointments."
      ]
    },
    {
      "cell_type": "code",
      "metadata": {
        "id": "xMQQ_26FXY0u",
        "colab_type": "code",
        "colab": {}
      },
      "source": [
        "# Preparing Data for Hypothesis Testing\n",
        "F=np.hstack([df3.iloc[0,2:4],df3.iloc[1,2:4]])\n",
        "M=np.hstack([df3.iloc[2,2:4],df3.iloc[3,2:4]])"
      ],
      "execution_count": 0,
      "outputs": []
    },
    {
      "cell_type": "code",
      "metadata": {
        "id": "4XDV1flt1AmA",
        "colab_type": "code",
        "outputId": "731b82d5-96ad-4dd3-f121-2669f747f3f3",
        "colab": {
          "base_uri": "https://localhost:8080/",
          "height": 34
        }
      },
      "source": [
        "# Performing the Hypothesis Test\n",
        "import scipy.stats as stats\n",
        "arr=np.array([F,M])\n",
        "chi_sq_stat,p_value,deg_freedom,exp_freq=stats.chi2_contingency(arr)\n",
        "print('The t-statistic is {}, the p value is {}.'.format(chi_sq_stat,p_value))"
      ],
      "execution_count": 140,
      "outputs": [
        {
          "output_type": "stream",
          "text": [
            "The t-statistic is 0.4626925344550018, the p value is 0.9270078322939971.\n"
          ],
          "name": "stdout"
        }
      ]
    },
    {
      "cell_type": "markdown",
      "metadata": {
        "id": "thqq3vSNDFUS",
        "colab_type": "text"
      },
      "source": [
        "The p value is greater than 0.05 so we fail to reject the null hypothesis. So there isn't much difference between the two Genders of varying age who turn-up or misses the appointment."
      ]
    },
    {
      "cell_type": "markdown",
      "metadata": {
        "id": "C5tMi5TTb7Bw",
        "colab_type": "text"
      },
      "source": [
        "# Q2. What is the impact of Scholarship on Showing up for Appointments?"
      ]
    },
    {
      "cell_type": "code",
      "metadata": {
        "id": "7MBKh_ob5_Ys",
        "colab_type": "code",
        "outputId": "9e4e0800-8c70-4446-aa21-8b3bffe407b3",
        "colab": {
          "base_uri": "https://localhost:8080/",
          "height": 286
        }
      },
      "source": [
        "# Visualizing the tendency of proportion of people who got the scholarship \n",
        "df[df['Scholarship']==1]['No-show'].value_counts(normalize=True).plot(kind='bar',color=['b','r'])\n",
        "plt_tit=plt.title('Proportion of Scholarship Receiver\\'s Who Turns up & Who Don\\'t ')"
      ],
      "execution_count": 141,
      "outputs": [
        {
          "output_type": "display_data",
          "data": {
            "image/png": "[encoded data removed]",
            "text/plain": [
              "<Figure size 432x288 with 1 Axes>"
            ]
          },
          "metadata": {
            "tags": [],
            "needs_background": "light"
          }
        }
      ]
    },
    {
      "cell_type": "markdown",
      "metadata": {
        "id": "8G4UB8j9ExPA",
        "colab_type": "text"
      },
      "source": [
        "We can see most of the people who receive the scholarship turns up for appointments."
      ]
    },
    {
      "cell_type": "markdown",
      "metadata": {
        "id": "HPrR3xrxFH6Y",
        "colab_type": "text"
      },
      "source": [
        ""
      ]
    },
    {
      "cell_type": "code",
      "metadata": {
        "id": "p7CKFvVQFIRL",
        "colab_type": "code",
        "colab": {
          "base_uri": "https://localhost:8080/",
          "height": 286
        },
        "outputId": "70e1e657-c3a2-4a03-f6f0-ea9539076bdc"
      },
      "source": [
        "df[df['Scholarship']==0]['No-show'].value_counts(normalize=True).plot(kind='bar',color=['b','r'])\n",
        "plt_tit=plt.title('Proportion of Non-Scholarship Receiver\\'s Who Turns up & Who Don\\'t ')"
      ],
      "execution_count": 142,
      "outputs": [
        {
          "output_type": "display_data",
          "data": {
            "image/png": "[encoded data removed]",
            "text/plain": [
              "<Figure size 432x288 with 1 Axes>"
            ]
          },
          "metadata": {
            "tags": [],
            "needs_background": "light"
          }
        }
      ]
    },
    {
      "cell_type": "code",
      "metadata": {
        "id": "JxBzxX6jGp6G",
        "colab_type": "code",
        "colab": {
          "base_uri": "https://localhost:8080/",
          "height": 70
        },
        "outputId": "bfc8ca33-020e-4353-ca8e-e312c73b4675"
      },
      "source": [
        "df[df['Scholarship']==1]['No-show'].value_counts(normalize=True)"
      ],
      "execution_count": 143,
      "outputs": [
        {
          "output_type": "execute_result",
          "data": {
            "text/plain": [
              "No     0.762637\n",
              "Yes    0.237363\n",
              "Name: No-show, dtype: float64"
            ]
          },
          "metadata": {
            "tags": []
          },
          "execution_count": 143
        }
      ]
    },
    {
      "cell_type": "code",
      "metadata": {
        "id": "IGbIq0GWGuNy",
        "colab_type": "code",
        "colab": {
          "base_uri": "https://localhost:8080/",
          "height": 70
        },
        "outputId": "eb610fe6-7a66-4d45-e53b-45aed1e0f7ce"
      },
      "source": [
        "df[df['Scholarship']==0]['No-show'].value_counts(normalize=True)"
      ],
      "execution_count": 144,
      "outputs": [
        {
          "output_type": "execute_result",
          "data": {
            "text/plain": [
              "No     0.801928\n",
              "Yes    0.198072\n",
              "Name: No-show, dtype: float64"
            ]
          },
          "metadata": {
            "tags": []
          },
          "execution_count": 144
        }
      ]
    },
    {
      "cell_type": "markdown",
      "metadata": {
        "id": "Uyb85-tQJ9SM",
        "colab_type": "text"
      },
      "source": [
        "The proportion of people who received don't receive scholarship but turned up are greater than those who received the scholarship and turned up. We need to perform Hypothesis Test ( **Two- proportion Test** ) here to see if the difference is significant."
      ]
    },
    {
      "cell_type": "markdown",
      "metadata": {
        "id": "OtA0ZD8LbZ5i",
        "colab_type": "text"
      },
      "source": [
        "**Null Hypothesis(H_0):** Proportion of People who don't receive scholarship and show up for appointments is same to those who show up for appointments bur not receive scholarship.\n",
        "\n",
        "**Alternate Hypothesis(H_a):** Proportion of People who show up for appointments but who don't receive scholarship is greater than those who show up for appointments and  receive scholarship."
      ]
    },
    {
      "cell_type": "code",
      "metadata": {
        "id": "lpDtgKSYG7Q5",
        "colab_type": "code",
        "colab": {
          "base_uri": "https://localhost:8080/",
          "height": 167
        },
        "outputId": "48aa8947-1c5f-4575-c70f-9a5314f26a00"
      },
      "source": [
        "df5=df.pivot_table(index='Scholarship',columns='No-show',aggfunc={'No-show':'count'})\n",
        "df5"
      ],
      "execution_count": 145,
      "outputs": [
        {
          "output_type": "execute_result",
          "data": {
            "text/html": [
              "<div>\n",
              "<style scoped>\n",
              "    .dataframe tbody tr th:only-of-type {\n",
              "        vertical-align: middle;\n",
              "    }\n",
              "\n",
              "    .dataframe tbody tr th {\n",
              "        vertical-align: top;\n",
              "    }\n",
              "\n",
              "    .dataframe thead tr th {\n",
              "        text-align: left;\n",
              "    }\n",
              "\n",
              "    .dataframe thead tr:last-of-type th {\n",
              "        text-align: right;\n",
              "    }\n",
              "</style>\n",
              "<table border=\"1\" class=\"dataframe\">\n",
              "  <thead>\n",
              "    <tr>\n",
              "      <th></th>\n",
              "      <th colspan=\"2\" halign=\"left\">No-show</th>\n",
              "    </tr>\n",
              "    <tr>\n",
              "      <th>No-show</th>\n",
              "      <th>No</th>\n",
              "      <th>Yes</th>\n",
              "    </tr>\n",
              "    <tr>\n",
              "      <th>Scholarship</th>\n",
              "      <th></th>\n",
              "      <th></th>\n",
              "    </tr>\n",
              "  </thead>\n",
              "  <tbody>\n",
              "    <tr>\n",
              "      <th>0</th>\n",
              "      <td>79925</td>\n",
              "      <td>19741</td>\n",
              "    </tr>\n",
              "    <tr>\n",
              "      <th>1</th>\n",
              "      <td>8283</td>\n",
              "      <td>2578</td>\n",
              "    </tr>\n",
              "  </tbody>\n",
              "</table>\n",
              "</div>"
            ],
            "text/plain": [
              "            No-show       \n",
              "No-show          No    Yes\n",
              "Scholarship               \n",
              "0             79925  19741\n",
              "1              8283   2578"
            ]
          },
          "metadata": {
            "tags": []
          },
          "execution_count": 145
        }
      ]
    },
    {
      "cell_type": "code",
      "metadata": {
        "id": "-06EcswaHSCx",
        "colab_type": "code",
        "colab": {
          "base_uri": "https://localhost:8080/",
          "height": 34
        },
        "outputId": "cadfaf8e-3aa4-4f34-a043-9e34e675f9f4"
      },
      "source": [
        "k0=np.array(df5.sum(axis=1))\n",
        "k0"
      ],
      "execution_count": 146,
      "outputs": [
        {
          "output_type": "execute_result",
          "data": {
            "text/plain": [
              "array([99666, 10861])"
            ]
          },
          "metadata": {
            "tags": []
          },
          "execution_count": 146
        }
      ]
    },
    {
      "cell_type": "code",
      "metadata": {
        "id": "PSW_7opaHE25",
        "colab_type": "code",
        "colab": {
          "base_uri": "https://localhost:8080/",
          "height": 34
        },
        "outputId": "b30cf413-d95e-4762-aec5-aea6671b2b6b"
      },
      "source": [
        "# Performing Hypothesis Test\n",
        "from statsmodels.stats.proportion import proportions_ztest\n",
        "stats,p_val=proportions_ztest(np.array([df5.iloc[0,0],df5.iloc[1,0]]),np.array([k0[0],k0[1]]),alternative='larger')\n",
        "print('test statistic is {} and p value is {}'.format(stats,p_val))"
      ],
      "execution_count": 147,
      "outputs": [
        {
          "output_type": "stream",
          "text": [
            "test statistic is 9.686116323906157 and p value is 1.727070718058399e-22\n"
          ],
          "name": "stdout"
        }
      ]
    },
    {
      "cell_type": "markdown",
      "metadata": {
        "id": "277OyRd-KckN",
        "colab_type": "text"
      },
      "source": [
        "So according to result we reject the Null Hypothesis in favour of Alternate Hypothesis and conclude that the proportion of people who turned up even after not receiving scholarship is much greater than people who turned up after receiving scholarship.\n",
        "\n",
        "**Hence Scholarship has no significant effect on decreasing no shows among patients.**"
      ]
    },
    {
      "cell_type": "markdown",
      "metadata": {
        "id": "sPs_BDb5FYz8",
        "colab_type": "text"
      },
      "source": [
        "Even majority of proportion of those who don't receive the scholarship, turn up for appointment."
      ]
    },
    {
      "cell_type": "markdown",
      "metadata": {
        "id": "lIuIA1jMMD9N",
        "colab_type": "text"
      },
      "source": [
        "# Does SMS Alert received for the appointment help in reducing no-show?"
      ]
    },
    {
      "cell_type": "markdown",
      "metadata": {
        "id": "8qqpNB98cds2",
        "colab_type": "text"
      },
      "source": [
        ""
      ]
    },
    {
      "cell_type": "code",
      "metadata": {
        "id": "WygDSOm1-k3t",
        "colab_type": "code",
        "outputId": "c360e5f1-e3a2-4646-916a-8dc6a9170551",
        "colab": {
          "base_uri": "https://localhost:8080/",
          "height": 286
        }
      },
      "source": [
        "# Checking proportion of people not receiving SMS alert turning-up\n",
        "df[df['SMS_received']==0]['No-show'].value_counts(normalize=True).plot(kind='bar',color=['b','r'])\n",
        "plt_tit1=plt.title('Proportion of Non-SMS Receiver\\'s Who Turns up & Who Don\\'t ')"
      ],
      "execution_count": 148,
      "outputs": [
        {
          "output_type": "display_data",
          "data": {
            "image/png": "[encoded data removed]",
            "text/plain": [
              "<Figure size 432x288 with 1 Axes>"
            ]
          },
          "metadata": {
            "tags": [],
            "needs_background": "light"
          }
        }
      ]
    },
    {
      "cell_type": "code",
      "metadata": {
        "id": "EgdjfkKwYUbQ",
        "colab_type": "code",
        "outputId": "02baf598-0f37-403c-b9d1-d176f4f25958",
        "colab": {
          "base_uri": "https://localhost:8080/",
          "height": 286
        }
      },
      "source": [
        "# Checking proportion of people receiving SMS alert turning-up\n",
        "df[df['SMS_received']==1]['No-show'].value_counts(normalize=True).plot(kind='bar',color=['b','r'])\n",
        "plt_tit1=plt.title('Proportion of SMS Receiver\\'s Who Turns up & Who Don\\'t ')"
      ],
      "execution_count": 149,
      "outputs": [
        {
          "output_type": "display_data",
          "data": {
            "image/png": "[encoded data removed]",
            "text/plain": [
              "<Figure size 432x288 with 1 Axes>"
            ]
          },
          "metadata": {
            "tags": [],
            "needs_background": "light"
          }
        }
      ]
    },
    {
      "cell_type": "markdown",
      "metadata": {
        "id": "1eWnxscCMeoh",
        "colab_type": "text"
      },
      "source": [
        "We need to perfom Hypothesis Testing to figure out if SMS alert has significant effect on reducing no show appointments. We will again perform **Two-Proportion Test** Here."
      ]
    },
    {
      "cell_type": "markdown",
      "metadata": {
        "id": "pLeQ4Lktb4rf",
        "colab_type": "text"
      },
      "source": [
        "**Null Hypothesis(H_0):** The proportion of people who receive SMS and turn up for appointments is same as those who not receive SMS but also turn up.\n",
        "\n",
        "**Alternate Hypothesis(H_a):** The proportion of people who receive SMS and turn up for appointments is not same as those who not receive SMS but also turn up."
      ]
    },
    {
      "cell_type": "code",
      "metadata": {
        "id": "8l5CZKijL4Ws",
        "colab_type": "code",
        "outputId": "c991f764-bf40-4dd8-c3f7-62dd0c2c72c8",
        "colab": {
          "base_uri": "https://localhost:8080/",
          "height": 167
        }
      },
      "source": [
        "df4=df.pivot_table(index='SMS_received',columns='No-show',aggfunc={'No-show':'count'})\n",
        "df4"
      ],
      "execution_count": 150,
      "outputs": [
        {
          "output_type": "execute_result",
          "data": {
            "text/html": [
              "<div>\n",
              "<style scoped>\n",
              "    .dataframe tbody tr th:only-of-type {\n",
              "        vertical-align: middle;\n",
              "    }\n",
              "\n",
              "    .dataframe tbody tr th {\n",
              "        vertical-align: top;\n",
              "    }\n",
              "\n",
              "    .dataframe thead tr th {\n",
              "        text-align: left;\n",
              "    }\n",
              "\n",
              "    .dataframe thead tr:last-of-type th {\n",
              "        text-align: right;\n",
              "    }\n",
              "</style>\n",
              "<table border=\"1\" class=\"dataframe\">\n",
              "  <thead>\n",
              "    <tr>\n",
              "      <th></th>\n",
              "      <th colspan=\"2\" halign=\"left\">No-show</th>\n",
              "    </tr>\n",
              "    <tr>\n",
              "      <th>No-show</th>\n",
              "      <th>No</th>\n",
              "      <th>Yes</th>\n",
              "    </tr>\n",
              "    <tr>\n",
              "      <th>SMS_received</th>\n",
              "      <th></th>\n",
              "      <th></th>\n",
              "    </tr>\n",
              "  </thead>\n",
              "  <tbody>\n",
              "    <tr>\n",
              "      <th>0</th>\n",
              "      <td>62510</td>\n",
              "      <td>12535</td>\n",
              "    </tr>\n",
              "    <tr>\n",
              "      <th>1</th>\n",
              "      <td>25698</td>\n",
              "      <td>9784</td>\n",
              "    </tr>\n",
              "  </tbody>\n",
              "</table>\n",
              "</div>"
            ],
            "text/plain": [
              "             No-show       \n",
              "No-show           No    Yes\n",
              "SMS_received               \n",
              "0              62510  12535\n",
              "1              25698   9784"
            ]
          },
          "metadata": {
            "tags": []
          },
          "execution_count": 150
        }
      ]
    },
    {
      "cell_type": "code",
      "metadata": {
        "id": "IoWYNIoAaAkS",
        "colab_type": "code",
        "colab": {}
      },
      "source": [
        "k1=np.array(df4.sum(axis=1))\n"
      ],
      "execution_count": 0,
      "outputs": []
    },
    {
      "cell_type": "code",
      "metadata": {
        "id": "-J9ouXyYOf6s",
        "colab_type": "code",
        "outputId": "74eff378-2149-4e55-b9c4-9575d9f2c464",
        "colab": {
          "base_uri": "https://localhost:8080/",
          "height": 52
        }
      },
      "source": [
        "from statsmodels.stats.proportion import proportions_ztest\n",
        "print('Proportion of people who receive SMS and show up is {} and who don\\'t receive SMS and show up is {}'.format(df4.iloc[0,0]/k1[0],df4.iloc[1,0]/k1[1]))\n",
        "stats,p_val=proportions_ztest([df4.iloc[0,0],df4.iloc[1,0]],[k1[0],k1[1]])\n",
        "print('test statistic is {} and p value is {}'.format(stats,p_val))"
      ],
      "execution_count": 152,
      "outputs": [
        {
          "output_type": "stream",
          "text": [
            "Proportion of people who receive SMS and show up is 0.8329668865347458 and who don't receive SMS and show up is 0.7242545516036301\n",
            "test statistic is 42.03263222747829 and p value is 0.0\n"
          ],
          "name": "stdout"
        }
      ]
    },
    {
      "cell_type": "markdown",
      "metadata": {
        "id": "D5ztJX2QM0CH",
        "colab_type": "text"
      },
      "source": [
        "As before we again do the same procedure and perform Hypothesis Testing and reject the null hypothesis in favour of alternate hypothesis. **We conclude that SMS have a good impact on reducing no-show appointments.**"
      ]
    },
    {
      "cell_type": "markdown",
      "metadata": {
        "id": "xdleSYDhNLB2",
        "colab_type": "text"
      },
      "source": [
        "# How much people with very critical health condition miss their appointments?\n",
        "\n"
      ]
    },
    {
      "cell_type": "markdown",
      "metadata": {
        "id": "iUJ21em2UuqJ",
        "colab_type": "text"
      },
      "source": [
        "Here we will see how many patients with critical health condition do not turn up. Here critical conditions means patients victims of one or more of the mentioned diseases in the dataset i.e, **HiperTension** , **Diabetes** or **Alcoholism**. "
      ]
    },
    {
      "cell_type": "code",
      "metadata": {
        "id": "yZr5vaI9HPAV",
        "colab_type": "code",
        "colab": {}
      },
      "source": [
        "# Sum disease denotes count of people with critical health conditions. Those who possess one of the above mentioned disease have 1 in thier respective row otherwise 0. So we can add\n",
        "# them up for all patients. If it comes up 0 then the patient is not victim of above disease otherwise thwy might have one of them(1- Little more Critical), \n",
        "# combination of two of them(2- Quite Critical) or all three of them(3- Most Critical)\n",
        "df['Sum_Disease']=df['Hipertension']+df['Diabetes']+df['Alcoholism']"
      ],
      "execution_count": 0,
      "outputs": []
    },
    {
      "cell_type": "code",
      "metadata": {
        "id": "--ka5y-5Rty5",
        "colab_type": "code",
        "colab": {}
      },
      "source": [
        "# Creating a dataframe of only those who don't turn up \n",
        "df1=df[df['No-show']=='Yes']"
      ],
      "execution_count": 0,
      "outputs": []
    },
    {
      "cell_type": "code",
      "metadata": {
        "id": "HorIQKBDSzQY",
        "colab_type": "code",
        "colab": {
          "base_uri": "https://localhost:8080/",
          "height": 167
        },
        "outputId": "01f589c0-4109-41a2-ed54-10626b878886"
      },
      "source": [
        "# Grouping by proportion of patients with different critical level who don't show up\n",
        "df2=df1.groupby(df['No-show'])['Sum_Disease'].value_counts(normalize=True).reset_index(name='No-show_Prop')\n",
        "df2"
      ],
      "execution_count": 155,
      "outputs": [
        {
          "output_type": "execute_result",
          "data": {
            "text/html": [
              "<div>\n",
              "<style scoped>\n",
              "    .dataframe tbody tr th:only-of-type {\n",
              "        vertical-align: middle;\n",
              "    }\n",
              "\n",
              "    .dataframe tbody tr th {\n",
              "        vertical-align: top;\n",
              "    }\n",
              "\n",
              "    .dataframe thead th {\n",
              "        text-align: right;\n",
              "    }\n",
              "</style>\n",
              "<table border=\"1\" class=\"dataframe\">\n",
              "  <thead>\n",
              "    <tr style=\"text-align: right;\">\n",
              "      <th></th>\n",
              "      <th>No-show</th>\n",
              "      <th>Sum_Disease</th>\n",
              "      <th>No-show_Prop</th>\n",
              "    </tr>\n",
              "  </thead>\n",
              "  <tbody>\n",
              "    <tr>\n",
              "      <th>0</th>\n",
              "      <td>Yes</td>\n",
              "      <td>0</td>\n",
              "      <td>0.799229</td>\n",
              "    </tr>\n",
              "    <tr>\n",
              "      <th>1</th>\n",
              "      <td>Yes</td>\n",
              "      <td>1</td>\n",
              "      <td>0.140194</td>\n",
              "    </tr>\n",
              "    <tr>\n",
              "      <th>2</th>\n",
              "      <td>Yes</td>\n",
              "      <td>2</td>\n",
              "      <td>0.058515</td>\n",
              "    </tr>\n",
              "    <tr>\n",
              "      <th>3</th>\n",
              "      <td>Yes</td>\n",
              "      <td>3</td>\n",
              "      <td>0.002061</td>\n",
              "    </tr>\n",
              "  </tbody>\n",
              "</table>\n",
              "</div>"
            ],
            "text/plain": [
              "  No-show  Sum_Disease  No-show_Prop\n",
              "0     Yes            0      0.799229\n",
              "1     Yes            1      0.140194\n",
              "2     Yes            2      0.058515\n",
              "3     Yes            3      0.002061"
            ]
          },
          "metadata": {
            "tags": []
          },
          "execution_count": 155
        }
      ]
    },
    {
      "cell_type": "code",
      "metadata": {
        "id": "11KFstRHQmR0",
        "colab_type": "code",
        "colab": {
          "base_uri": "https://localhost:8080/",
          "height": 277
        },
        "outputId": "4eddd8ac-463d-41b8-db52-98d1a4e73751"
      },
      "source": [
        "df1.groupby(df['No-show'])['Sum_Disease'].value_counts(normalize=True).reset_index(name='No-show_Prop')['No-show_Prop'].plot(kind='bar')\n",
        "plt.ylim(0,1)\n",
        "for i, v in enumerate(df2['No-show_Prop'].tolist()):\n",
        "    plt.text( i-0.1,v+0.0393, str(round(v,3)), color='black',fontsize=12)\n",
        "g3=plt.title('Proportion of People with Critical Health Conditions No-show')"
      ],
      "execution_count": 156,
      "outputs": [
        {
          "output_type": "display_data",
          "data": {
            "image/png": "[encoded data removed]",
            "text/plain": [
              "<Figure size 432x288 with 1 Axes>"
            ]
          },
          "metadata": {
            "tags": [],
            "needs_background": "light"
          }
        }
      ]
    },
    {
      "cell_type": "markdown",
      "metadata": {
        "id": "aPzeyEYyUAIx",
        "colab_type": "text"
      },
      "source": [
        "We see that almost all of people who have very critical health condition (2,3) don't usually miss their appointments, which is a very good thing. \n",
        "\n",
        "Focus should be made on people who are not that critical.They tend to miss up appointments more. 14 % People with 1 critical disease miss up appointments. We should target this group first as neglecting medical attention may later complicate the situation."
      ]
    },
    {
      "cell_type": "code",
      "metadata": {
        "id": "51xNgpB6OLoJ",
        "colab_type": "code",
        "colab": {
          "base_uri": "https://localhost:8080/",
          "height": 137
        },
        "outputId": "9a672405-f11a-447b-8d5b-a36dbaaae117"
      },
      "source": [
        "(pd.crosstab(df['No-show'],df['Sum_Disease']).iloc[1]/pd.crosstab(df['No-show'],df['Sum_Disease']))"
      ],
      "execution_count": 157,
      "outputs": [
        {
          "output_type": "execute_result",
          "data": {
            "text/html": [
              "<div>\n",
              "<style scoped>\n",
              "    .dataframe tbody tr th:only-of-type {\n",
              "        vertical-align: middle;\n",
              "    }\n",
              "\n",
              "    .dataframe tbody tr th {\n",
              "        vertical-align: top;\n",
              "    }\n",
              "\n",
              "    .dataframe thead th {\n",
              "        text-align: right;\n",
              "    }\n",
              "</style>\n",
              "<table border=\"1\" class=\"dataframe\">\n",
              "  <thead>\n",
              "    <tr style=\"text-align: right;\">\n",
              "      <th>Sum_Disease</th>\n",
              "      <th>0</th>\n",
              "      <th>1</th>\n",
              "      <th>2</th>\n",
              "      <th>3</th>\n",
              "    </tr>\n",
              "    <tr>\n",
              "      <th>No-show</th>\n",
              "      <th></th>\n",
              "      <th></th>\n",
              "      <th></th>\n",
              "      <th></th>\n",
              "    </tr>\n",
              "  </thead>\n",
              "  <tbody>\n",
              "    <tr>\n",
              "      <th>No</th>\n",
              "      <td>0.264368</td>\n",
              "      <td>0.216495</td>\n",
              "      <td>0.215121</td>\n",
              "      <td>0.219048</td>\n",
              "    </tr>\n",
              "    <tr>\n",
              "      <th>Yes</th>\n",
              "      <td>1.000000</td>\n",
              "      <td>1.000000</td>\n",
              "      <td>1.000000</td>\n",
              "      <td>1.000000</td>\n",
              "    </tr>\n",
              "  </tbody>\n",
              "</table>\n",
              "</div>"
            ],
            "text/plain": [
              "Sum_Disease         0         1         2         3\n",
              "No-show                                            \n",
              "No           0.264368  0.216495  0.215121  0.219048\n",
              "Yes          1.000000  1.000000  1.000000  1.000000"
            ]
          },
          "metadata": {
            "tags": []
          },
          "execution_count": 157
        }
      ]
    },
    {
      "cell_type": "markdown",
      "metadata": {
        "id": "PmJspsYeOduk",
        "colab_type": "text"
      },
      "source": [
        "# People of which neighbourhoods are more prone to no-show?"
      ]
    },
    {
      "cell_type": "code",
      "metadata": {
        "id": "WEnqEV5p4TnU",
        "colab_type": "code",
        "colab": {
          "base_uri": "https://localhost:8080/",
          "height": 987
        },
        "outputId": "dddd0102-3a7a-4d3f-8762-acf72199dd18"
      },
      "source": [
        "plt.figure(figsize=(10,17))\n",
        "df[df['No-show']=='Yes']['Neighbourhood'].value_counts(normalize=True)[::-1].plot(kind='barh',color='pink')\n",
        "plt.tit3=plt.title('Neighbourhoods(Rank-Wise) with Most Proportion of No-shows')"
      ],
      "execution_count": 158,
      "outputs": [
        {
          "output_type": "display_data",
          "data": {
            "image/png": "[encoded data removed]",
            "text/plain": [
              "<Figure size 720x1224 with 1 Axes>"
            ]
          },
          "metadata": {
            "tags": [],
            "needs_background": "light"
          }
        }
      ]
    },
    {
      "cell_type": "markdown",
      "metadata": {
        "id": "1VMBQL3iOlnr",
        "colab_type": "text"
      },
      "source": [
        "In the above barplot we can see the neighbourhood are arranged in descending order of their number of no-shows.Neighbourhood *JARDIM CAMBURI* has largest number of no-shows followed by others."
      ]
    },
    {
      "cell_type": "markdown",
      "metadata": {
        "id": "Sij3uclcY1hA",
        "colab_type": "text"
      },
      "source": [
        "# SUMMARY & INFERENCE\n",
        "\n",
        "1. There is not much differnce on characteristic of people across Gender of different ages on no-show.\n",
        "\n",
        "2. Scholarship failed to decrease no-show rate.\n",
        "\n",
        "3. SMS alert has positive imact on on show rate.\n",
        "\n",
        "4. Though people with very critical health condition do not generally miss their appointments but people will little critical health condition should also not miss them as it may later escalate their health issues."
      ]
    }
  ]
}
